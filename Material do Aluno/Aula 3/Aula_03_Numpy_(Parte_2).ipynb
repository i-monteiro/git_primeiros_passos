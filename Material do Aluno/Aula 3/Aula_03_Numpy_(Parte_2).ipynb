{
 "cells": [
  {
   "cell_type": "markdown",
   "metadata": {
    "application/vnd.databricks.v1+cell": {
     "cellMetadata": {},
     "inputWidgets": {},
     "nuid": "12e34781-393d-4671-b08c-a6b13e3ca015",
     "showTitle": false,
     "title": ""
    },
    "id": "BynXHfDzVwbT"
   },
   "source": [
    "# Aula 03 - NumPy (Parte II)"
   ]
  },
  {
   "cell_type": "markdown",
   "metadata": {
    "application/vnd.databricks.v1+cell": {
     "cellMetadata": {},
     "inputWidgets": {},
     "nuid": "07ffdebe-ec08-464a-8551-b38c1ec4fc7a",
     "showTitle": false,
     "title": ""
    },
    "id": "euPaPWKvVyV_"
   },
   "source": [
    "<img src=\"https://upload.wikimedia.org/wikipedia/commons/thumb/3/31/NumPy_logo_2020.svg/2560px-NumPy_logo_2020.svg.png\" alt=\"Alternative text\" />"
   ]
  },
  {
   "cell_type": "markdown",
   "metadata": {
    "application/vnd.databricks.v1+cell": {
     "cellMetadata": {},
     "inputWidgets": {},
     "nuid": "61d0fa0a-4634-4a18-9530-f9e1a7043bb9",
     "showTitle": false,
     "title": ""
    },
    "id": "QvXLUicLXBrY"
   },
   "source": [
    "____\n",
    "[Guia rápido de uso da biblioteca](https://numpy.org/devdocs/user/quickstart.html)\n",
    "\n",
    "[Guia para iniciantes](https://numpy.org/devdocs/user/absolute_beginners.html)"
   ]
  },
  {
   "cell_type": "markdown",
   "metadata": {
    "application/vnd.databricks.v1+cell": {
     "cellMetadata": {},
     "inputWidgets": {},
     "nuid": "850f9d11-4283-4ed0-8281-f94048850855",
     "showTitle": false,
     "title": ""
    },
    "id": "xYb4ALqnXDHk"
   },
   "source": [
    "____\n",
    "\n",
    "Na aula passada, vimos que:\n",
    "\n",
    "- um **array** é o elemento básico por meio do qual a biblioteca *numpy* opera;\n",
    "- este elemento **difere de uma lista**, por ser homogêneo e possibilitar cálculos de uma maneira altamente eficiente;\n",
    "- a **indexação** de arrays é muito similar àquela de listas;\n",
    "- a biblioteca *numpy* fornece ferramentas para gerar arrays baseados em distribuições estatísticas (como uniforme e normal) de maneira aleatória;\n",
    "- existem diversos métodos que sumarizam alguamas propriedades dos vetores, como *.mean()*, *.std()*, entre outros.\n",
    "\n",
    "Hoje, nós vamos explorar os conceitos de **filtros** e de **matrizes** com o numpy."
   ]
  },
  {
   "cell_type": "markdown",
   "metadata": {
    "application/vnd.databricks.v1+cell": {
     "cellMetadata": {},
     "inputWidgets": {},
     "nuid": "464e2fd4-6083-43ae-91ce-0706582f09bc",
     "showTitle": false,
     "title": ""
    },
    "id": "5I4C3C3IXHOP"
   },
   "source": [
    "____\n",
    "\n",
    "## 1. Filtros (máscaras)\n",
    "\n",
    "Uma das funções mais importantes do numpy é a possibilidade de construção de **filtros**, que também são chamados de **máscaras**.\n",
    "\n",
    "O objetivo dos filtros é **selecionar apenas os elementos de um array que satisfaçam determinada condição**:"
   ]
  },
  {
   "cell_type": "markdown",
   "metadata": {
    "application/vnd.databricks.v1+cell": {
     "cellMetadata": {},
     "inputWidgets": {},
     "nuid": "5103a322-b4e8-4d96-a361-38b06e1ff50d",
     "showTitle": false,
     "title": ""
    },
    "id": "cmvTiS_RXb29"
   },
   "source": [
    "Primeiro, vamos importar o numpy:"
   ]
  },
  {
   "cell_type": "code",
<<<<<<< HEAD
   "execution_count": 73,
=======
   "execution_count": 0,
>>>>>>> 55b74bd475c42d3d06807089ef97d5bc42a63d85
   "metadata": {
    "application/vnd.databricks.v1+cell": {
     "cellMetadata": {
      "byteLimit": 2048000,
      "rowLimit": 10000
     },
     "inputWidgets": {},
     "nuid": "3084fab8-e514-49de-9a49-4ea802f01dd1",
     "showTitle": false,
     "title": ""
    },
    "id": "YDnQLeJHSsMb"
   },
   "outputs": [],
   "source": [
    "import numpy as np"
   ]
  },
  {
   "cell_type": "code",
<<<<<<< HEAD
   "execution_count": 74,
=======
   "execution_count": 0,
>>>>>>> 55b74bd475c42d3d06807089ef97d5bc42a63d85
   "metadata": {
    "application/vnd.databricks.v1+cell": {
     "cellMetadata": {
      "byteLimit": 2048000,
      "rowLimit": 10000
     },
     "inputWidgets": {},
     "nuid": "2d0bc9a1-25e4-416f-a082-dd3cae788251",
     "showTitle": false,
     "title": ""
    },
    "id": "qCDhZ1maXfVl"
   },
<<<<<<< HEAD
   "outputs": [
    {
     "data": {
      "text/plain": [
       "array([0.37454012, 0.95071431, 0.73199394, 0.59865848, 0.15601864,\n",
       "       0.15599452, 0.05808361, 0.86617615, 0.60111501, 0.70807258,\n",
       "       0.02058449, 0.96990985, 0.83244264, 0.21233911, 0.18182497,\n",
       "       0.18340451, 0.30424224, 0.52475643, 0.43194502, 0.29122914])"
      ]
     },
     "execution_count": 74,
     "metadata": {},
     "output_type": "execute_result"
    }
   ],
   "source": [
    "#Definindo um array aleatório com a semente pseudoaleatória\n",
    "np.random.seed(42)\n",
    "\n",
    "arr = np.random.rand(20)\n",
    "\n",
    "arr"
   ]
  },
  {
   "cell_type": "markdown",
   "metadata": {
    "application/vnd.databricks.v1+cell": {
     "cellMetadata": {},
     "inputWidgets": {},
     "nuid": "c2651c6a-e878-466a-8589-b0a4dac20aa9",
     "showTitle": false,
     "title": ""
    },
    "id": "lk1LUVezYWzw"
   },
   "source": [
    "Vimos anteriormente que, se usarmos um **operador lógico** juntamente com um array, o numpy **aplica a operação lógica a cada um dos elementos do array**, retornando um **array de bools** com o resultado de cada uma das operações lógicas:"
   ]
  },
  {
   "cell_type": "code",
   "execution_count": 75,
   "metadata": {
    "application/vnd.databricks.v1+cell": {
     "cellMetadata": {
      "byteLimit": 2048000,
      "rowLimit": 10000
     },
     "inputWidgets": {},
     "nuid": "93d2974a-6bea-4e7d-ae61-ddd882f88099",
     "showTitle": false,
     "title": ""
    },
    "id": "fVkWlLIKYU_k"
   },
   "outputs": [
    {
     "data": {
      "text/plain": [
       "array([ True, False, False, False,  True,  True,  True, False, False,\n",
       "       False,  True, False, False,  True,  True,  True,  True, False,\n",
       "        True,  True])"
      ]
     },
     "execution_count": 75,
     "metadata": {},
     "output_type": "execute_result"
    }
   ],
   "source": [
    "# pergunta: quais os elementos são menores que 0.5?\n",
    "arr < 0.5"
   ]
  },
  {
   "cell_type": "code",
   "execution_count": 76,
   "metadata": {
    "application/vnd.databricks.v1+cell": {
     "cellMetadata": {
      "byteLimit": 2048000,
      "rowLimit": 10000
     },
     "inputWidgets": {},
     "nuid": "4bcf7a6d-2fde-4726-baf4-c3f29668124f",
     "showTitle": false,
     "title": ""
    },
    "id": "-M6EaL-TYvbU"
   },
   "outputs": [
    {
     "data": {
      "text/plain": [
       "11"
      ]
     },
     "execution_count": 76,
     "metadata": {},
     "output_type": "execute_result"
    }
   ],
   "source": [
    "# QUANTOS elementos satisfazem a condição? (são menores que 0.5)\n",
    "(arr < 0.5).sum()"
   ]
  },
  {
   "cell_type": "markdown",
   "metadata": {
    "application/vnd.databricks.v1+cell": {
     "cellMetadata": {},
     "inputWidgets": {},
     "nuid": "f3a5d153-eb7d-4fdd-bf4c-e2c5446be740",
     "showTitle": false,
     "title": ""
    },
    "id": "xh4dQoxGY2F9"
   },
   "source": [
    "Uma vez criado o filtro, é possível **utilizá-lo como indexador do array**, para selecionar **apenas os elementos com indice correspondente a True no filtro**:"
   ]
  },
  {
   "cell_type": "code",
   "execution_count": 77,
   "metadata": {
    "application/vnd.databricks.v1+cell": {
     "cellMetadata": {
      "byteLimit": 2048000,
      "rowLimit": 10000
     },
     "inputWidgets": {},
     "nuid": "02be0e1e-d2fc-42ad-9541-dac78aeba9f5",
     "showTitle": false,
     "title": ""
    },
    "id": "v5HTkD3HYzk8"
   },
   "outputs": [
    {
     "data": {
      "text/plain": [
       "array([0.37454012, 0.15601864, 0.15599452, 0.05808361, 0.02058449,\n",
       "       0.21233911, 0.18182497, 0.18340451, 0.30424224, 0.43194502,\n",
       "       0.29122914])"
      ]
     },
     "execution_count": 77,
     "metadata": {},
     "output_type": "execute_result"
    }
   ],
   "source": [
    "# quero elementos do \"arr\" tais que os elementos do array são menos que 0.5\n",
    "arr[arr < 0.5]"
   ]
  },
  {
   "cell_type": "code",
   "execution_count": 78,
   "metadata": {
    "application/vnd.databricks.v1+cell": {
     "cellMetadata": {
      "byteLimit": 2048000,
      "rowLimit": 10000
     },
     "inputWidgets": {},
     "nuid": "de65f8c0-8141-4e41-b7e6-192b1d86d57f",
     "showTitle": false,
     "title": ""
    },
    "id": "eGpTPNB6Y5DM"
   },
   "outputs": [
    {
     "data": {
      "text/plain": [
       "array([0.95071431, 0.73199394, 0.59865848, 0.86617615, 0.60111501,\n",
       "       0.70807258, 0.96990985, 0.83244264, 0.52475643])"
      ]
     },
     "execution_count": 78,
     "metadata": {},
     "output_type": "execute_result"
    }
   ],
   "source": [
    "# a operação abaixo FILTRA apenas os números do array \"aleat\" que sejam MAIORES do que 0.5\n",
    "arr[arr > 0.5]"
   ]
  },
  {
   "cell_type": "code",
   "execution_count": 79,
   "metadata": {
    "application/vnd.databricks.v1+cell": {
     "cellMetadata": {
      "byteLimit": 2048000,
      "rowLimit": 10000
     },
     "inputWidgets": {},
     "nuid": "c6983464-4ab1-4c60-b589-db6a4909e9e3",
     "showTitle": false,
     "title": ""
    },
    "id": "C52_-k4tY9Cs"
   },
   "outputs": [
    {
     "data": {
      "text/plain": [
       "array([], dtype=float64)"
      ]
     },
     "execution_count": 79,
     "metadata": {},
     "output_type": "execute_result"
    }
   ],
   "source": [
    "# a operação abaixo FILTRA apenas os números do array \"aleat\" que sejam IGUAIS a 0.5\n",
    "arr[arr == 0.5] #arr[arr >= 0.5]"
   ]
  },
  {
   "cell_type": "markdown",
   "metadata": {
    "application/vnd.databricks.v1+cell": {
     "cellMetadata": {},
     "inputWidgets": {},
     "nuid": "b5f4b490-4435-425d-b822-ed0c33f2d24e",
     "showTitle": false,
     "title": ""
    },
    "id": "T634nf-1Y__Z"
   },
   "source": [
    "Mais um exemplo..."
   ]
  },
  {
   "cell_type": "code",
   "execution_count": 80,
   "metadata": {
    "application/vnd.databricks.v1+cell": {
     "cellMetadata": {
      "byteLimit": 2048000,
      "rowLimit": 10000
     },
     "inputWidgets": {},
     "nuid": "e0ebe8a3-4994-49d7-9a46-949506cdb682",
     "showTitle": false,
     "title": ""
    },
    "id": "MBw4NFORY-g8"
   },
   "outputs": [
    {
     "data": {
      "text/plain": [
       "array([51, 92, 14, 71, 60, 20, 82, 86, 74, 74, 87, 99, 23,  2, 21, 52,  1,\n",
       "       87, 29, 37])"
      ]
     },
     "execution_count": 80,
     "metadata": {},
     "output_type": "execute_result"
    }
   ],
   "source": [
    "# definindo um array aleatório com np.random.randint(0, 100, 20), com seed 42\n",
    "np.random.seed(42)\n",
    "ints = np.random.randint(0, 100, 20)\n",
    "ints"
   ]
  },
  {
   "cell_type": "code",
   "execution_count": 81,
   "metadata": {
    "application/vnd.databricks.v1+cell": {
     "cellMetadata": {
      "byteLimit": 2048000,
      "rowLimit": 10000
     },
     "inputWidgets": {},
     "nuid": "696cc7d7-c083-42b8-a206-a31cd77a7fec",
     "showTitle": false,
     "title": ""
    },
    "id": "3JezQoIrZD78"
   },
   "outputs": [
    {
     "data": {
      "text/plain": [
       "array([92, 14, 60, 20, 82, 86, 74, 74,  2, 52])"
      ]
     },
     "execution_count": 81,
     "metadata": {},
     "output_type": "execute_result"
    }
   ],
   "source": [
    "# filtrando apenas os pares\n",
    "ints[ints % 2 == 0]"
   ]
  },
  {
   "cell_type": "code",
   "execution_count": 82,
   "metadata": {
    "application/vnd.databricks.v1+cell": {
     "cellMetadata": {
      "byteLimit": 2048000,
      "rowLimit": 10000
     },
     "inputWidgets": {},
     "nuid": "bc97f0a2-96fc-483a-abc5-23374bb19d11",
     "showTitle": false,
     "title": ""
    },
    "id": "aGfoMmgBZFkl"
   },
   "outputs": [
    {
     "data": {
      "text/plain": [
       "array([51, 71, 87, 99, 23, 21,  1, 87, 29, 37])"
      ]
     },
     "execution_count": 82,
     "metadata": {},
     "output_type": "execute_result"
    }
   ],
   "source": [
    "# filtrando apenas os ímpares\n",
    "ints[ints % 2 != 0]"
   ]
  },
  {
   "cell_type": "code",
   "execution_count": 83,
   "metadata": {
    "application/vnd.databricks.v1+cell": {
     "cellMetadata": {
      "byteLimit": 2048000,
      "rowLimit": 10000
     },
     "inputWidgets": {},
     "nuid": "dfe26b9a-b53f-48cb-adb9-f51fc3742e91",
     "showTitle": false,
     "title": ""
    }
   },
   "outputs": [
    {
     "data": {
      "text/plain": [
       "array([ True, False, False,  True, False, False, False, False, False,\n",
       "       False,  True,  True,  True, False,  True, False,  True,  True,\n",
       "        True,  True])"
      ]
     },
     "execution_count": 83,
     "metadata": {},
     "output_type": "execute_result"
    }
   ],
=======
   "outputs": [],
   "source": [
    "#Definindo um array aleatório com a semente pseudoaleatória\n",
    "np.random.seed(42)\n",
    "\n",
    "arr = np.random.rand(20)\n",
    "\n",
    "arr"
   ]
  },
  {
   "cell_type": "markdown",
   "metadata": {
    "application/vnd.databricks.v1+cell": {
     "cellMetadata": {},
     "inputWidgets": {},
     "nuid": "c2651c6a-e878-466a-8589-b0a4dac20aa9",
     "showTitle": false,
     "title": ""
    },
    "id": "lk1LUVezYWzw"
   },
   "source": [
    "Vimos anteriormente que, se usarmos um **operador lógico** juntamente com um array, o numpy **aplica a operação lógica a cada um dos elementos do array**, retornando um **array de bools** com o resultado de cada uma das operações lógicas:"
   ]
  },
  {
   "cell_type": "code",
   "execution_count": 0,
   "metadata": {
    "application/vnd.databricks.v1+cell": {
     "cellMetadata": {
      "byteLimit": 2048000,
      "rowLimit": 10000
     },
     "inputWidgets": {},
     "nuid": "93d2974a-6bea-4e7d-ae61-ddd882f88099",
     "showTitle": false,
     "title": ""
    },
    "id": "fVkWlLIKYU_k"
   },
   "outputs": [],
   "source": [
    "# pergunta: quais os elementos são menores que 0.5?\n",
    "arr < 0.5"
   ]
  },
  {
   "cell_type": "code",
   "execution_count": 0,
   "metadata": {
    "application/vnd.databricks.v1+cell": {
     "cellMetadata": {
      "byteLimit": 2048000,
      "rowLimit": 10000
     },
     "inputWidgets": {},
     "nuid": "4bcf7a6d-2fde-4726-baf4-c3f29668124f",
     "showTitle": false,
     "title": ""
    },
    "id": "-M6EaL-TYvbU"
   },
   "outputs": [],
   "source": [
    "# QUANTOS elementos satisfazem a condição? (são menores que 0.5)\n",
    "(arr < 0.5).sum()"
   ]
  },
  {
   "cell_type": "markdown",
   "metadata": {
    "application/vnd.databricks.v1+cell": {
     "cellMetadata": {},
     "inputWidgets": {},
     "nuid": "f3a5d153-eb7d-4fdd-bf4c-e2c5446be740",
     "showTitle": false,
     "title": ""
    },
    "id": "xh4dQoxGY2F9"
   },
   "source": [
    "Uma vez criado o filtro, é possível **utilizá-lo como indexador do array**, para selecionar **apenas os elementos com indice correspondente a True no filtro**:"
   ]
  },
  {
   "cell_type": "code",
   "execution_count": 0,
   "metadata": {
    "application/vnd.databricks.v1+cell": {
     "cellMetadata": {
      "byteLimit": 2048000,
      "rowLimit": 10000
     },
     "inputWidgets": {},
     "nuid": "02be0e1e-d2fc-42ad-9541-dac78aeba9f5",
     "showTitle": false,
     "title": ""
    },
    "id": "v5HTkD3HYzk8"
   },
   "outputs": [],
   "source": [
    "# quero elementos do \"arr\" tais que os elementos do array são menos que 0.5\n",
    "arr[arr < 0.5]"
   ]
  },
  {
   "cell_type": "code",
   "execution_count": 0,
   "metadata": {
    "application/vnd.databricks.v1+cell": {
     "cellMetadata": {
      "byteLimit": 2048000,
      "rowLimit": 10000
     },
     "inputWidgets": {},
     "nuid": "de65f8c0-8141-4e41-b7e6-192b1d86d57f",
     "showTitle": false,
     "title": ""
    },
    "id": "eGpTPNB6Y5DM"
   },
   "outputs": [],
   "source": [
    "# a operação abaixo FILTRA apenas os números do array \"aleat\" que sejam MAIORES do que 0.5\n",
    "arr[arr > 0.5]"
   ]
  },
  {
   "cell_type": "code",
   "execution_count": 0,
   "metadata": {
    "application/vnd.databricks.v1+cell": {
     "cellMetadata": {
      "byteLimit": 2048000,
      "rowLimit": 10000
     },
     "inputWidgets": {},
     "nuid": "c6983464-4ab1-4c60-b589-db6a4909e9e3",
     "showTitle": false,
     "title": ""
    },
    "id": "C52_-k4tY9Cs"
   },
   "outputs": [],
   "source": [
    "# a operação abaixo FILTRA apenas os números do array \"aleat\" que sejam IGUAIS a 0.5\n",
    "arr[arr == 0.5] #arr[arr >= 0.5]"
   ]
  },
  {
   "cell_type": "markdown",
   "metadata": {
    "application/vnd.databricks.v1+cell": {
     "cellMetadata": {},
     "inputWidgets": {},
     "nuid": "b5f4b490-4435-425d-b822-ed0c33f2d24e",
     "showTitle": false,
     "title": ""
    },
    "id": "T634nf-1Y__Z"
   },
   "source": [
    "Mais um exemplo..."
   ]
  },
  {
   "cell_type": "code",
   "execution_count": 0,
   "metadata": {
    "application/vnd.databricks.v1+cell": {
     "cellMetadata": {
      "byteLimit": 2048000,
      "rowLimit": 10000
     },
     "inputWidgets": {},
     "nuid": "e0ebe8a3-4994-49d7-9a46-949506cdb682",
     "showTitle": false,
     "title": ""
    },
    "id": "MBw4NFORY-g8"
   },
   "outputs": [],
   "source": [
    "# definindo um array aleatório com np.random.randint(0, 100, 20), com seed 42\n",
    "np.random.seed(42)\n",
    "ints = np.random.randint(0, 100, 20)\n",
    "ints"
   ]
  },
  {
   "cell_type": "code",
   "execution_count": 0,
   "metadata": {
    "application/vnd.databricks.v1+cell": {
     "cellMetadata": {
      "byteLimit": 2048000,
      "rowLimit": 10000
     },
     "inputWidgets": {},
     "nuid": "696cc7d7-c083-42b8-a206-a31cd77a7fec",
     "showTitle": false,
     "title": ""
    },
    "id": "3JezQoIrZD78"
   },
   "outputs": [],
   "source": [
    "# filtrando apenas os pares\n",
    "ints[ints % 2 == 0]"
   ]
  },
  {
   "cell_type": "code",
   "execution_count": 0,
   "metadata": {
    "application/vnd.databricks.v1+cell": {
     "cellMetadata": {
      "byteLimit": 2048000,
      "rowLimit": 10000
     },
     "inputWidgets": {},
     "nuid": "bc97f0a2-96fc-483a-abc5-23374bb19d11",
     "showTitle": false,
     "title": ""
    },
    "id": "aGfoMmgBZFkl"
   },
   "outputs": [],
   "source": [
    "# filtrando apenas os ímpares\n",
    "ints[ints % 2 != 0]"
   ]
  },
  {
   "cell_type": "code",
   "execution_count": 0,
   "metadata": {
    "application/vnd.databricks.v1+cell": {
     "cellMetadata": {
      "byteLimit": 2048000,
      "rowLimit": 10000
     },
     "inputWidgets": {},
     "nuid": "dfe26b9a-b53f-48cb-adb9-f51fc3742e91",
     "showTitle": false,
     "title": ""
    }
   },
   "outputs": [],
>>>>>>> 55b74bd475c42d3d06807089ef97d5bc42a63d85
   "source": [
    "~(ints % 2 == 0)"
   ]
  },
  {
   "cell_type": "code",
<<<<<<< HEAD
   "execution_count": 84,
=======
   "execution_count": 0,
>>>>>>> 55b74bd475c42d3d06807089ef97d5bc42a63d85
   "metadata": {
    "application/vnd.databricks.v1+cell": {
     "cellMetadata": {
      "byteLimit": 2048000,
      "rowLimit": 10000
     },
     "inputWidgets": {},
     "nuid": "ac145c3b-f7c4-486b-a205-c1ee8e41e010",
     "showTitle": false,
     "title": ""
    },
    "id": "-04L3ee5ZHEM"
   },
<<<<<<< HEAD
   "outputs": [
    {
     "data": {
      "text/plain": [
       "array([51, 71, 87, 99, 23, 21,  1, 87, 29, 37])"
      ]
     },
     "execution_count": 84,
     "metadata": {},
     "output_type": "execute_result"
    }
   ],
=======
   "outputs": [],
>>>>>>> 55b74bd475c42d3d06807089ef97d5bc42a63d85
   "source": [
    "#Outra forma de filtrar os ímpares\n",
    "ints[~(ints % 2 == 0)]"
   ]
  },
  {
   "cell_type": "markdown",
   "metadata": {
    "application/vnd.databricks.v1+cell": {
     "cellMetadata": {},
     "inputWidgets": {},
     "nuid": "7e874d0e-ce93-4f2c-8790-d6f286065839",
     "showTitle": false,
     "title": ""
    },
    "id": "STScPrnYZPKG"
   },
   "source": [
    "Podemos filtrar também com o método **np.where():**"
   ]
  },
  {
   "cell_type": "code",
<<<<<<< HEAD
   "execution_count": 85,
=======
   "execution_count": 0,
>>>>>>> 55b74bd475c42d3d06807089ef97d5bc42a63d85
   "metadata": {
    "application/vnd.databricks.v1+cell": {
     "cellMetadata": {
      "byteLimit": 2048000,
      "rowLimit": 10000
     },
     "inputWidgets": {},
     "nuid": "f1a64168-df0a-44a5-b0de-9d7cf6299dc7",
     "showTitle": false,
     "title": ""
    },
    "id": "kHw9AIHnZMT7"
   },
<<<<<<< HEAD
   "outputs": [
    {
     "data": {
      "text/plain": [
       "array([nan, 92., 14., nan, 60., 20., 82., 86., 74., 74., nan, nan, nan,\n",
       "        2., nan, 52., nan, nan, nan, nan])"
      ]
     },
     "execution_count": 85,
     "metadata": {},
     "output_type": "execute_result"
    }
   ],
=======
   "outputs": [],
>>>>>>> 55b74bd475c42d3d06807089ef97d5bc42a63d85
   "source": [
    "#Onde tem os ímpares, ele coloca nan\n",
    "np.where(ints % 2 == 0, ints, np.nan)"
   ]
  },
  {
   "cell_type": "markdown",
   "metadata": {
    "application/vnd.databricks.v1+cell": {
     "cellMetadata": {},
     "inputWidgets": {},
     "nuid": "61c8bc14-4ef3-4f6e-bfd0-a901f0d730d7",
     "showTitle": false,
     "title": ""
    },
    "id": "9ychgc4GZbBV"
   },
   "source": [
    "Também é possível aplicar **filtros compostos**!\n",
    "\n",
    "Pra fazer isso, nós fazems uma **composição lógica** entre os filtros (análogo ao \"and\" e ao \"or\")\n",
    "\n",
    "No caso de arrays, usamos:\n",
    "\n",
    "- \"&\" para \"and\"\n",
    "- \"|\" para \"or\"\n",
    "- \"~\" para \"not\""
   ]
  },
  {
   "cell_type": "code",
<<<<<<< HEAD
   "execution_count": 86,
=======
   "execution_count": 0,
>>>>>>> 55b74bd475c42d3d06807089ef97d5bc42a63d85
   "metadata": {
    "application/vnd.databricks.v1+cell": {
     "cellMetadata": {
      "byteLimit": 2048000,
      "rowLimit": 10000
     },
     "inputWidgets": {},
     "nuid": "1205b220-3574-491b-816b-294fe8c7c657",
     "showTitle": false,
     "title": ""
    }
   },
<<<<<<< HEAD
   "outputs": [
    {
     "data": {
      "text/plain": [
       "array([False,  True,  True, False,  True,  True,  True,  True,  True,\n",
       "        True, False, False, False,  True, False,  True, False, False,\n",
       "       False, False])"
      ]
     },
     "execution_count": 86,
     "metadata": {},
     "output_type": "execute_result"
    }
   ],
=======
   "outputs": [],
>>>>>>> 55b74bd475c42d3d06807089ef97d5bc42a63d85
   "source": [
    "(ints % 2 == 0)"
   ]
  },
  {
   "cell_type": "code",
<<<<<<< HEAD
   "execution_count": 87,
=======
   "execution_count": 0,
>>>>>>> 55b74bd475c42d3d06807089ef97d5bc42a63d85
   "metadata": {
    "application/vnd.databricks.v1+cell": {
     "cellMetadata": {
      "byteLimit": 2048000,
      "rowLimit": 10000
     },
     "inputWidgets": {},
     "nuid": "174854c7-e4a4-4ce0-8145-7b88c44a2214",
     "showTitle": false,
     "title": ""
    }
   },
<<<<<<< HEAD
   "outputs": [
    {
     "data": {
      "text/plain": [
       "array([ True,  True, False,  True,  True, False,  True,  True,  True,\n",
       "        True,  True,  True, False, False, False,  True, False,  True,\n",
       "       False, False])"
      ]
     },
     "execution_count": 87,
     "metadata": {},
     "output_type": "execute_result"
    }
   ],
=======
   "outputs": [],
>>>>>>> 55b74bd475c42d3d06807089ef97d5bc42a63d85
   "source": [
    "(ints > 50)"
   ]
  },
  {
   "cell_type": "code",
<<<<<<< HEAD
   "execution_count": 88,
=======
   "execution_count": 0,
>>>>>>> 55b74bd475c42d3d06807089ef97d5bc42a63d85
   "metadata": {
    "application/vnd.databricks.v1+cell": {
     "cellMetadata": {
      "byteLimit": 2048000,
      "rowLimit": 10000
     },
     "inputWidgets": {},
     "nuid": "e22a3542-ab77-475d-acab-edf4121990b7",
     "showTitle": false,
     "title": ""
    }
   },
<<<<<<< HEAD
   "outputs": [
    {
     "data": {
      "text/plain": [
       "array([False,  True, False, False,  True, False,  True,  True,  True,\n",
       "        True, False, False, False, False, False,  True, False, False,\n",
       "       False, False])"
      ]
     },
     "execution_count": 88,
     "metadata": {},
     "output_type": "execute_result"
    }
   ],
=======
   "outputs": [],
>>>>>>> 55b74bd475c42d3d06807089ef97d5bc42a63d85
   "source": [
    "(ints % 2 == 0) & (ints > 50)"
   ]
  },
  {
   "cell_type": "code",
<<<<<<< HEAD
   "execution_count": 89,
=======
   "execution_count": 0,
>>>>>>> 55b74bd475c42d3d06807089ef97d5bc42a63d85
   "metadata": {
    "application/vnd.databricks.v1+cell": {
     "cellMetadata": {
      "byteLimit": 2048000,
      "rowLimit": 10000
     },
     "inputWidgets": {},
     "nuid": "1d282ff7-d0d3-43b1-82b6-6e7dc7961f9c",
     "showTitle": false,
     "title": ""
    }
   },
<<<<<<< HEAD
   "outputs": [
    {
     "data": {
      "text/plain": [
       "array([False, False, False, False, False, False, False, False, False,\n",
       "       False, False, False, False, False, False, False, False, False,\n",
       "       False, False])"
      ]
     },
     "execution_count": 89,
     "metadata": {},
     "output_type": "execute_result"
    }
   ],
=======
   "outputs": [],
>>>>>>> 55b74bd475c42d3d06807089ef97d5bc42a63d85
   "source": [
    "(arr > 50)"
   ]
  },
  {
   "cell_type": "code",
<<<<<<< HEAD
   "execution_count": 90,
=======
   "execution_count": 0,
>>>>>>> 55b74bd475c42d3d06807089ef97d5bc42a63d85
   "metadata": {
    "application/vnd.databricks.v1+cell": {
     "cellMetadata": {
      "byteLimit": 2048000,
      "rowLimit": 10000
     },
     "inputWidgets": {},
     "nuid": "50627f74-44cd-43b4-b1eb-97bf20f1c45c",
     "showTitle": false,
     "title": ""
    },
    "id": "Ch4aCQf_ZZHL"
   },
<<<<<<< HEAD
   "outputs": [
    {
     "data": {
      "text/plain": [
       "array([92, 60, 82, 86, 74, 74, 52])"
      ]
     },
     "execution_count": 90,
     "metadata": {},
     "output_type": "execute_result"
    }
   ],
=======
   "outputs": [],
>>>>>>> 55b74bd475c42d3d06807089ef97d5bc42a63d85
   "source": [
    "# condição correspondente a números pares E maiores que 50\n",
    "ints[(ints % 2 == 0) & (ints > 50)]"
   ]
  },
  {
   "cell_type": "code",
<<<<<<< HEAD
   "execution_count": 91,
=======
   "execution_count": 0,
>>>>>>> 55b74bd475c42d3d06807089ef97d5bc42a63d85
   "metadata": {
    "application/vnd.databricks.v1+cell": {
     "cellMetadata": {
      "byteLimit": 2048000,
      "rowLimit": 10000
     },
     "inputWidgets": {},
     "nuid": "06ab754f-af28-4468-b33f-5fd672288630",
     "showTitle": false,
     "title": ""
    },
    "id": "JnHit8IlZfcc"
   },
<<<<<<< HEAD
   "outputs": [
    {
     "data": {
      "text/plain": [
       "array([51, 92, 14, 71, 60, 20, 82, 86, 74, 74, 87, 99,  2, 52, 87])"
      ]
     },
     "execution_count": 91,
     "metadata": {},
     "output_type": "execute_result"
    }
   ],
=======
   "outputs": [],
>>>>>>> 55b74bd475c42d3d06807089ef97d5bc42a63d85
   "source": [
    "# numeros que são pares OU maiores que 50\n",
    "ints[(ints % 2 == 0) | (ints > 50)]"
   ]
  },
  {
   "cell_type": "code",
<<<<<<< HEAD
   "execution_count": 92,
=======
   "execution_count": 0,
>>>>>>> 55b74bd475c42d3d06807089ef97d5bc42a63d85
   "metadata": {
    "application/vnd.databricks.v1+cell": {
     "cellMetadata": {
      "byteLimit": 2048000,
      "rowLimit": 10000
     },
     "inputWidgets": {},
     "nuid": "09e89bdb-9653-4015-8665-dc8c3a696c98",
     "showTitle": false,
     "title": ""
    },
    "id": "DTCDtJEFZll1"
   },
<<<<<<< HEAD
   "outputs": [
    {
     "data": {
      "text/plain": [
       "array([51, 71, 87, 99, 87])"
      ]
     },
     "execution_count": 92,
     "metadata": {},
     "output_type": "execute_result"
    }
   ],
=======
   "outputs": [],
>>>>>>> 55b74bd475c42d3d06807089ef97d5bc42a63d85
   "source": [
    "# filtrando numeros impares (não pares) E maiores que 50\n",
    "ints[~(ints % 2 == 0) & (ints > 50)]"
   ]
  },
  {
   "cell_type": "markdown",
   "metadata": {
    "application/vnd.databricks.v1+cell": {
     "cellMetadata": {},
     "inputWidgets": {},
     "nuid": "eee3c12a-7e71-46f0-8345-1575c0de6c53",
     "showTitle": false,
     "title": ""
    },
    "id": "KFxFwNBGZi76"
   },
   "source": [
    "___\n",
    "\n",
    "## 2. Matrizes\n",
    "\n",
    "Como **matrizes** vamos nos referir aos arrays multidimensionais (i.e., mais de uma dimensão)."
   ]
  },
  {
   "cell_type": "markdown",
   "metadata": {
    "application/vnd.databricks.v1+cell": {
     "cellMetadata": {},
     "inputWidgets": {},
     "nuid": "cf300988-b134-40bf-b20a-d6ba56638f9d",
     "showTitle": false,
     "title": ""
    },
    "id": "OcNuK9PEZxZ7"
   },
   "source": [
    "<img src = \"https://numpy.org/devdocs/_images/np_create_matrix.png\" />"
   ]
  },
  {
   "cell_type": "code",
<<<<<<< HEAD
   "execution_count": 93,
=======
   "execution_count": 0,
>>>>>>> 55b74bd475c42d3d06807089ef97d5bc42a63d85
   "metadata": {
    "application/vnd.databricks.v1+cell": {
     "cellMetadata": {
      "byteLimit": 2048000,
      "rowLimit": 10000
     },
     "inputWidgets": {},
     "nuid": "085f080c-1260-45cb-aa0e-970eb1556f35",
     "showTitle": false,
     "title": ""
    },
    "id": "8nFwwzqwZhHU"
   },
<<<<<<< HEAD
   "outputs": [
    {
     "data": {
      "text/plain": [
       "array([[1, 2],\n",
       "       [3, 4],\n",
       "       [5, 6]])"
      ]
     },
     "execution_count": 93,
     "metadata": {},
     "output_type": "execute_result"
    }
   ],
=======
   "outputs": [],
>>>>>>> 55b74bd475c42d3d06807089ef97d5bc42a63d85
   "source": [
    "#Criando uma matriz 3x2\n",
    "data = np.array([[1,2],[3,4],[5,6]])\n",
    "data"
   ]
  },
  {
   "cell_type": "markdown",
   "metadata": {
    "application/vnd.databricks.v1+cell": {
     "cellMetadata": {},
     "inputWidgets": {},
     "nuid": "60bb248d-c040-4407-acad-6cd98d7145e1",
     "showTitle": false,
     "title": ""
    },
    "id": "Mdu9R3rocwPN"
   },
   "source": [
    "**Método shape:**\n",
    "\n",
    "É utilizado para retornar a forma ou as dimensões de um array.\n",
    "\n",
    "Ele retorna uma tupla que indica o tamanho do array em cada dimensão."
   ]
  },
  {
   "cell_type": "code",
<<<<<<< HEAD
   "execution_count": 94,
=======
   "execution_count": 0,
>>>>>>> 55b74bd475c42d3d06807089ef97d5bc42a63d85
   "metadata": {
    "application/vnd.databricks.v1+cell": {
     "cellMetadata": {
      "byteLimit": 2048000,
      "rowLimit": 10000
     },
     "inputWidgets": {},
     "nuid": "f15eab49-f427-4952-85f9-00b07ff0ed14",
     "showTitle": false,
     "title": ""
    },
    "id": "bGXYt99_cuWl"
   },
<<<<<<< HEAD
   "outputs": [
    {
     "data": {
      "text/plain": [
       "(3, 2)"
      ]
     },
     "execution_count": 94,
     "metadata": {},
     "output_type": "execute_result"
    }
   ],
=======
   "outputs": [],
>>>>>>> 55b74bd475c42d3d06807089ef97d5bc42a63d85
   "source": [
    "data.shape"
   ]
  },
  {
   "cell_type": "markdown",
   "metadata": {
    "application/vnd.databricks.v1+cell": {
     "cellMetadata": {},
     "inputWidgets": {},
     "nuid": "f74df840-5117-4069-a99c-765e58b66648",
     "showTitle": false,
     "title": ""
    },
    "id": "V0Lb6ilvc8o-"
   },
   "source": [
    "**Notação:** (numero_de_linhas, numero_de_colunas)"
   ]
  },
  {
   "cell_type": "markdown",
   "metadata": {
    "application/vnd.databricks.v1+cell": {
     "cellMetadata": {},
     "inputWidgets": {},
     "nuid": "75189160-2e3a-4777-bacd-e14c9caa1417",
     "showTitle": false,
     "title": ""
    },
    "id": "gH6z0gNydIdk"
   },
   "source": [
    "### Agregações\n",
    "\n",
    "Similarmente a como fizemos com **arrays**, também podemos aplicar **funções de agregação** às matrizes:"
   ]
  },
  {
   "cell_type": "code",
<<<<<<< HEAD
   "execution_count": 95,
=======
   "execution_count": 0,
>>>>>>> 55b74bd475c42d3d06807089ef97d5bc42a63d85
   "metadata": {
    "application/vnd.databricks.v1+cell": {
     "cellMetadata": {
      "byteLimit": 2048000,
      "rowLimit": 10000
     },
     "inputWidgets": {},
     "nuid": "474f8c29-0933-4456-86e9-af03cc04d060",
     "showTitle": false,
     "title": ""
    },
    "id": "bsdgV259c8D0"
   },
<<<<<<< HEAD
   "outputs": [
    {
     "data": {
      "text/plain": [
       "6"
      ]
     },
     "execution_count": 95,
     "metadata": {},
     "output_type": "execute_result"
    }
   ],
=======
   "outputs": [],
>>>>>>> 55b74bd475c42d3d06807089ef97d5bc42a63d85
   "source": [
    "data.max()"
   ]
  },
  {
   "cell_type": "code",
<<<<<<< HEAD
   "execution_count": 96,
=======
   "execution_count": 0,
>>>>>>> 55b74bd475c42d3d06807089ef97d5bc42a63d85
   "metadata": {
    "application/vnd.databricks.v1+cell": {
     "cellMetadata": {
      "byteLimit": 2048000,
      "rowLimit": 10000
     },
     "inputWidgets": {},
     "nuid": "45b33060-1b33-434b-b777-0b1c87dd8c82",
     "showTitle": false,
     "title": ""
    },
    "id": "aN_H3pJddOE9"
   },
<<<<<<< HEAD
   "outputs": [
    {
     "data": {
      "text/plain": [
       "1"
      ]
     },
     "execution_count": 96,
     "metadata": {},
     "output_type": "execute_result"
    }
   ],
=======
   "outputs": [],
>>>>>>> 55b74bd475c42d3d06807089ef97d5bc42a63d85
   "source": [
    "data.min()"
   ]
  },
  {
   "cell_type": "code",
<<<<<<< HEAD
   "execution_count": 97,
=======
   "execution_count": 0,
>>>>>>> 55b74bd475c42d3d06807089ef97d5bc42a63d85
   "metadata": {
    "application/vnd.databricks.v1+cell": {
     "cellMetadata": {
      "byteLimit": 2048000,
      "rowLimit": 10000
     },
     "inputWidgets": {},
     "nuid": "e0f9ad5e-af64-430a-9ee0-463e6af8da30",
     "showTitle": false,
     "title": ""
    },
    "id": "4z3gDjF-dPEF"
   },
<<<<<<< HEAD
   "outputs": [
    {
     "data": {
      "text/plain": [
       "21"
      ]
     },
     "execution_count": 97,
     "metadata": {},
     "output_type": "execute_result"
    }
   ],
=======
   "outputs": [],
>>>>>>> 55b74bd475c42d3d06807089ef97d5bc42a63d85
   "source": [
    "data.sum()"
   ]
  },
  {
   "cell_type": "markdown",
   "metadata": {
    "application/vnd.databricks.v1+cell": {
     "cellMetadata": {},
     "inputWidgets": {},
     "nuid": "0abadaac-845b-4c84-aa0e-b6b6cbdcdd5d",
     "showTitle": false,
     "title": ""
    },
    "id": "-1onOq4XdR2c"
   },
   "source": [
    "<img src = \"https://numpy.org/devdocs/_images/np_matrix_aggregation.png\" />"
   ]
  },
  {
   "cell_type": "markdown",
   "metadata": {
    "application/vnd.databricks.v1+cell": {
     "cellMetadata": {},
     "inputWidgets": {},
     "nuid": "f8c81623-ee75-407a-a9ac-ecac0f472912",
     "showTitle": false,
     "title": ""
    },
    "id": "vbmzEGo3dVJ3"
   },
   "source": [
    "E se eu quiser por linhas ou colunas?"
   ]
  },
  {
   "cell_type": "code",
<<<<<<< HEAD
   "execution_count": 98,
=======
   "execution_count": 0,
>>>>>>> 55b74bd475c42d3d06807089ef97d5bc42a63d85
   "metadata": {
    "application/vnd.databricks.v1+cell": {
     "cellMetadata": {
      "byteLimit": 2048000,
      "rowLimit": 10000
     },
     "inputWidgets": {},
     "nuid": "e8694e9c-67be-446a-a345-50181b5c723e",
     "showTitle": false,
     "title": ""
    },
    "id": "gGRxbGJDdQB1"
   },
<<<<<<< HEAD
   "outputs": [
    {
     "data": {
      "text/plain": [
       "array([5, 6])"
      ]
     },
     "execution_count": 98,
     "metadata": {},
     "output_type": "execute_result"
    }
   ],
=======
   "outputs": [],
>>>>>>> 55b74bd475c42d3d06807089ef97d5bc42a63d85
   "source": [
    "# \"axis = 0\" opera na direção das colunas, retornando um vetor-linha\n",
    "# com os máximos de cada coluna\n",
    "data.max(axis=0)"
   ]
  },
  {
   "cell_type": "code",
<<<<<<< HEAD
   "execution_count": 99,
=======
   "execution_count": 0,
>>>>>>> 55b74bd475c42d3d06807089ef97d5bc42a63d85
   "metadata": {
    "application/vnd.databricks.v1+cell": {
     "cellMetadata": {
      "byteLimit": 2048000,
      "rowLimit": 10000
     },
     "inputWidgets": {},
     "nuid": "4e1ad838-dd6c-41c3-b738-a9f5dc387afd",
     "showTitle": false,
     "title": ""
    },
    "id": "wgGbo2R2dX5t"
   },
<<<<<<< HEAD
   "outputs": [
    {
     "data": {
      "text/plain": [
       "array([2, 4, 6])"
      ]
     },
     "execution_count": 99,
     "metadata": {},
     "output_type": "execute_result"
    }
   ],
=======
   "outputs": [],
>>>>>>> 55b74bd475c42d3d06807089ef97d5bc42a63d85
   "source": [
    "# \"axis = 1\" opera na direção das linhas, retornando um vetor-coluna\n",
    "# com os máximos de cada linha\n",
    "data.max(axis=1)"
   ]
  },
  {
   "cell_type": "markdown",
   "metadata": {
    "application/vnd.databricks.v1+cell": {
     "cellMetadata": {},
     "inputWidgets": {},
     "nuid": "3d4fcbd3-bd91-403d-87ef-291fdc252ba6",
     "showTitle": false,
     "title": ""
    },
    "id": "KOeJI2Bmdq72"
   },
   "source": [
    "<img src = \"https://numpy.org/devdocs/_images/np_matrix_aggregation_row.png\" />"
   ]
  },
  {
   "cell_type": "markdown",
   "metadata": {
    "application/vnd.databricks.v1+cell": {
     "cellMetadata": {},
     "inputWidgets": {},
     "nuid": "204c1802-0b7a-4f77-896a-407988f39472",
     "showTitle": false,
     "title": ""
    },
    "id": "7pZ7G0vzdreG"
   },
   "source": [
    "### **np. reshape():**\n",
    "\n",
    "Em algumas situações, pode ser útil **reformatar** nosso conjunto de dados. Para isso, utilizamos a função *.reshape()*."
   ]
  },
  {
   "cell_type": "code",
<<<<<<< HEAD
   "execution_count": 100,
=======
   "execution_count": 0,
>>>>>>> 55b74bd475c42d3d06807089ef97d5bc42a63d85
   "metadata": {
    "application/vnd.databricks.v1+cell": {
     "cellMetadata": {
      "byteLimit": 2048000,
      "rowLimit": 10000
     },
     "inputWidgets": {},
     "nuid": "1bf2e246-fe61-4ef3-88a4-f675f57e8297",
     "showTitle": false,
     "title": ""
    },
    "id": "fy94y_Y5doft"
   },
<<<<<<< HEAD
   "outputs": [
    {
     "data": {
      "text/plain": [
       "array([0, 1, 2, 3, 4, 5, 6, 7, 8, 9])"
      ]
     },
     "execution_count": 100,
     "metadata": {},
     "output_type": "execute_result"
    }
   ],
=======
   "outputs": [],
>>>>>>> 55b74bd475c42d3d06807089ef97d5bc42a63d85
   "source": [
    "# Vamos supor um vetor originalmente de 10 elementos\n",
    "dados_originais = np.arange(10)\n",
    "dados_originais"
   ]
  },
  {
   "cell_type": "code",
<<<<<<< HEAD
   "execution_count": 101,
=======
   "execution_count": 0,
>>>>>>> 55b74bd475c42d3d06807089ef97d5bc42a63d85
   "metadata": {
    "application/vnd.databricks.v1+cell": {
     "cellMetadata": {
      "byteLimit": 2048000,
      "rowLimit": 10000
     },
     "inputWidgets": {},
     "nuid": "b51181e1-712e-48c7-97a0-dfe7bd65e997",
     "showTitle": false,
     "title": ""
    },
    "id": "2_bd1WWYdyP9"
   },
<<<<<<< HEAD
   "outputs": [
    {
     "data": {
      "text/plain": [
       "array([[0, 1, 2, 3, 4],\n",
       "       [5, 6, 7, 8, 9]])"
      ]
     },
     "execution_count": 101,
     "metadata": {},
     "output_type": "execute_result"
    }
   ],
=======
   "outputs": [],
>>>>>>> 55b74bd475c42d3d06807089ef97d5bc42a63d85
   "source": [
    "# Vamos transformá-lo em uma matriz de duas linhas e cinco colunas\n",
    "np.reshape(dados_originais, [2,5])"
   ]
  },
  {
   "cell_type": "code",
<<<<<<< HEAD
   "execution_count": 102,
=======
   "execution_count": 0,
>>>>>>> 55b74bd475c42d3d06807089ef97d5bc42a63d85
   "metadata": {
    "application/vnd.databricks.v1+cell": {
     "cellMetadata": {
      "byteLimit": 2048000,
      "rowLimit": 10000
     },
     "inputWidgets": {},
     "nuid": "9a0e8e48-4c87-425e-8658-ec8df3c92c93",
     "showTitle": false,
     "title": ""
    },
    "id": "wHki1sNmd1Ps"
   },
<<<<<<< HEAD
   "outputs": [
    {
     "data": {
      "text/plain": [
       "array([[0, 1],\n",
       "       [2, 3],\n",
       "       [4, 5],\n",
       "       [6, 7],\n",
       "       [8, 9]])"
      ]
     },
     "execution_count": 102,
     "metadata": {},
     "output_type": "execute_result"
    }
   ],
=======
   "outputs": [],
>>>>>>> 55b74bd475c42d3d06807089ef97d5bc42a63d85
   "source": [
    "# Alternativamente, também poderíamos ter optado por cinco linhas e duas colunas\n",
    "np.reshape(dados_originais, [5,2])"
   ]
  },
  {
<<<<<<< HEAD
=======
   "cell_type": "code",
   "execution_count": 0,
   "metadata": {
    "application/vnd.databricks.v1+cell": {
     "cellMetadata": {
      "byteLimit": 2048000,
      "rowLimit": 10000
     },
     "inputWidgets": {},
     "nuid": "7ab62b9f-ad10-49bd-8c1b-e52750c57bae",
     "showTitle": false,
     "title": ""
    },
    "id": "BkklLv6Yd28V"
   },
   "outputs": [],
   "source": [
    "np.reshape(dados_originais, [3,3])"
   ]
  },
  {
>>>>>>> 55b74bd475c42d3d06807089ef97d5bc42a63d85
   "cell_type": "markdown",
   "metadata": {
    "application/vnd.databricks.v1+cell": {
     "cellMetadata": {},
     "inputWidgets": {},
     "nuid": "05c02b7f-54d9-413b-b5a9-e5ce9caec378",
     "showTitle": false,
     "title": ""
    },
    "id": "2OzCavo_d8Nm"
   },
   "source": [
    "**Atenção:** ao utilizar o reshape, o número de elementos total nunca pode ser alterado!"
   ]
  },
  {
   "cell_type": "code",
<<<<<<< HEAD
   "execution_count": 103,
=======
   "execution_count": 0,
>>>>>>> 55b74bd475c42d3d06807089ef97d5bc42a63d85
   "metadata": {
    "application/vnd.databricks.v1+cell": {
     "cellMetadata": {
      "byteLimit": 2048000,
      "rowLimit": 10000
     },
     "inputWidgets": {},
     "nuid": "2342a8d1-c545-41c9-9632-3e599117ad36",
     "showTitle": false,
     "title": ""
    },
    "id": "KampD2Vcd7LN"
   },
<<<<<<< HEAD
   "outputs": [
    {
     "data": {
      "text/plain": [
       "array([[0, 1, 2, 3, 4],\n",
       "       [5, 6, 7, 8, 9]])"
      ]
     },
     "execution_count": 103,
     "metadata": {},
     "output_type": "execute_result"
    }
   ],
=======
   "outputs": [],
>>>>>>> 55b74bd475c42d3d06807089ef97d5bc42a63d85
   "source": [
    "dados_originais.reshape(2,5)"
   ]
  },
  {
   "cell_type": "markdown",
   "metadata": {
    "application/vnd.databricks.v1+cell": {
     "cellMetadata": {},
     "inputWidgets": {},
     "nuid": "3885c5e6-8027-4451-813d-896782d0c56c",
     "showTitle": false,
     "title": ""
    },
    "id": "BgD6Mgi8eAee"
   },
   "source": [
    "<img src = \"https://numpy.org/devdocs/_images/np_reshape.png\" />"
   ]
  },
  {
   "cell_type": "markdown",
   "metadata": {
    "application/vnd.databricks.v1+cell": {
     "cellMetadata": {},
     "inputWidgets": {},
     "nuid": "f029a2e4-5b39-44fc-8040-4224d593028e",
     "showTitle": false,
     "title": ""
    },
    "id": "cMrcSln2eEJ_"
   },
   "source": [
    "### **Operações com matrizes:**"
   ]
  },
  {
   "cell_type": "code",
<<<<<<< HEAD
   "execution_count": 104,
=======
   "execution_count": 0,
>>>>>>> 55b74bd475c42d3d06807089ef97d5bc42a63d85
   "metadata": {
    "application/vnd.databricks.v1+cell": {
     "cellMetadata": {
      "byteLimit": 2048000,
      "rowLimit": 10000
     },
     "inputWidgets": {},
     "nuid": "98cd2990-0565-4df4-9143-418ca1dd9203",
     "showTitle": false,
     "title": ""
    },
    "id": "-arOHXOQd9s9"
   },
   "outputs": [],
   "source": [
    "data = np.arange(1,5).reshape(2,2)"
   ]
  },
  {
   "cell_type": "code",
<<<<<<< HEAD
   "execution_count": 105,
=======
   "execution_count": 0,
>>>>>>> 55b74bd475c42d3d06807089ef97d5bc42a63d85
   "metadata": {
    "application/vnd.databricks.v1+cell": {
     "cellMetadata": {
      "byteLimit": 2048000,
      "rowLimit": 10000
     },
     "inputWidgets": {},
     "nuid": "7c96238c-0471-483a-93bc-745c569275c5",
     "showTitle": false,
     "title": ""
    },
    "id": "gGuaDMVPeKjN"
   },
<<<<<<< HEAD
   "outputs": [
    {
     "data": {
      "text/plain": [
       "array([[1, 2],\n",
       "       [3, 4]])"
      ]
     },
     "execution_count": 105,
     "metadata": {},
     "output_type": "execute_result"
    }
   ],
=======
   "outputs": [],
>>>>>>> 55b74bd475c42d3d06807089ef97d5bc42a63d85
   "source": [
    "data"
   ]
  },
  {
   "cell_type": "code",
<<<<<<< HEAD
   "execution_count": 106,
=======
   "execution_count": 0,
>>>>>>> 55b74bd475c42d3d06807089ef97d5bc42a63d85
   "metadata": {
    "application/vnd.databricks.v1+cell": {
     "cellMetadata": {
      "byteLimit": 2048000,
      "rowLimit": 10000
     },
     "inputWidgets": {},
     "nuid": "69c067cf-5481-41de-8766-a0fe63db03a3",
     "showTitle": false,
     "title": ""
    }
   },
<<<<<<< HEAD
   "outputs": [
    {
     "data": {
      "text/plain": [
       "array([[1., 1.],\n",
       "       [1., 1.]])"
      ]
     },
     "execution_count": 106,
     "metadata": {},
     "output_type": "execute_result"
    }
   ],
=======
   "outputs": [],
>>>>>>> 55b74bd475c42d3d06807089ef97d5bc42a63d85
   "source": [
    "ones = np.ones(4).reshape(2,2)\n",
    "ones"
   ]
  },
  {
   "cell_type": "markdown",
   "metadata": {
    "application/vnd.databricks.v1+cell": {
     "cellMetadata": {},
     "inputWidgets": {},
     "nuid": "5335377f-029f-49e9-81a2-c6a384ce279c",
     "showTitle": false,
     "title": ""
    },
    "id": "_XGKSHgqeQky"
   },
   "source": [
    "<img src=\"https://numpy.org/devdocs/_images/np_matrix_arithmetic.png\" />"
   ]
  },
  {
   "cell_type": "code",
<<<<<<< HEAD
   "execution_count": 107,
=======
   "execution_count": 0,
>>>>>>> 55b74bd475c42d3d06807089ef97d5bc42a63d85
   "metadata": {
    "application/vnd.databricks.v1+cell": {
     "cellMetadata": {
      "byteLimit": 2048000,
      "rowLimit": 10000
     },
     "inputWidgets": {},
     "nuid": "5740b794-d597-4892-98c9-14cc71509509",
     "showTitle": false,
     "title": ""
    },
    "id": "MT9zlYeaePSt"
   },
<<<<<<< HEAD
   "outputs": [
    {
     "data": {
      "text/plain": [
       "array([[2., 3.],\n",
       "       [4., 5.]])"
      ]
     },
     "execution_count": 107,
     "metadata": {},
     "output_type": "execute_result"
    }
   ],
=======
   "outputs": [],
>>>>>>> 55b74bd475c42d3d06807089ef97d5bc42a63d85
   "source": [
    "data+ones"
   ]
  },
  {
<<<<<<< HEAD
=======
   "cell_type": "code",
   "execution_count": 0,
   "metadata": {
    "application/vnd.databricks.v1+cell": {
     "cellMetadata": {
      "byteLimit": 2048000,
      "rowLimit": 10000
     },
     "inputWidgets": {},
     "nuid": "589d842d-d608-4aa1-b884-3fd2a0c47191",
     "showTitle": false,
     "title": ""
    }
   },
   "outputs": [],
   "source": [
    "np.array([1,2,3])+np.array([1,2])"
   ]
  },
  {
>>>>>>> 55b74bd475c42d3d06807089ef97d5bc42a63d85
   "cell_type": "markdown",
   "metadata": {
    "application/vnd.databricks.v1+cell": {
     "cellMetadata": {},
     "inputWidgets": {},
     "nuid": "a56c537c-720c-4406-94b3-8aa2a423847d",
     "showTitle": false,
     "title": ""
    },
    "id": "_loNe8kselem"
   },
   "source": [
    "Diferentemente com arrays unidimensionais, conseguimos operar com matriz de tamanhos diferentes, **desde que sejam essencialmente um vetor-linha ou um vetor-coluna**."
   ]
  },
  {
   "cell_type": "code",
<<<<<<< HEAD
   "execution_count": 108,
=======
   "execution_count": 0,
>>>>>>> 55b74bd475c42d3d06807089ef97d5bc42a63d85
   "metadata": {
    "application/vnd.databricks.v1+cell": {
     "cellMetadata": {
      "byteLimit": 2048000,
      "rowLimit": 10000
     },
     "inputWidgets": {},
     "nuid": "e7e2f994-c186-47e7-b900-5345962e202b",
     "showTitle": false,
     "title": ""
    },
    "id": "OlXksbWzeTWs"
   },
<<<<<<< HEAD
   "outputs": [
    {
     "data": {
      "text/plain": [
       "array([[2., 3.],\n",
       "       [4., 5.],\n",
       "       [6., 7.]])"
      ]
     },
     "execution_count": 108,
     "metadata": {},
     "output_type": "execute_result"
    }
   ],
=======
   "outputs": [],
>>>>>>> 55b74bd475c42d3d06807089ef97d5bc42a63d85
   "source": [
    "matriz_1 = np.arange(1,7).reshape(3,2)\n",
    "ones = np.ones(2)\n",
    "matriz_1+ones"
   ]
  },
  {
   "cell_type": "markdown",
   "metadata": {
    "application/vnd.databricks.v1+cell": {
     "cellMetadata": {},
     "inputWidgets": {},
     "nuid": "1d6f4848-f09c-4f55-b704-2759c4f3073e",
     "showTitle": false,
     "title": ""
    },
    "id": "uqFt7PfIexNw"
   },
   "source": [
    "<img src = \"https://numpy.org/devdocs/_images/np_matrix_broadcasting.png\" />"
   ]
  },
  {
   "cell_type": "markdown",
   "metadata": {
    "application/vnd.databricks.v1+cell": {
     "cellMetadata": {},
     "inputWidgets": {},
     "nuid": "ecde6daf-6266-4ffd-9d8f-09e69c4ec307",
     "showTitle": false,
     "title": ""
    },
    "id": "ia-Vq0wGezzo"
   },
   "source": [
    "### Transpondo arrays\n",
    "\n",
    "Transpor a matriz equivale a \"trocar\" as linhas pelas colunas."
   ]
  },
  {
   "cell_type": "code",
<<<<<<< HEAD
   "execution_count": 109,
=======
   "execution_count": 0,
>>>>>>> 55b74bd475c42d3d06807089ef97d5bc42a63d85
   "metadata": {
    "application/vnd.databricks.v1+cell": {
     "cellMetadata": {
      "byteLimit": 2048000,
      "rowLimit": 10000
     },
     "inputWidgets": {},
     "nuid": "4dd6eee5-fe34-4c0c-8afb-f4ec90711b9b",
     "showTitle": false,
     "title": ""
    },
    "id": "PxiH3Hqweom1"
   },
<<<<<<< HEAD
   "outputs": [
    {
     "data": {
      "text/plain": [
       "array([[1, 2],\n",
       "       [3, 4],\n",
       "       [5, 6]])"
      ]
     },
     "execution_count": 109,
     "metadata": {},
     "output_type": "execute_result"
    }
   ],
=======
   "outputs": [],
>>>>>>> 55b74bd475c42d3d06807089ef97d5bc42a63d85
   "source": [
    "matriz_1"
   ]
  },
  {
   "cell_type": "code",
<<<<<<< HEAD
   "execution_count": 110,
=======
   "execution_count": 0,
>>>>>>> 55b74bd475c42d3d06807089ef97d5bc42a63d85
   "metadata": {
    "application/vnd.databricks.v1+cell": {
     "cellMetadata": {
      "byteLimit": 2048000,
      "rowLimit": 10000
     },
     "inputWidgets": {},
     "nuid": "d3494433-ed16-4278-b8c2-7db7ace650bb",
     "showTitle": false,
     "title": ""
    },
    "id": "_G2dRYzBe4wl"
   },
<<<<<<< HEAD
   "outputs": [
    {
     "data": {
      "text/plain": [
       "array([[1, 3, 5],\n",
       "       [2, 4, 6]])"
      ]
     },
     "execution_count": 110,
     "metadata": {},
     "output_type": "execute_result"
    }
   ],
=======
   "outputs": [],
>>>>>>> 55b74bd475c42d3d06807089ef97d5bc42a63d85
   "source": [
    "matriz_1.transpose()"
   ]
  },
  {
   "cell_type": "markdown",
   "metadata": {
    "application/vnd.databricks.v1+cell": {
     "cellMetadata": {},
     "inputWidgets": {},
     "nuid": "182c9a76-d2ba-407b-bcb0-49cefaf335b9",
     "showTitle": false,
     "title": ""
    },
    "id": "PsPi_fn_e81z"
   },
   "source": [
    "<img src = \"https://numpy.org/devdocs/_images/np_transposing_reshaping.png\" />"
   ]
  },
  {
   "cell_type": "markdown",
   "metadata": {
    "application/vnd.databricks.v1+cell": {
     "cellMetadata": {},
     "inputWidgets": {},
     "nuid": "c64f7d5e-b37b-4154-a652-294ae9a2f99f",
     "showTitle": false,
     "title": ""
    },
    "id": "bRoetUOje-wQ"
   },
   "source": [
    "### Filtrando matrizes\n",
    "\n",
    "Seguimos a mesma lógica de filtros em arrays unidimensionais, com a particularidade de que estamos lidando, agora, com mais de uma dimensão - e podemos levar isso em consideração."
   ]
  },
  {
   "cell_type": "code",
<<<<<<< HEAD
   "execution_count": 118,
   "metadata": {},
=======
   "execution_count": 0,
   "metadata": {
    "application/vnd.databricks.v1+cell": {
     "cellMetadata": {
      "byteLimit": 2048000,
      "rowLimit": 10000
     },
     "inputWidgets": {},
     "nuid": "9cef7d73-7093-4989-9996-c59d3317d7c1",
     "showTitle": false,
     "title": ""
    }
   },
>>>>>>> 55b74bd475c42d3d06807089ef97d5bc42a63d85
   "outputs": [],
   "source": [
    "import numpy as np"
   ]
  },
  {
   "cell_type": "code",
<<<<<<< HEAD
   "execution_count": 120,
   "metadata": {
    "application/vnd.databricks.v1+cell": {
     "cellMetadata": {},
=======
   "execution_count": 0,
   "metadata": {
    "application/vnd.databricks.v1+cell": {
     "cellMetadata": {
      "byteLimit": 2048000,
      "rowLimit": 10000
     },
     "inputWidgets": {},
     "nuid": "4471648e-8aef-49f8-8594-042be35a6b30",
     "showTitle": false,
     "title": ""
    }
   },
   "outputs": [],
   "source": [
    "array = np.arange(12)"
   ]
  },
  {
   "cell_type": "code",
   "execution_count": 0,
   "metadata": {
    "application/vnd.databricks.v1+cell": {
     "cellMetadata": {
      "byteLimit": 2048000,
      "rowLimit": 10000
     },
     "inputWidgets": {},
     "nuid": "c006b34f-437b-49a1-9e64-ffbf107e9386",
     "showTitle": false,
     "title": ""
    }
   },
   "outputs": [],
   "source": [
    "array[array>5]"
   ]
  },
  {
   "cell_type": "code",
   "execution_count": 0,
   "metadata": {
    "application/vnd.databricks.v1+cell": {
     "cellMetadata": {
      "byteLimit": 2048000,
      "rowLimit": 10000
     },
>>>>>>> 55b74bd475c42d3d06807089ef97d5bc42a63d85
     "inputWidgets": {},
     "nuid": "53f3454d-1218-4ef2-8a55-fc570e7f9677",
     "showTitle": false,
     "title": ""
    },
    "id": "0ZJjpKugfE5n"
   },
   "outputs": [],
   "source": [
<<<<<<< HEAD
    "array = np.arange(12)"
=======
    "data = array.reshape(3,4)"
>>>>>>> 55b74bd475c42d3d06807089ef97d5bc42a63d85
   ]
  },
  {
   "cell_type": "code",
<<<<<<< HEAD
   "execution_count": 121,
   "metadata": {},
   "outputs": [
    {
     "data": {
      "text/plain": [
       "array([ 6,  7,  8,  9, 10, 11])"
      ]
     },
     "execution_count": 121,
     "metadata": {},
     "output_type": "execute_result"
    }
   ],
   "source": [
    "array[array > 5]"
   ]
  },
  {
   "cell_type": "code",
   "execution_count": 127,
   "metadata": {},
   "outputs": [
    {
     "data": {
      "text/plain": [
       "array([[ 0,  1,  2,  3],\n",
       "       [ 4,  5,  6,  7],\n",
       "       [ 8,  9, 10, 11]])"
      ]
     },
     "execution_count": 127,
     "metadata": {},
     "output_type": "execute_result"
    }
   ],
   "source": [
    "data = array.reshape(3,4)\n",
=======
   "execution_count": 0,
   "metadata": {
    "application/vnd.databricks.v1+cell": {
     "cellMetadata": {
      "byteLimit": 2048000,
      "rowLimit": 10000
     },
     "inputWidgets": {},
     "nuid": "3d2a67e7-aa24-4e3b-a9c1-6761961c5410",
     "showTitle": false,
     "title": ""
    }
   },
   "outputs": [],
   "source": [
>>>>>>> 55b74bd475c42d3d06807089ef97d5bc42a63d85
    "data"
   ]
  },
  {
   "cell_type": "code",
<<<<<<< HEAD
   "execution_count": 128,
   "metadata": {
    "application/vnd.databricks.v1+cell": {
     "cellMetadata": {},
=======
   "execution_count": 0,
   "metadata": {
    "application/vnd.databricks.v1+cell": {
     "cellMetadata": {
      "byteLimit": 2048000,
      "rowLimit": 10000
     },
>>>>>>> 55b74bd475c42d3d06807089ef97d5bc42a63d85
     "inputWidgets": {},
     "nuid": "0b9f3014-0433-4631-899f-817e80aa4567",
     "showTitle": false,
     "title": ""
    },
    "id": "4t7Ho_Dfe61V"
   },
<<<<<<< HEAD
   "outputs": [
    {
     "data": {
      "text/plain": [
       "array([[False, False, False,  True],\n",
       "       [ True,  True,  True,  True],\n",
       "       [ True,  True,  True,  True]])"
      ]
     },
     "execution_count": 128,
     "metadata": {},
     "output_type": "execute_result"
    }
   ],
=======
   "outputs": [],
>>>>>>> 55b74bd475c42d3d06807089ef97d5bc42a63d85
   "source": [
    "# filtrando a matriz como um todo\n",
    "data > 2"
   ]
  },
  {
   "cell_type": "code",
<<<<<<< HEAD
   "execution_count": 130,
   "metadata": {
    "application/vnd.databricks.v1+cell": {
     "cellMetadata": {},
=======
   "execution_count": 0,
   "metadata": {
    "application/vnd.databricks.v1+cell": {
     "cellMetadata": {
      "byteLimit": 2048000,
      "rowLimit": 10000
     },
>>>>>>> 55b74bd475c42d3d06807089ef97d5bc42a63d85
     "inputWidgets": {},
     "nuid": "aa9b642b-074a-4c58-b691-554c007857bb",
     "showTitle": false,
     "title": ""
    },
    "id": "KL8ddlcofI8J"
   },
<<<<<<< HEAD
   "outputs": [
    {
     "data": {
      "text/plain": [
       "array([ True,  True,  True,  True])"
      ]
     },
     "execution_count": 130,
     "metadata": {},
     "output_type": "execute_result"
    }
   ],
   "source": [
    "# Filtrando o primeiro elemento de cada coluna da matriz\n",
    "data[1,:] > 1"
=======
   "outputs": [],
   "source": [
    "# Filtrando o primeiro elemento de cada coluna da matriz\n",
    "data[0,:] > 1"
>>>>>>> 55b74bd475c42d3d06807089ef97d5bc42a63d85
   ]
  },
  {
   "cell_type": "code",
<<<<<<< HEAD
   "execution_count": 131,
   "metadata": {
    "application/vnd.databricks.v1+cell": {
     "cellMetadata": {},
=======
   "execution_count": 0,
   "metadata": {
    "application/vnd.databricks.v1+cell": {
     "cellMetadata": {
      "byteLimit": 2048000,
      "rowLimit": 10000
     },
>>>>>>> 55b74bd475c42d3d06807089ef97d5bc42a63d85
     "inputWidgets": {},
     "nuid": "e46b15b8-396f-4ac4-b09d-37203e7115c8",
     "showTitle": false,
     "title": ""
    },
    "id": "YQ4mPAZLfJTd"
   },
<<<<<<< HEAD
   "outputs": [
    {
     "data": {
      "text/plain": [
       "array([False,  True,  True])"
      ]
     },
     "execution_count": 131,
     "metadata": {},
     "output_type": "execute_result"
    }
   ],
=======
   "outputs": [],
>>>>>>> 55b74bd475c42d3d06807089ef97d5bc42a63d85
   "source": [
    "# Filtrando o segundo elemento de cada linha da matriz\n",
    "data[:,1] > 4"
   ]
  },
  {
   "cell_type": "markdown",
   "metadata": {
    "application/vnd.databricks.v1+cell": {
     "cellMetadata": {},
     "inputWidgets": {},
     "nuid": "9848b1f2-5d3c-4a63-af46-98e26cf9c795",
     "showTitle": false,
     "title": ""
    },
    "id": "bhkNQNYlfQiX"
   },
   "source": [
    "Assim como fizemos anteriromente, podemos utilizar esse array booleano para indexar a matriz original."
   ]
  },
  {
   "cell_type": "code",
<<<<<<< HEAD
   "execution_count": 132,
   "metadata": {
    "application/vnd.databricks.v1+cell": {
     "cellMetadata": {},
=======
   "execution_count": 0,
   "metadata": {
    "application/vnd.databricks.v1+cell": {
     "cellMetadata": {
      "byteLimit": 2048000,
      "rowLimit": 10000
     },
     "inputWidgets": {},
     "nuid": "3ad9cb72-4437-42df-9c9c-6b2b96dc6c49",
     "showTitle": false,
     "title": ""
    }
   },
   "outputs": [],
   "source": [
    "data[:,1]>4"
   ]
  },
  {
   "cell_type": "code",
   "execution_count": 0,
   "metadata": {
    "application/vnd.databricks.v1+cell": {
     "cellMetadata": {
      "byteLimit": 2048000,
      "rowLimit": 10000
     },
>>>>>>> 55b74bd475c42d3d06807089ef97d5bc42a63d85
     "inputWidgets": {},
     "nuid": "0d12c39a-0b37-40f9-8528-81de86a27ea1",
     "showTitle": false,
     "title": ""
    },
    "id": "5WbzTcZ8fLze"
   },
<<<<<<< HEAD
   "outputs": [
    {
     "data": {
      "text/plain": [
       "array([[ 4,  5,  6,  7],\n",
       "       [ 8,  9, 10, 11]])"
      ]
     },
     "execution_count": 132,
     "metadata": {},
     "output_type": "execute_result"
    }
   ],
   "source": [
    "data[data[:,1] >4,:]"
=======
   "outputs": [],
   "source": [
    "data[data[:,1]>4,:]"
>>>>>>> 55b74bd475c42d3d06807089ef97d5bc42a63d85
   ]
  },
  {
   "cell_type": "markdown",
   "metadata": {
    "application/vnd.databricks.v1+cell": {
     "cellMetadata": {},
     "inputWidgets": {},
     "nuid": "d0459aa6-b879-468d-af69-ab788c3d343f",
     "showTitle": false,
     "title": ""
    },
    "id": "I_kPR9ajfT9P"
   },
   "source": [
    "Um outro exemplo"
   ]
  },
  {
   "cell_type": "code",
<<<<<<< HEAD
   "execution_count": 133,
   "metadata": {
    "application/vnd.databricks.v1+cell": {
     "cellMetadata": {},
=======
   "execution_count": 0,
   "metadata": {
    "application/vnd.databricks.v1+cell": {
     "cellMetadata": {
      "byteLimit": 2048000,
      "rowLimit": 10000
     },
>>>>>>> 55b74bd475c42d3d06807089ef97d5bc42a63d85
     "inputWidgets": {},
     "nuid": "8ef142d0-c7b8-4e8d-a8e9-d237f0d8ec06",
     "showTitle": false,
     "title": ""
    },
    "id": "MtK1iM4hfSHN"
   },
<<<<<<< HEAD
   "outputs": [
    {
     "data": {
      "text/plain": [
       "array([[ 1.46237812,  1.53871497, -2.43910582,  0.60344123],\n",
       "       [-0.25104397, -0.16386712, -1.47632969,  1.48698096],\n",
       "       [-0.02445518,  0.35555132,  0.41701111,  0.83246186],\n",
       "       [-0.29339915, -0.02983857,  0.09512578,  0.66465434]])"
      ]
     },
     "execution_count": 133,
     "metadata": {},
     "output_type": "execute_result"
    }
   ],
=======
   "outputs": [],
>>>>>>> 55b74bd475c42d3d06807089ef97d5bc42a63d85
   "source": [
    "# Vamos gerar uma matriz 4x4 aleatoriamente\n",
    "d = np.random.randn(4,4)\n",
    "d"
   ]
  },
  {
   "cell_type": "code",
<<<<<<< HEAD
   "execution_count": 135,
   "metadata": {
    "application/vnd.databricks.v1+cell": {
     "cellMetadata": {},
=======
   "execution_count": 0,
   "metadata": {
    "application/vnd.databricks.v1+cell": {
     "cellMetadata": {
      "byteLimit": 2048000,
      "rowLimit": 10000
     },
>>>>>>> 55b74bd475c42d3d06807089ef97d5bc42a63d85
     "inputWidgets": {},
     "nuid": "003209fe-7b47-49fe-8cf6-906dac59845b",
     "showTitle": false,
     "title": ""
    },
    "id": "6bSIxkjjfWsx"
   },
<<<<<<< HEAD
   "outputs": [
    {
     "data": {
      "text/plain": [
       "array([[ 1.46237812,  1.53871497, -2.43910582,  0.60344123],\n",
       "       [-0.02445518,  0.35555132,  0.41701111,  0.83246186]])"
      ]
     },
     "execution_count": 135,
     "metadata": {},
     "output_type": "execute_result"
    }
   ],
=======
   "outputs": [],
>>>>>>> 55b74bd475c42d3d06807089ef97d5bc42a63d85
   "source": [
    "# Filtremos todas as linhas cuja segunda coluna seja positiva\n",
    "d[d[:,1] > 0]"
   ]
  },
  {
   "cell_type": "code",
<<<<<<< HEAD
   "execution_count": 136,
   "metadata": {
    "application/vnd.databricks.v1+cell": {
     "cellMetadata": {},
=======
   "execution_count": 0,
   "metadata": {
    "application/vnd.databricks.v1+cell": {
     "cellMetadata": {
      "byteLimit": 2048000,
      "rowLimit": 10000
     },
>>>>>>> 55b74bd475c42d3d06807089ef97d5bc42a63d85
     "inputWidgets": {},
     "nuid": "f5afd09f-bd17-4c7e-9419-1059078e6c07",
     "showTitle": false,
     "title": ""
    },
    "id": "p7J0V4kSfXkd"
   },
<<<<<<< HEAD
   "outputs": [
    {
     "data": {
      "text/plain": [
       "array([1.53871497, 0.35555132])"
      ]
     },
     "execution_count": 136,
     "metadata": {},
     "output_type": "execute_result"
    }
   ],
=======
   "outputs": [],
>>>>>>> 55b74bd475c42d3d06807089ef97d5bc42a63d85
   "source": [
    "# Agora, indexemos a matriz\n",
    "d[d[:,1] > 0,1]"
   ]
  },
  {
   "cell_type": "markdown",
   "metadata": {
    "application/vnd.databricks.v1+cell": {
     "cellMetadata": {},
     "inputWidgets": {},
     "nuid": "066a3a44-b302-47e9-b988-b8be1b10387e",
     "showTitle": false,
     "title": ""
    },
    "id": "wcbYaszYfaWF"
   },
   "source": [
    "___\n",
    "___\n",
    "___"
   ]
  },
  {
   "cell_type": "markdown",
   "metadata": {
    "application/vnd.databricks.v1+cell": {
     "cellMetadata": {},
     "inputWidgets": {},
     "nuid": "02f0a2c1-6f54-41aa-a49d-cd16bf18f7b2",
     "showTitle": false,
     "title": ""
    },
    "id": "guerv684fdDw"
   },
   "source": [
    "## 3. **Exercícios:**\n",
    "\n",
    "___"
   ]
  },
  {
   "cell_type": "markdown",
   "metadata": {
    "application/vnd.databricks.v1+cell": {
     "cellMetadata": {},
     "inputWidgets": {},
     "nuid": "65894c1b-63eb-4569-a5aa-6e3470ebd092",
     "showTitle": false,
     "title": ""
    },
    "id": "8303Y2uFf5Fu"
   },
   "source": [
    "**1.** Em uma **análise de regressão**, usualmente estamos interessados em descrever o comportamento em um conjunto de dados por meio de uma **função** que descreva, o tanto quanto possível, nosson conjunto de dados.\n",
    "\n",
    "Por exemplo, no gráfico abaixo, os pontos vermelhos relacionam as medidas das duas variáveis sendo avaliadas (nos eixos x e y); e a linha azul aproxima a relação entre elas por uma função linear."
   ]
  },
  {
   "cell_type": "markdown",
   "metadata": {
    "application/vnd.databricks.v1+cell": {
     "cellMetadata": {},
     "inputWidgets": {},
     "nuid": "7e28d7d6-08b0-4f0c-b87f-caaf787ed3fd",
     "showTitle": false,
     "title": ""
    },
    "id": "eBWHRDA8f7DV"
   },
   "source": [
    "![Normdist_regression.png](https://miro.medium.com/v2/resize:fit:1280/1*eeIvlwkMNG1wSmj3FR6M2g.gif)"
   ]
  },
  {
   "cell_type": "markdown",
   "metadata": {
    "application/vnd.databricks.v1+cell": {
     "cellMetadata": {},
     "inputWidgets": {},
     "nuid": "d344dd9f-6435-4a36-be56-452d2a0447ed",
     "showTitle": false,
     "title": ""
    },
    "id": "_mLT4S_8gfDv"
   },
   "source": [
    "É possível ver que nem todos os pontos obedecem exatamente à relação ditada pela reta (isto é, há pontos que não estão exatamente \"sobre a reta\"; mas, sim, ligeraimente acima, ou abaixo, dela).\n",
    "\n",
    "Isto, contudo, é esperado em um modelo de regressão, por inúmeras fontes de incerteza associadas às medições."
   ]
  },
  {
   "cell_type": "markdown",
   "metadata": {
    "application/vnd.databricks.v1+cell": {
     "cellMetadata": {},
     "inputWidgets": {},
     "nuid": "33e165d6-203d-45cc-a3fb-c440ed644a49",
     "showTitle": false,
     "title": ""
    },
    "id": "r-5DhMyegihF"
   },
   "source": [
    "Uma das métricas que utilizamos para avaliar a qualidade de uma regressão é o **root mean squared error (RMSE)**, que mensura a diferença total entre cada predição da regressão ($y_{prediction}$) com o valor real de cada i-ésima medida ($y_{i}$). O RMSE pode ser definido como:"
   ]
  },
  {
   "cell_type": "markdown",
   "metadata": {
    "application/vnd.databricks.v1+cell": {
     "cellMetadata": {},
     "inputWidgets": {},
     "nuid": "7850fab2-48a6-42d4-ba9e-a9f2227c0d63",
     "showTitle": false,
     "title": ""
    },
    "id": "AXPGj7SSgkiG"
   },
   "source": [
    "$RMSE = \\sqrt{\\frac{1}{n}\\sum_{i=1}^{n}(y_{prediction} - y_{i})^2} $."
   ]
  },
  {
   "cell_type": "markdown",
   "metadata": {
    "application/vnd.databricks.v1+cell": {
     "cellMetadata": {},
     "inputWidgets": {},
     "nuid": "995b9f08-c6a4-4aab-9dd9-9ca794475341",
     "showTitle": false,
     "title": ""
    },
    "id": "V3apcCiYhMyH"
   },
   "source": [
    "Escreva uma função que calcule o RMSE recebendo, como entrada, os vetores $y_{prediction}$ e $y_{i}$. Por exemplo, digamos que sua função se chame *calculate_rmse*, ela deve operar da seguinte forma:"
   ]
  },
  {
   "cell_type": "code",
<<<<<<< HEAD
   "execution_count": 148,
   "metadata": {},
   "outputs": [],
   "source": [
    "def calculate_rmse(y_prediction, y_i):\n",
    "       \n",
    "    if len(y_prediction) != len(y_i):\n",
    "        raise ValueError(\"Os vetores de previsão e observação devem ter o mesmo tamanho.\")\n",
    "\n",
    "    erro_bruto = y_prediction - y_i\n",
    "    print(erro_bruto)\n",
    "    \n",
    "    erro_quadratico = erro_bruto ** 2\n",
    "    print(erro_quadratico)\n",
    "\n",
    "    media_erro = np.mean(erro_quadratico)\n",
    "    print(media_erro)\n",
    "\n",
    "    rmse = round(np.sqrt(media_erro),2)\n",
    "\n",
    "    return rmse"
   ]
  },
  {
   "cell_type": "code",
   "execution_count": 151,
=======
   "execution_count": 0,
>>>>>>> 55b74bd475c42d3d06807089ef97d5bc42a63d85
   "metadata": {
    "application/vnd.databricks.v1+cell": {
     "cellMetadata": {},
     "inputWidgets": {},
     "nuid": "107a86ff-bc84-426b-8f32-9fc18bf05655",
     "showTitle": false,
     "title": ""
    },
    "id": "Xfdaw4ILfaKG"
   },
<<<<<<< HEAD
   "outputs": [
    {
     "name": "stdout",
     "output_type": "stream",
     "text": [
      "[1 2 0]\n",
      "[1 4 0]\n",
      "1.6666666666666667\n"
     ]
    },
    {
     "data": {
      "text/plain": [
       "1.29"
      ]
     },
     "execution_count": 151,
     "metadata": {},
     "output_type": "execute_result"
    }
   ],
=======
   "outputs": [],
>>>>>>> 55b74bd475c42d3d06807089ef97d5bc42a63d85
   "source": [
    "# dados dois arrays quaisquer de mesmo tamanho, a função deve retornar o RMSE\n",
    "y_prediction = np.array([1,2,3])\n",
    "y_i = np.array([0,0,3])\n",
    "calculate_rmse(y_prediction,y_i)"
   ]
  },
  {
<<<<<<< HEAD
=======
   "cell_type": "code",
   "execution_count": 0,
   "metadata": {
    "application/vnd.databricks.v1+cell": {
     "cellMetadata": {},
     "inputWidgets": {},
     "nuid": "fe12f2b0-221b-4a4c-8263-d26dc280266c",
     "showTitle": false,
     "title": ""
    }
   },
   "outputs": [],
   "source": []
  },
  {
>>>>>>> 55b74bd475c42d3d06807089ef97d5bc42a63d85
   "cell_type": "markdown",
   "metadata": {
    "application/vnd.databricks.v1+cell": {
     "cellMetadata": {},
     "inputWidgets": {},
     "nuid": "cda76795-dedd-4697-804c-bbe40e5cc123",
     "showTitle": false,
     "title": ""
    },
    "id": "CK6Fzs5WhZcP"
   },
   "source": [
    "**2.** Em estatística, um **outlier** é um valor que destoa consideravelmente da distribuição à qual está associado. Um dos critérios para idenficar outliers consiste em encontrar a **distância interquantil** (IQR), ou seja, a diferença entre o terceiro e o primeiro quantil da distribuição, e tomar como outliers todos os pontos abaixo, ou acima, de 1.5*IQR."
   ]
  },
  {
   "cell_type": "markdown",
   "metadata": {
    "application/vnd.databricks.v1+cell": {
     "cellMetadata": {},
     "inputWidgets": {},
     "nuid": "cc214fca-cf46-4f5c-9932-4c9e327b1f5e",
     "showTitle": false,
     "title": ""
    },
    "id": "sIXKVXQXhb_O"
   },
   "source": [
    "<img src = \"https://blog.curso-r.com/images/posts/banner/outlier.webp\" />"
   ]
  },
  {
   "cell_type": "markdown",
   "metadata": {
    "application/vnd.databricks.v1+cell": {
     "cellMetadata": {},
     "inputWidgets": {},
     "nuid": "e14a9689-509d-4d6d-ba60-30f3092d338a",
     "showTitle": false,
     "title": ""
    },
    "id": "EIbYf2Vthdp-"
   },
   "source": [
    "Escreva uma função que, dada uma matriz de dados de entrada de dimensões $N_{observações} \\times N_{features}$ retorne três requisitos:\n",
    "- uma matriz booleana indicando a existência de outliers nos dados de entrada;\n",
    "- a quantidade de outliers\n",
    "- quem são os outliers (os valores)."
   ]
  },
  {
   "cell_type": "markdown",
   "metadata": {
    "application/vnd.databricks.v1+cell": {
     "cellMetadata": {},
     "inputWidgets": {},
     "nuid": "ba698099-f3d0-4a23-a2c8-fa5e93f113a9",
     "showTitle": false,
     "title": ""
    },
    "id": "bLNP3ENlhdi4"
   },
   "source": [
    "**Algumas definições:**\n",
    "- um *quantil* divide a distribuição, após ordenados os pontos, segundo algum ponto de corte;\n",
    "- o **primeiro quantil** é o ponto para o qual 25 % dos valores da distribuição estão abaixo dele;\n",
    "- o **terceiro quantil** é o ponto para o qual 75 % dos valores da distribuição estão abaixo dele.\n",
    "\n",
    "Pode ser útil consultar a função **numpy.quantile**."
   ]
  },
  {
   "cell_type": "code",
<<<<<<< HEAD
   "execution_count": null,
   "metadata": {
    "application/vnd.databricks.v1+cell": {
     "cellMetadata": {},
=======
   "execution_count": 0,
   "metadata": {
    "application/vnd.databricks.v1+cell": {
     "cellMetadata": {
      "byteLimit": 2048000,
      "rowLimit": 10000
     },
>>>>>>> 55b74bd475c42d3d06807089ef97d5bc42a63d85
     "inputWidgets": {},
     "nuid": "df0822c0-86ca-451a-a49d-035601e8b36e",
     "showTitle": false,
     "title": ""
    },
    "id": "aF8-a-jyfYXF"
   },
   "outputs": [],
<<<<<<< HEAD
=======
   "source": [
    "X = np.random.randn(300,15)\n",
    "X.shape"
   ]
  },
  {
   "cell_type": "code",
   "execution_count": 0,
   "metadata": {
    "application/vnd.databricks.v1+cell": {
     "cellMetadata": {},
     "inputWidgets": {},
     "nuid": "1f5cffa8-82d8-4ea9-8daa-3993da6b973f",
     "showTitle": false,
     "title": ""
    }
   },
   "outputs": [],
   "source": [
    "#IQR = Q3-Q1"
   ]
  },
  {
   "cell_type": "code",
   "execution_count": 0,
   "metadata": {
    "application/vnd.databricks.v1+cell": {
     "cellMetadata": {
      "byteLimit": 2048000,
      "rowLimit": 10000
     },
     "inputWidgets": {},
     "nuid": "13d04fe3-f9f6-4c5e-9e8b-c56a152ba931",
     "showTitle": false,
     "title": ""
    }
   },
   "outputs": [],
   "source": [
    "np.quantile(X,0.25,axis=0)"
   ]
  },
  {
   "cell_type": "code",
   "execution_count": 0,
   "metadata": {
    "application/vnd.databricks.v1+cell": {
     "cellMetadata": {},
     "inputWidgets": {},
     "nuid": "0f0212dd-c61f-4f84-ae17-da5ad343aedf",
     "showTitle": false,
     "title": ""
    }
   },
   "outputs": [],
>>>>>>> 55b74bd475c42d3d06807089ef97d5bc42a63d85
   "source": []
  }
 ],
 "metadata": {
  "application/vnd.databricks.v1+notebook": {
   "dashboards": [],
   "language": "python",
   "notebookMetadata": {
    "pythonIndentUnit": 4
   },
   "notebookName": "Aula_03_Numpy_(Parte_2)",
   "widgets": {}
  },
  "colab": {
   "provenance": []
  },
  "kernelspec": {
   "display_name": "Python 3",
   "name": "python3"
  },
  "language_info": {
<<<<<<< HEAD
   "codemirror_mode": {
    "name": "ipython",
    "version": 3
   },
   "file_extension": ".py",
   "mimetype": "text/x-python",
   "name": "python",
   "nbconvert_exporter": "python",
   "pygments_lexer": "ipython3",
   "version": "3.11.5"
=======
   "name": "python"
>>>>>>> 55b74bd475c42d3d06807089ef97d5bc42a63d85
  }
 },
 "nbformat": 4,
 "nbformat_minor": 0
}
