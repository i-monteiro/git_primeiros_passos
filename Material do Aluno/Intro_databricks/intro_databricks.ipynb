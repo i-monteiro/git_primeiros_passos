{
 "cells": [
  {
   "cell_type": "markdown",
   "metadata": {
    "application/vnd.databricks.v1+cell": {
     "cellMetadata": {},
     "inputWidgets": {},
     "nuid": "0e2256b0-0c0d-4a6a-9667-1591170e497d",
     "showTitle": false,
     "title": ""
    }
   },
   "source": [
    "# Databricks"
   ]
  },
  {
   "cell_type": "markdown",
   "metadata": {
    "application/vnd.databricks.v1+cell": {
     "cellMetadata": {},
     "inputWidgets": {},
     "nuid": "dfe69fc2-b97d-4c70-ade0-428a970fd77d",
     "showTitle": false,
     "title": ""
    }
   },
   "source": [
    "# Quickstart"
   ]
  },
  {
   "cell_type": "markdown",
   "metadata": {
    "application/vnd.databricks.v1+cell": {
     "cellMetadata": {},
     "inputWidgets": {},
     "nuid": "30f4d481-258b-4d8c-8908-48852b7074e8",
     "showTitle": false,
     "title": ""
    }
   },
   "source": [
    "**Como começar rapidamente, tal como no Google colab?**\n",
    "\n",
    "Primeiramente, precisamos criar um notebook:\n",
    "<br>&ensp;<img src=\"https://github.com/allansuzuki/ADA_classes/blob/main/DS-PY-Data-Science/DS-PY-004%20T%C3%89CNICAS%20DE%20PROGRAMA%C3%87%C3%83O%20I%20(PY)/Material%20do%20Aluno/Intro_databricks/img/clone_repo.png?raw=True\" alt=\"create_notebook\" width=\"800\"/>"
   ]
  },
  {
   "cell_type": "markdown",
   "metadata": {
    "application/vnd.databricks.v1+cell": {
     "cellMetadata": {},
     "inputWidgets": {},
     "nuid": "1d0a4510-345a-4beb-9230-019b0196613a",
     "showTitle": false,
     "title": ""
    }
   },
   "source": [
    "Assim, já podemos começar a trabalhar no notebook:\n",
    "\n",
    "<br>&ensp;<img src=\"https://github.com/allansuzuki/ADA_classes/blob/main/DS-PY-Data-Science/DS-PY-004%20T%C3%89CNICAS%20DE%20PROGRAMA%C3%87%C3%83O%20I%20(PY)/Material%20do%20Aluno/Intro_databricks/img/start_notebook1.png?raw=True\" alt=\"start_notebook1\" width=\"800\"/>"
   ]
  },
  {
   "cell_type": "markdown",
   "metadata": {
    "application/vnd.databricks.v1+cell": {
     "cellMetadata": {},
     "inputWidgets": {},
     "nuid": "2c8ccf20-fa13-4eea-9146-a03e10b9cf27",
     "showTitle": false,
     "title": ""
    }
   },
   "source": [
    "E pronto! Parabéns pelo seu primeiro notebook! :)\n",
    "\n",
    "As alterações são salvas automaticamente. Mais de uma pessoa pode trabalhar no mesmo notebook, desde que você permita o acesso a outros usuários no teu notebook."
   ]
  },
  {
   "cell_type": "markdown",
   "metadata": {
    "application/vnd.databricks.v1+cell": {
     "cellMetadata": {},
     "inputWidgets": {},
     "nuid": "5c583091-33c7-4d7b-a118-df5e87eb22fc",
     "showTitle": false,
     "title": ""
    }
   },
   "source": [
    "## Como acessar o notebook criado?"
   ]
  },
  {
   "cell_type": "markdown",
   "metadata": {
    "application/vnd.databricks.v1+cell": {
     "cellMetadata": {},
     "inputWidgets": {},
     "nuid": "7edabd19-b37f-45b6-ae5b-ef3ba3cc0af0",
     "showTitle": false,
     "title": ""
    }
   },
   "source": [
    "<img src=\"https://github.com/allansuzuki/ADA_classes/blob/main/DS-PY-Data-Science/DS-PY-004%20T%C3%89CNICAS%20DE%20PROGRAMA%C3%87%C3%83O%20I%20(PY)/Material%20do%20Aluno/Intro_databricks/img/select_notebook_created1.png?raw=True\" alt=\"select_notebook_created1\" width=\"800\"/>"
   ]
  },
  {
   "cell_type": "markdown",
   "metadata": {
    "application/vnd.databricks.v1+cell": {
     "cellMetadata": {},
     "inputWidgets": {},
     "nuid": "deab3076-a54c-4635-ad51-abfc9f13e4e7",
     "showTitle": false,
     "title": ""
    }
   },
   "source": [
    "## Como exportar notebook criado?"
   ]
  },
  {
   "cell_type": "markdown",
   "metadata": {
    "application/vnd.databricks.v1+cell": {
     "cellMetadata": {},
     "inputWidgets": {},
     "nuid": "bb84cd55-ffbf-42a9-b872-e9cd2e40a2fe",
     "showTitle": false,
     "title": ""
    }
   },
   "source": [
    "Ao clicar no notebook desejado, siga os passos abaixo:\n",
    "\n",
    "<br>&ensp;<img src=\"https://github.com/allansuzuki/ADA_classes/blob/main/DS-PY-Data-Science/DS-PY-004%20T%C3%89CNICAS%20DE%20PROGRAMA%C3%87%C3%83O%20I%20(PY)/Material%20do%20Aluno/Intro_databricks/img/export_notebook.png?raw=True\" alt=\"export_notebook\" width=\"300\"/>"
   ]
  },
  {
   "cell_type": "markdown",
   "metadata": {
    "application/vnd.databricks.v1+cell": {
     "cellMetadata": {},
     "inputWidgets": {},
     "nuid": "ed049c7c-10c1-446d-8cc9-b092e219239a",
     "showTitle": false,
     "title": ""
    },
    "vscode": {
     "languageId": "plaintext"
    }
   },
   "source": [
    "# Como trabalhar e compartilhar seus projetos aplicando Best Practices?"
   ]
  },
  {
   "cell_type": "markdown",
   "metadata": {
    "application/vnd.databricks.v1+cell": {
     "cellMetadata": {},
     "inputWidgets": {},
     "nuid": "9501ddeb-064f-4c9f-adf6-08fd6d3aed3f",
     "showTitle": false,
     "title": ""
    }
   },
   "source": [
    "Imagine um projeto em que várias pessoas estejam desenvolvendo várias partes do mesmo projeto. Cada um criando um notebook  e patilhando entre todos. Parace um caos isto não é mesmo? Justamente porque isto não é um \"Best Practice\" ou Boas práticas.\n",
    "\n",
    "\"Best practices\" são consideradas as melhores práticas em todo a vida do projeto, desde sua concepção até a produtização do projeto.\n",
    "\n",
    "Então, um Best practice a ser aplicado para compartilharmos arquivos de projetos e preservar suas versões é **utilizar repositórios**.\n",
    "Da mesma forma que aprendemos sobre como iniciar repositórios no `git`, também vamos iniciar nosso _repo_ no databricks.\n",
    "\n",
    "fonte: https://docs.databricks.com/en/repos/git-operations-with-repos.html"
   ]
  },
  {
   "cell_type": "markdown",
   "metadata": {
    "application/vnd.databricks.v1+cell": {
     "cellMetadata": {},
     "inputWidgets": {},
     "nuid": "453870ee-728e-423b-af25-bc3eaf406564",
     "showTitle": false,
     "title": ""
    },
    "vscode": {
     "languageId": "plaintext"
    }
   },
   "source": [
    "## Criar repo databricks + github"
   ]
  },
  {
   "cell_type": "markdown",
   "metadata": {
    "application/vnd.databricks.v1+cell": {
     "cellMetadata": {},
     "inputWidgets": {},
     "nuid": "600486ca-b17b-4c00-a8b4-f402fcf09383",
     "showTitle": false,
     "title": ""
    }
   },
   "source": [
    "O databricks permite criar um repo do zero, porém, vamos criar um repo no github, linká-lo e trabalhar com os projetos já no databricks."
   ]
  },
  {
   "cell_type": "markdown",
   "metadata": {
    "application/vnd.databricks.v1+cell": {
     "cellMetadata": {},
     "inputWidgets": {},
     "nuid": "be4102e0-75ac-406f-b103-7759b4925f0f",
     "showTitle": false,
     "title": ""
    }
   },
   "source": [
    "________\n",
    "## Criar repositorio (repo) no github (servidor remoto)\n",
    "\n",
    "### Criar uma conta\n",
    "Para criarmos uma conta no github, nosso servidor remoto de repositórios do git, siga os passos:\n",
    "1. Entre no site https://www.github.com > `Sign up`\n",
    "2. Siga os passos escritos (use um tradutor se necessário)\n",
    "\n",
    "OBS: Utilize um email pessoal para garantir que receberá o email de confirmação da ativação de conta.\n",
    "\n",
    "### Criar um repo\n",
    "Para criar nosso primeiro repositório, basta seguir os passos:\n",
    "Na janela inicial **após o login**, na aba esquerda, clique em `new`\n",
    "\n",
    "<br>&ensp;<img src=\"https://github.com/allansuzuki/ADA_classes/blob/main/DS-PY-Data-Science/DS-PY-004%20T%C3%89CNICAS%20DE%20PROGRAMA%C3%87%C3%83O%20I%20(PY)/Material%20do%20Aluno/Intro_databricks/img/github_create_repo.png?raw=True\" alt=\"create repo in github\" width=\"800\"/>\n",
    "\n",
    "Na janela abaixo, digite o nome do repositorio que deseja, uma descrição do teu projeto, escolher se queremos que seja um repositório **público** ou privado, e tica o box `Add a README file`\n",
    "\n",
    "<br>&ensp;<img src=\"https://github.com/allansuzuki/ADA_classes/blob/main/DS-PY-Data-Science/DS-PY-004%20T%C3%89CNICAS%20DE%20PROGRAMA%C3%87%C3%83O%20I%20(PY)/Material%20do%20Aluno/Aula 1/img/github_create_repo_2.png?raw=True\" alt=\"create repo in github2\" width=\"500\"/>\n",
    "\n",
    "### Etapas para autenticação\n",
    "No databricks, a própria plataforma já conecta nossa conta, mas também é possível utilizar Personal Tokens de acesso, que são bem comuns em APIs (ex: Utilizar API do chatGPT OpenAI). Para saber como gerar seu Personal Token no Github, clique aqui: [(+info)](https://docs.github.com/pt/enterprise-cloud@latest/authentication/keeping-your-account-and-data-secure/managing-your-personal-access-tokens#como-criar-um-personal-access-token-classic)"
   ]
  },
  {
   "cell_type": "markdown",
   "metadata": {
    "application/vnd.databricks.v1+cell": {
     "cellMetadata": {},
     "inputWidgets": {},
     "nuid": "9effddd7-aa61-4c59-a968-eefd55b61435",
     "showTitle": false,
     "title": ""
    }
   },
   "source": [
    "## Clonar repo do github no databricks (git clone)"
   ]
  },
  {
   "cell_type": "markdown",
   "metadata": {
    "application/vnd.databricks.v1+cell": {
     "cellMetadata": {},
     "inputWidgets": {},
     "nuid": "65692dc2-d5a6-418f-b45f-ce909134909a",
     "showTitle": false,
     "title": ""
    }
   },
   "source": [
    "Basta clicar em New > Repo:\n",
    "\n",
    "No campo _\"github repository URL\"_, digite o URL HTTPS do nosso repo no github. Certifique-se de manter marcado o campo _\"Create repo by cloning git repository\"_\n",
    "<br>Em seguida, clique em _\"Create repo\"_ para finalizar.\n",
    "\n",
    "&ensp;<img src=\"https://github.com/allansuzuki/ADA_classes/blob/main/DS-PY-Data-Science/DS-PY-004%20T%C3%89CNICAS%20DE%20PROGRAMA%C3%87%C3%83O%20I%20(PY)/Material%20do%20Aluno/Intro_databricks/img/clone_repo.png?raw=True\" alt=\"clone_repo\" width=\"500\"/>"
   ]
  },
  {
   "cell_type": "markdown",
   "metadata": {
    "application/vnd.databricks.v1+cell": {
     "cellMetadata": {},
     "inputWidgets": {},
     "nuid": "e5fff57f-c85f-407a-9f0e-56213e0bd660",
     "showTitle": false,
     "title": ""
    }
   },
   "source": [
    "## Atualizar repo (git pull)"
   ]
  },
  {
   "cell_type": "markdown",
   "metadata": {
    "application/vnd.databricks.v1+cell": {
     "cellMetadata": {},
     "inputWidgets": {},
     "nuid": "1f10d749-a1b8-4e81-9b78-92cfc3b66217",
     "showTitle": false,
     "title": ""
    }
   },
   "source": [
    "Vamos relembrar... para atualizar o repo com as mudanças mais recentes, usávamos o comando `git pull`, certo? No databricks é semelhante. \n",
    "<br>Primeiramente, vamos onde o repo está localizado:\n",
    "\n",
    "&ensp;<img src=\"https://github.com/allansuzuki/ADA_classes/blob/main/DS-PY-Data-Science/DS-PY-004%20T%C3%89CNICAS%20DE%20PROGRAMA%C3%87%C3%83O%20I%20(PY)/Material%20do%20Aluno/Intro_databricks/img/find_repo.png?raw=True\" alt=\"find_repo\" width=\"850\"/>\n",
    "\n",
    "Em seguida basta clicar em _\"Pull\"_:\n",
    "\n",
    "&ensp;<img src=\"https://github.com/allansuzuki/ADA_classes/blob/main/DS-PY-Data-Science/DS-PY-004%20T%C3%89CNICAS%20DE%20PROGRAMA%C3%87%C3%83O%20I%20(PY)/Material%20do%20Aluno/Intro_databricks/img/pull_repo.png?raw=True\" alt=\"pull_repo.png\" width=\"850\"/>"
   ]
  },
  {
   "cell_type": "markdown",
   "metadata": {
    "application/vnd.databricks.v1+cell": {
     "cellMetadata": {},
     "inputWidgets": {},
     "nuid": "97cb79e5-baf4-41b4-9d5a-245546ea5f86",
     "showTitle": false,
     "title": ""
    },
    "vscode": {
     "languageId": "plaintext"
    }
   },
   "source": [
    "## Commitar e subir mudanças para o repositório (git commit / git push)"
   ]
  },
  {
   "cell_type": "markdown",
   "metadata": {
    "application/vnd.databricks.v1+cell": {
     "cellMetadata": {},
     "inputWidgets": {},
     "nuid": "55e5d739-bff1-4a44-a919-3a7df19920fd",
     "showTitle": false,
     "title": ""
    }
   },
   "source": [
    "Outra coisa importante é commitar mudanças e publicá-las no branch.\n",
    "\n",
    "Para isto, ao editar um arquivo, vá novamente onde o repo está localizado e veremos as mudanças pendentes a serem commitadas e publicadas:\n",
    "\n",
    "Observe na lista a esquerda quais as modificações que você deseja commitar.\n",
    "Em seguida, escreva um texto que identfique o motivo do commit ou qualquer texto que sumarize quais foram as mudanças.\n",
    "<br>Para finalizar, clique em _\"Commit & push\"_.\n",
    "\n",
    "&ensp;<img src=\"https://github.com/allansuzuki/ADA_classes/blob/main/DS-PY-Data-Science/DS-PY-004%20T%C3%89CNICAS%20DE%20PROGRAMA%C3%87%C3%83O%20I%20(PY)/Material%20do%20Aluno/Intro_databricks/img/commit_n_push.png?raw=True\" alt=\"commit_n_push.png.png\" width=\"850\"/>"
   ]
  },
  {
   "cell_type": "markdown",
   "metadata": {
    "application/vnd.databricks.v1+cell": {
     "cellMetadata": {},
     "inputWidgets": {},
     "nuid": "388a0ed1-4320-49c3-9227-dbdec9c7325c",
     "showTitle": false,
     "title": ""
    }
   },
   "source": [
    "## Criar branch (git branch)"
   ]
  },
  {
   "cell_type": "markdown",
   "metadata": {
    "application/vnd.databricks.v1+cell": {
     "cellMetadata": {},
     "inputWidgets": {},
     "nuid": "02700f1c-2d04-4ad3-819c-13ea65cc1117",
     "showTitle": false,
     "title": ""
    }
   },
   "source": [
    "Em alguns casos não queremos que as mudanças sejam \"oficialmente\" publicadas.\n",
    "<br>Assim, é uma **boa prática** criarmos um branch sempre que:\n",
    "\n",
    "- Implementamos um novo código que ainda não foi válidado ou inacabado;\n",
    "- Trabalhamos para solução de bugs;\n",
    "- Implementamos novas *features* não oficiais;\n",
    "\n",
    "Nesses casos acima, é possível que as novas alterações possam afetar potencialmente o projeto atual, e ser mais uma dor de cabeça do que uma \"melhoria\" ou \"inovação\". Por isso, salvamos todas as novas alteações em um novo branch, para preservar a versão do projeto atual, enquanto desenvolve-se melhorias nesse branch criado.\n",
    "\n",
    "Para criar um branch, é muito simples. Basta ir a localização do repo e clicar em _\"Create branch\"_:\n",
    "\n",
    "&ensp;<img src=\"https://github.com/allansuzuki/ADA_classes/blob/main/DS-PY-Data-Science/DS-PY-004%20T%C3%89CNICAS%20DE%20PROGRAMA%C3%87%C3%83O%20I%20(PY)/Material%20do%20Aluno/Intro_databricks/img/create_branchh.png?raw=True\" alt=\"create_branchh\" width=\"400\"/>"
   ]
  },
  {
   "cell_type": "markdown",
   "metadata": {
    "application/vnd.databricks.v1+cell": {
     "cellMetadata": {},
     "inputWidgets": {},
     "nuid": "75098a56-c700-4534-8d25-e55ca2f942d0",
     "showTitle": false,
     "title": ""
    }
   },
   "source": [
    "## Compartilhar repo"
   ]
  },
  {
   "cell_type": "markdown",
   "metadata": {
    "application/vnd.databricks.v1+cell": {
     "cellMetadata": {},
     "inputWidgets": {},
     "nuid": "1c651bca-8577-4835-9ba7-60c31492b749",
     "showTitle": false,
     "title": ""
    }
   },
   "source": [
    "Geralmente queremos que mais pessoas possam trabalhar no nosso repo. \n",
    "\n",
    "Assim, a pessoa pode clonar o repo ou podemos diretamente adicionar colaboradores ao nosso repo pelo databricks:\n",
    "\n",
    "Basta clicar nas opções do repo > Share (Pemissions).\n",
    "\n",
    "&ensp;<img src=\"https://github.com/allansuzuki/ADA_classes/blob/main/DS-PY-Data-Science/DS-PY-004%20T%C3%89CNICAS%20DE%20PROGRAMA%C3%87%C3%83O%20I%20(PY)/Material%20do%20Aluno/Intro_databricks/img/share_repo.png?raw=True\" alt=\"share_repo.png\" width=\"600\"/>\n",
    "\n",
    "\n",
    "Há duas formas de compartilhar o repo\n",
    "1) Basta digitar o email de quem queremos adicionar ao repo\n",
    "2) Escolher a permissão do usuário\n",
    "3) Clicar em \"Add\"\n",
    "\n",
    "ou \n",
    "\n",
    "1) Clicar em \"Copy link\"\n",
    "2) Compartilhar o link com os usuários (o link já estará no Ctrl + V (área de transferência))\n"
   ]
  }
 ],
 "metadata": {
  "application/vnd.databricks.v1+notebook": {
   "dashboards": [],
   "language": "python",
   "notebookMetadata": {
    "pythonIndentUnit": 4
   },
   "notebookName": "intro_databricks",
   "widgets": {}
  },
  "language_info": {
   "name": "python"
  }
 },
 "nbformat": 4,
 "nbformat_minor": 0
}
