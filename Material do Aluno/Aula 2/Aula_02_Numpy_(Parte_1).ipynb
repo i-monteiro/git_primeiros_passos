{
 "cells": [
  {
   "cell_type": "markdown",
   "metadata": {
    "application/vnd.databricks.v1+cell": {
     "cellMetadata": {},
     "inputWidgets": {},
     "nuid": "201814e4-659d-4916-987e-d8fa3c722e1f",
     "showTitle": false,
     "title": ""
    },
    "id": "RIgd-wNsselv"
   },
   "source": [
    "# Aula 02 - Numpy\n",
    "\n",
    "<img src=\"https://upload.wikimedia.org/wikipedia/commons/thumb/3/31/NumPy_logo_2020.svg/2560px-NumPy_logo_2020.svg.png\" alt=\"Alternative text\" />"
   ]
  },
  {
   "cell_type": "markdown",
   "metadata": {
    "application/vnd.databricks.v1+cell": {
     "cellMetadata": {},
     "inputWidgets": {},
     "nuid": "3aea6d82-67b6-4d1f-aaf0-573efdbc49cd",
     "showTitle": false,
     "title": ""
    },
    "id": "6em_OSECsmJ-"
   },
   "source": [
    "____\n",
    "\n",
    "## **Contextualização:**\n",
    "\n",
    "Imagina que você precisa estudar dados de preço plano de saúde de diferentes grupos etários ao longo de um período de tempo.\n",
    "\n",
    "Você recebeu a tarefa de analisar os valores médios das faixas etárias (infância, adolescência, juventude, terceira idade) com os seguintes dados:\n",
    "\n",
    "* Valores das médias anuais para a infância na última década (2013-2022): [80.29, 136.34, 222.57, 232.36, 223.91, 221.31, 165.1, 165.61, 82.17, 158.27]\n",
    "* Valores das médias anuais para a adolescência na última década: [211.82, 349.92, 304.53, 208.8, 262.62, 250.55, 363.44, 138.23, 173.94, 138.16]\n",
    "* Valores das médias anuais para a juventude na última década: [417.59, 565.65, 189.64, 279.04, 572.94, 199.32, 579.69, 568.64, 399.83, 511.09]\n",
    "* Valores das médias anuais para a terceira idade: [686.64, 499.16, 848.05, 390.63, 879.84, 520.33, 796.55, 500.86, 416.4, 784.88]\n",
    "\n",
    "\n"
   ]
  },
  {
   "cell_type": "code",
<<<<<<< HEAD
   "execution_count": 59,
=======
   "execution_count": 0,
>>>>>>> 55b74bd475c42d3d06807089ef97d5bc42a63d85
   "metadata": {
    "application/vnd.databricks.v1+cell": {
     "cellMetadata": {},
     "inputWidgets": {},
     "nuid": "b960d709-33ac-431c-8e39-8c972af741c8",
     "showTitle": false,
     "title": ""
    },
    "id": "qQzl3pIkseCK"
   },
   "outputs": [],
   "source": [
    "#Lista da infância:\n",
    "lista_inf = [80.29, 136.34, 222.57, 232.36, 223.91, 221.31, 165.1, 165.61, 82.17, 158.27]\n",
    "#Lista da adolescência\n",
    "lista_ado = [211.82, 349.92, 304.53, 208.8, 262.62, 250.55, 363.44, 138.23, 173.94, 138.16]\n",
    "#Lista da juventude\n",
    "lista_juv = [417.59, 565.65, 189.64, 279.04, 572.94, 199.32, 579.69, 568.64, 399.83, 511.09]\n",
    "#Lista da terceira idade\n",
    "lista_ter = [686.64, 499.16, 848.05, 390.63, 879.84, 520.33, 796.55, 500.86, 416.4, 784.88]"
   ]
  },
  {
   "cell_type": "code",
<<<<<<< HEAD
   "execution_count": 60,
=======
   "execution_count": 0,
>>>>>>> 55b74bd475c42d3d06807089ef97d5bc42a63d85
   "metadata": {
    "application/vnd.databricks.v1+cell": {
     "cellMetadata": {},
     "inputWidgets": {},
     "nuid": "eac1beea-e422-4efe-9f13-bbde88ffa7db",
     "showTitle": false,
     "title": ""
    },
    "id": "VwXL257Vu0pY"
   },
<<<<<<< HEAD
   "outputs": [
    {
     "name": "stdout",
     "output_type": "stream",
     "text": [
      "A média do plano de saúde para a infância na última década é: 168.79.\n",
      "A média do plano de saúde para a adolescência na última década é: 240.2.\n",
      "A média do plano de saúde para a juventude na última década é: 428.34.\n",
      "A média do plano de saúde para a terceira idade na última década é: 632.33.\n"
     ]
    }
   ],
=======
   "outputs": [],
>>>>>>> 55b74bd475c42d3d06807089ef97d5bc42a63d85
   "source": [
    "#Calculando a média anual para cada grupo\n",
    "media_inf = sum(lista_inf)/len(lista_inf)\n",
    "print(f'A média do plano de saúde para a infância na última década é: {round(media_inf,2)}.')\n",
    "media_ado = sum(lista_ado)/len(lista_ado)\n",
    "print(f'A média do plano de saúde para a adolescência na última década é: {round(media_ado,2)}.')\n",
    "media_juv = sum(lista_juv)/len(lista_juv)\n",
    "print(f'A média do plano de saúde para a juventude na última década é: {round(media_juv,2)}.')\n",
    "media_ter = sum(lista_ter)/len(lista_ter)\n",
    "print(f'A média do plano de saúde para a terceira idade na última década é: {round(media_ter,2)}.')"
   ]
  },
  {
   "cell_type": "markdown",
   "metadata": {
    "application/vnd.databricks.v1+cell": {
     "cellMetadata": {},
     "inputWidgets": {},
     "nuid": "918e18ff-abab-4a26-9772-12d156f52dd5",
     "showTitle": false,
     "title": ""
    },
    "id": "mvRy3QGMxO8P"
   },
   "source": [
    "## O que é numpy?\n",
    "\n",
    "A biblioteca **NumPy** _(Numerical Python)_ proporciona uma forma eficiente de armazenagem e processamento de conjuntos de dados, e é utilizada como base para a construção da biblioteca Pandas, que estudaremos a seguir.\n",
    "\n",
    "O diferencial do Numpy é sua velocidade e eficiência, o que faz com que ela seja amplamente utilizada para computação científica e análise de dados.\n",
    "\n",
    "A velocidade e eficiência é possível graças à estrutura chamada **numpy array**, que é um forma eficiente de guardar e manipular matrizes, que serve como base para as tabelas que iremos utilizar."
   ]
  },
  {
   "cell_type": "markdown",
   "metadata": {
    "application/vnd.databricks.v1+cell": {
     "cellMetadata": {},
     "inputWidgets": {},
     "nuid": "dd9c24ce-943f-4e19-8134-10d82b7377d7",
     "showTitle": false,
     "title": ""
    },
    "id": "EsClo8q0xaHy"
   },
   "source": [
    "[Guia rápido de uso da biblioteca](https://numpy.org/devdocs/user/quickstart.html)\n",
    "\n",
    "[Guia para iniciantes](https://numpy.org/devdocs/user/absolute_beginners.html)"
   ]
  },
  {
   "cell_type": "markdown",
   "metadata": {
    "application/vnd.databricks.v1+cell": {
     "cellMetadata": {},
     "inputWidgets": {},
     "nuid": "ea1b999d-1f80-4b8b-a808-133bac6fe05f",
     "showTitle": false,
     "title": ""
    },
    "id": "gV3jm0Jcxbv9"
   },
   "source": [
    "____\n",
    "\n",
    "### **Qual a diferença entre um numpy array e uma lista?**"
   ]
  },
  {
   "cell_type": "markdown",
   "metadata": {
    "application/vnd.databricks.v1+cell": {
     "cellMetadata": {},
     "inputWidgets": {},
     "nuid": "e40a8240-497e-41c9-90f9-a47ea1453f8c",
     "showTitle": false,
     "title": ""
    },
    "id": "AvrbyPL6xf3u"
   },
   "source": [
    "**numpy array:** armazena somente um tipo de dado (homogêneo), ocupando menos memória. É pensado para maior eficiência de cálculo.\n",
    "\n",
    "**lista:** permite armazenar dados de vários tipos."
   ]
  },
  {
   "cell_type": "markdown",
   "metadata": {
    "application/vnd.databricks.v1+cell": {
     "cellMetadata": {},
     "inputWidgets": {},
     "nuid": "f3b5900f-89be-491f-bbc2-89844488c430",
     "showTitle": false,
     "title": ""
    },
    "id": "LYbjNJYrx3a1"
   },
   "source": [
    "Vamos relembrar como definimos uma lista:"
   ]
  },
  {
   "cell_type": "code",
<<<<<<< HEAD
   "execution_count": 61,
=======
   "execution_count": 0,
>>>>>>> 55b74bd475c42d3d06807089ef97d5bc42a63d85
   "metadata": {
    "application/vnd.databricks.v1+cell": {
     "cellMetadata": {},
     "inputWidgets": {},
     "nuid": "a047900c-ba96-4817-b163-e9954642c7af",
     "showTitle": false,
     "title": ""
    },
    "id": "pL_Tamo5xHp2"
   },
   "outputs": [],
   "source": [
    "lista = ['Unimed', 1108, 3.14, True, [2,4], (1,5), {'Turma Unimed':1108}]"
   ]
  },
  {
   "cell_type": "code",
<<<<<<< HEAD
   "execution_count": 62,
=======
   "execution_count": 0,
>>>>>>> 55b74bd475c42d3d06807089ef97d5bc42a63d85
   "metadata": {
    "application/vnd.databricks.v1+cell": {
     "cellMetadata": {},
     "inputWidgets": {},
     "nuid": "a4b52d90-2152-4abd-8fe7-f378a6b8b289",
     "showTitle": false,
     "title": ""
    }
   },
<<<<<<< HEAD
   "outputs": [
    {
     "data": {
      "text/plain": [
       "['Unimed', 1108, 3.14, True, [2, 4], (1, 5), {'Turma Unimed': 1108}]"
      ]
     },
     "execution_count": 62,
     "metadata": {},
     "output_type": "execute_result"
    }
   ],
=======
   "outputs": [],
>>>>>>> 55b74bd475c42d3d06807089ef97d5bc42a63d85
   "source": [
    "lista"
   ]
  },
  {
   "cell_type": "code",
<<<<<<< HEAD
   "execution_count": 63,
=======
   "execution_count": 0,
>>>>>>> 55b74bd475c42d3d06807089ef97d5bc42a63d85
   "metadata": {
    "application/vnd.databricks.v1+cell": {
     "cellMetadata": {},
     "inputWidgets": {},
     "nuid": "488fb865-8a1f-45ef-8994-a0bc86586e7f",
     "showTitle": false,
     "title": ""
    },
    "id": "mP5wWW6sx69K"
   },
   "outputs": [],
   "source": [
    "#Como adicionamos valores à lista\n",
    "lista.append({'Professores':['Allan','Romero']})"
   ]
  },
  {
   "cell_type": "code",
<<<<<<< HEAD
   "execution_count": 64,
=======
   "execution_count": 0,
>>>>>>> 55b74bd475c42d3d06807089ef97d5bc42a63d85
   "metadata": {
    "application/vnd.databricks.v1+cell": {
     "cellMetadata": {},
     "inputWidgets": {},
     "nuid": "549ad966-f474-4677-a2b5-78b22fbca8eb",
     "showTitle": false,
     "title": ""
    }
   },
<<<<<<< HEAD
   "outputs": [
    {
     "data": {
      "text/plain": [
       "['Unimed',\n",
       " 1108,\n",
       " 3.14,\n",
       " True,\n",
       " [2, 4],\n",
       " (1, 5),\n",
       " {'Turma Unimed': 1108},\n",
       " {'Professores': ['Allan', 'Romero']}]"
      ]
     },
     "execution_count": 64,
     "metadata": {},
     "output_type": "execute_result"
    }
   ],
=======
   "outputs": [],
>>>>>>> 55b74bd475c42d3d06807089ef97d5bc42a63d85
   "source": [
    "lista"
   ]
  },
  {
   "cell_type": "markdown",
   "metadata": {
    "application/vnd.databricks.v1+cell": {
     "cellMetadata": {},
     "inputWidgets": {},
     "nuid": "a5ede59e-abec-4ddd-a8f1-336c671ba77b",
     "showTitle": false,
     "title": ""
    },
    "id": "i5LXXsOlx_Lm"
   },
   "source": [
    "Como então criamos um objeto **numpy array?**\n",
    "\n",
    "Primeiro, precisamos importar a biblioteca numpy."
   ]
  },
  {
   "cell_type": "code",
<<<<<<< HEAD
   "execution_count": 65,
=======
   "execution_count": 0,
>>>>>>> 55b74bd475c42d3d06807089ef97d5bc42a63d85
   "metadata": {
    "application/vnd.databricks.v1+cell": {
     "cellMetadata": {},
     "inputWidgets": {},
     "nuid": "f8219638-5544-49ee-b48f-c139ad14c8b6",
     "showTitle": false,
     "title": ""
    },
    "id": "1nkocaW_x9_0"
   },
   "outputs": [],
   "source": [
    "#Importando a biblioteca numpy\n",
    "import numpy as np"
   ]
  },
  {
   "cell_type": "markdown",
   "metadata": {
    "application/vnd.databricks.v1+cell": {
     "cellMetadata": {},
     "inputWidgets": {},
     "nuid": "dda714ee-9cf0-4e3e-96af-857a526a241e",
     "showTitle": false,
     "title": ""
    },
    "id": "AYSb7X2_ymkW"
   },
   "source": [
    "#### **Método np.array():**"
   ]
  },
  {
   "cell_type": "markdown",
   "metadata": {
    "application/vnd.databricks.v1+cell": {
     "cellMetadata": {},
     "inputWidgets": {},
     "nuid": "51617a2a-37de-4e0b-8239-aacc199b1904",
     "showTitle": false,
     "title": ""
    },
    "id": "L9NHUKC-yd7H"
   },
   "source": [
    "Podemos criar um array a partir de uma lista, usando o método **np.array()**."
   ]
  },
  {
   "cell_type": "code",
<<<<<<< HEAD
   "execution_count": 66,
=======
   "execution_count": 0,
>>>>>>> 55b74bd475c42d3d06807089ef97d5bc42a63d85
   "metadata": {
    "application/vnd.databricks.v1+cell": {
     "cellMetadata": {},
     "inputWidgets": {},
     "nuid": "f1f0c994-0d4d-41d1-87ca-db61c4a4eb5f",
     "showTitle": false,
     "title": ""
    },
    "id": "W9k8ACIeyL9c"
   },
   "outputs": [],
   "source": [
    "#Criando uma lista\n",
    "lista = [1,2,3,4,5]\n",
    "array = np.array(lista)"
   ]
  },
  {
   "cell_type": "code",
<<<<<<< HEAD
   "execution_count": 67,
=======
   "execution_count": 0,
>>>>>>> 55b74bd475c42d3d06807089ef97d5bc42a63d85
   "metadata": {
    "application/vnd.databricks.v1+cell": {
     "cellMetadata": {},
     "inputWidgets": {},
     "nuid": "cd8f9925-778a-46fb-bb28-c3a382192701",
     "showTitle": false,
     "title": ""
    },
    "id": "-PawpsAKywQ1"
   },
<<<<<<< HEAD
   "outputs": [
    {
     "data": {
      "text/plain": [
       "[1, 2, 3, 4, 5]"
      ]
     },
     "execution_count": 67,
     "metadata": {},
     "output_type": "execute_result"
    }
   ],
=======
   "outputs": [],
>>>>>>> 55b74bd475c42d3d06807089ef97d5bc42a63d85
   "source": [
    "lista"
   ]
  },
  {
   "cell_type": "code",
<<<<<<< HEAD
   "execution_count": 68,
=======
   "execution_count": 0,
>>>>>>> 55b74bd475c42d3d06807089ef97d5bc42a63d85
   "metadata": {
    "application/vnd.databricks.v1+cell": {
     "cellMetadata": {},
     "inputWidgets": {},
     "nuid": "61458da6-aa90-4784-9bc0-1b1e07eadd2f",
     "showTitle": false,
     "title": ""
    },
    "id": "oULxID2-yxIV"
   },
<<<<<<< HEAD
   "outputs": [
    {
     "data": {
      "text/plain": [
       "array([1, 2, 3, 4, 5])"
      ]
     },
     "execution_count": 68,
     "metadata": {},
     "output_type": "execute_result"
    }
   ],
=======
   "outputs": [],
>>>>>>> 55b74bd475c42d3d06807089ef97d5bc42a63d85
   "source": [
    "array"
   ]
  },
  {
   "cell_type": "code",
<<<<<<< HEAD
   "execution_count": 69,
=======
   "execution_count": 0,
>>>>>>> 55b74bd475c42d3d06807089ef97d5bc42a63d85
   "metadata": {
    "application/vnd.databricks.v1+cell": {
     "cellMetadata": {},
     "inputWidgets": {},
     "nuid": "46091351-a61d-452f-93f2-04738bd2dec7",
     "showTitle": false,
     "title": ""
    },
    "id": "FH0M2aLayx1d"
   },
<<<<<<< HEAD
   "outputs": [
    {
     "name": "stdout",
     "output_type": "stream",
     "text": [
      "[1, 2, 3, 4, 5]\n"
     ]
    }
   ],
=======
   "outputs": [],
>>>>>>> 55b74bd475c42d3d06807089ef97d5bc42a63d85
   "source": [
    "print(lista)"
   ]
  },
  {
   "cell_type": "code",
<<<<<<< HEAD
   "execution_count": 70,
=======
   "execution_count": 0,
>>>>>>> 55b74bd475c42d3d06807089ef97d5bc42a63d85
   "metadata": {
    "application/vnd.databricks.v1+cell": {
     "cellMetadata": {},
     "inputWidgets": {},
     "nuid": "6223347f-adf5-4eab-b54d-ba555d0e495b",
     "showTitle": false,
     "title": ""
    },
    "id": "erhQafE_y1Ld"
   },
<<<<<<< HEAD
   "outputs": [
    {
     "name": "stdout",
     "output_type": "stream",
     "text": [
      "[1 2 3 4 5]\n"
     ]
    }
   ],
=======
   "outputs": [],
>>>>>>> 55b74bd475c42d3d06807089ef97d5bc42a63d85
   "source": [
    "print(array)"
   ]
  },
  {
   "cell_type": "code",
<<<<<<< HEAD
   "execution_count": 71,
=======
   "execution_count": 0,
>>>>>>> 55b74bd475c42d3d06807089ef97d5bc42a63d85
   "metadata": {
    "application/vnd.databricks.v1+cell": {
     "cellMetadata": {},
     "inputWidgets": {},
     "nuid": "4201fddb-0ad3-42b5-8151-73271a34f3d5",
     "showTitle": false,
     "title": ""
    },
    "id": "tSDTr0VJy2BM"
   },
<<<<<<< HEAD
   "outputs": [
    {
     "data": {
      "text/plain": [
       "list"
      ]
     },
     "execution_count": 71,
     "metadata": {},
     "output_type": "execute_result"
    }
   ],
=======
   "outputs": [],
>>>>>>> 55b74bd475c42d3d06807089ef97d5bc42a63d85
   "source": [
    "type(lista)"
   ]
  },
  {
   "cell_type": "code",
<<<<<<< HEAD
   "execution_count": 72,
=======
   "execution_count": 0,
>>>>>>> 55b74bd475c42d3d06807089ef97d5bc42a63d85
   "metadata": {
    "application/vnd.databricks.v1+cell": {
     "cellMetadata": {},
     "inputWidgets": {},
     "nuid": "994c0f32-839c-4a0e-ade2-9b8dc9e2bc95",
     "showTitle": false,
     "title": ""
    },
    "id": "hDjc9jYty4qF"
   },
<<<<<<< HEAD
   "outputs": [
    {
     "data": {
      "text/plain": [
       "numpy.ndarray"
      ]
     },
     "execution_count": 72,
     "metadata": {},
     "output_type": "execute_result"
    }
   ],
=======
   "outputs": [],
>>>>>>> 55b74bd475c42d3d06807089ef97d5bc42a63d85
   "source": [
    "type(array)"
   ]
  },
  {
   "cell_type": "markdown",
   "metadata": {
    "application/vnd.databricks.v1+cell": {
     "cellMetadata": {},
     "inputWidgets": {},
     "nuid": "95994d86-82e9-409a-aa74-964f9b213d43",
     "showTitle": false,
     "title": ""
    },
    "id": "UgLZ7vBWy-VP"
   },
   "source": [
    "Um array não precisa ser necessariamente 1 vetor (de uma dimensão). Podemos criar arrays de mais de uma dimensão. Por exemplo, uma matriz 3x2."
   ]
  },
  {
   "cell_type": "code",
<<<<<<< HEAD
   "execution_count": 73,
=======
   "execution_count": 0,
>>>>>>> 55b74bd475c42d3d06807089ef97d5bc42a63d85
   "metadata": {
    "application/vnd.databricks.v1+cell": {
     "cellMetadata": {},
     "inputWidgets": {},
     "nuid": "ccccc285-a855-4092-9ca7-6c28f0721da4",
     "showTitle": false,
     "title": ""
    },
    "id": "qKaJsB6cy5nF"
   },
   "outputs": [],
   "source": [
    "lista = [[1,2],[3,4],[5,6]]\n",
    "array = np.array(lista)"
   ]
  },
  {
   "cell_type": "code",
<<<<<<< HEAD
   "execution_count": 74,
=======
   "execution_count": 0,
>>>>>>> 55b74bd475c42d3d06807089ef97d5bc42a63d85
   "metadata": {
    "application/vnd.databricks.v1+cell": {
     "cellMetadata": {},
     "inputWidgets": {},
     "nuid": "552a8721-c46e-4da0-9d5e-96d86f838d10",
     "showTitle": false,
     "title": ""
    },
    "id": "R7ek9sYkzO81"
   },
<<<<<<< HEAD
   "outputs": [
    {
     "data": {
      "text/plain": [
       "[[1, 2], [3, 4], [5, 6]]"
      ]
     },
     "execution_count": 74,
     "metadata": {},
     "output_type": "execute_result"
    }
   ],
=======
   "outputs": [],
>>>>>>> 55b74bd475c42d3d06807089ef97d5bc42a63d85
   "source": [
    "lista"
   ]
  },
  {
   "cell_type": "code",
<<<<<<< HEAD
   "execution_count": 75,
=======
   "execution_count": 0,
>>>>>>> 55b74bd475c42d3d06807089ef97d5bc42a63d85
   "metadata": {
    "application/vnd.databricks.v1+cell": {
     "cellMetadata": {},
     "inputWidgets": {},
     "nuid": "589a9995-0043-4a57-b3ff-112b3282889b",
     "showTitle": false,
     "title": ""
    },
    "id": "oeGgESn2zPtt"
   },
<<<<<<< HEAD
   "outputs": [
    {
     "data": {
      "text/plain": [
       "array([[1, 2],\n",
       "       [3, 4],\n",
       "       [5, 6]])"
      ]
     },
     "execution_count": 75,
     "metadata": {},
     "output_type": "execute_result"
    }
   ],
=======
   "outputs": [],
>>>>>>> 55b74bd475c42d3d06807089ef97d5bc42a63d85
   "source": [
    "array"
   ]
  },
  {
   "cell_type": "markdown",
   "metadata": {
    "application/vnd.databricks.v1+cell": {
     "cellMetadata": {},
     "inputWidgets": {},
     "nuid": "141ba735-7c90-4306-ab62-fca085a602ae",
     "showTitle": false,
     "title": ""
    },
    "id": "0LI9rlsczjs2"
   },
   "source": [
    "Ou ainda, usando o **método reshape:**"
   ]
  },
  {
   "cell_type": "code",
<<<<<<< HEAD
   "execution_count": 76,
=======
   "execution_count": 0,
>>>>>>> 55b74bd475c42d3d06807089ef97d5bc42a63d85
   "metadata": {
    "application/vnd.databricks.v1+cell": {
     "cellMetadata": {},
     "inputWidgets": {},
     "nuid": "d05d7a73-6fe0-459e-b4e2-44f0e44216f3",
     "showTitle": false,
     "title": ""
    },
    "id": "KLKQBZ9OzQat"
   },
   "outputs": [],
   "source": [
    "lista = [1,2,3,4,5,6]\n",
    "matriz = np.array(lista).reshape(3,2)"
   ]
  },
  {
   "cell_type": "code",
<<<<<<< HEAD
   "execution_count": 77,
=======
   "execution_count": 0,
>>>>>>> 55b74bd475c42d3d06807089ef97d5bc42a63d85
   "metadata": {
    "application/vnd.databricks.v1+cell": {
     "cellMetadata": {},
     "inputWidgets": {},
     "nuid": "7d6eccde-8d65-47dc-a231-906fdb64217f",
     "showTitle": false,
     "title": ""
    },
    "id": "raCGRO8-z8_d"
   },
<<<<<<< HEAD
   "outputs": [
    {
     "data": {
      "text/plain": [
       "array([[1, 2],\n",
       "       [3, 4],\n",
       "       [5, 6]])"
      ]
     },
     "execution_count": 77,
     "metadata": {},
     "output_type": "execute_result"
    }
   ],
=======
   "outputs": [],
>>>>>>> 55b74bd475c42d3d06807089ef97d5bc42a63d85
   "source": [
    "matriz"
   ]
  },
  {
   "cell_type": "markdown",
   "metadata": {
    "application/vnd.databricks.v1+cell": {
     "cellMetadata": {},
     "inputWidgets": {},
     "nuid": "7faf6d8b-d0c9-453c-b763-a951cd4991f9",
     "showTitle": false,
     "title": ""
    },
    "id": "EUaUIM-Pz-pN"
   },
   "source": [
    "**Obs.:** Veremos esse método com mais detalhes na próxima aula."
   ]
  },
  {
   "cell_type": "markdown",
   "metadata": {
    "application/vnd.databricks.v1+cell": {
     "cellMetadata": {},
     "inputWidgets": {},
     "nuid": "ae8ea1ae-5683-4fdd-9466-cd9887732552",
     "showTitle": false,
     "title": ""
    },
    "id": "ONeWezU41-7t"
   },
   "source": [
    "### **Outras formas de iniciar arrays:**"
   ]
  },
  {
   "cell_type": "markdown",
   "metadata": {
    "application/vnd.databricks.v1+cell": {
     "cellMetadata": {},
     "inputWidgets": {},
     "nuid": "36042060-c054-4863-ab07-ffd0d90537bd",
     "showTitle": false,
     "title": ""
    },
    "id": "hkMZ_jE32CW9"
   },
   "source": [
    "**Array de zeros:**"
   ]
  },
  {
   "cell_type": "code",
<<<<<<< HEAD
   "execution_count": 78,
=======
   "execution_count": 0,
>>>>>>> 55b74bd475c42d3d06807089ef97d5bc42a63d85
   "metadata": {
    "application/vnd.databricks.v1+cell": {
     "cellMetadata": {},
     "inputWidgets": {},
     "nuid": "729577bd-f2a0-4d76-af6a-d906c4107c0d",
     "showTitle": false,
     "title": ""
    },
    "id": "xnD0q5dmz9nF"
   },
<<<<<<< HEAD
   "outputs": [
    {
     "data": {
      "text/plain": [
       "array([0., 0., 0., 0., 0., 0., 0., 0., 0., 0.])"
      ]
     },
     "execution_count": 78,
     "metadata": {},
     "output_type": "execute_result"
    }
   ],
=======
   "outputs": [],
>>>>>>> 55b74bd475c42d3d06807089ef97d5bc42a63d85
   "source": [
    "#Criando um array de números zeros\n",
    "np.zeros(10)"
   ]
  },
  {
   "cell_type": "markdown",
   "metadata": {
    "application/vnd.databricks.v1+cell": {
     "cellMetadata": {},
     "inputWidgets": {},
     "nuid": "71415c50-321b-4d68-bf66-680b54e26078",
     "showTitle": false,
     "title": ""
    },
    "id": "dJ7yRhMd2Gnd"
   },
   "source": [
    "**Arrays de uns:**"
   ]
  },
  {
   "cell_type": "code",
<<<<<<< HEAD
   "execution_count": 79,
=======
   "execution_count": 0,
>>>>>>> 55b74bd475c42d3d06807089ef97d5bc42a63d85
   "metadata": {
    "application/vnd.databricks.v1+cell": {
     "cellMetadata": {},
     "inputWidgets": {},
     "nuid": "c88146a5-307e-4b14-9f5c-7b590bfc7a3a",
     "showTitle": false,
     "title": ""
    },
    "id": "0NMxa1wc2GAl"
   },
<<<<<<< HEAD
   "outputs": [
    {
     "data": {
      "text/plain": [
       "array([1., 1., 1., 1., 1., 1., 1., 1., 1., 1.])"
      ]
     },
     "execution_count": 79,
     "metadata": {},
     "output_type": "execute_result"
    }
   ],
=======
   "outputs": [],
>>>>>>> 55b74bd475c42d3d06807089ef97d5bc42a63d85
   "source": [
    "#Criando um array de números um\n",
    "np.ones(10)"
   ]
  },
  {
   "cell_type": "markdown",
   "metadata": {
    "application/vnd.databricks.v1+cell": {
     "cellMetadata": {},
     "inputWidgets": {},
     "nuid": "b59079cc-caff-4199-8593-35c1580ec3ad",
     "showTitle": false,
     "title": ""
    },
    "id": "9nXTGXmK2OrN"
   },
   "source": [
    "**Arrays a partir do range:**"
   ]
  },
  {
   "cell_type": "code",
<<<<<<< HEAD
   "execution_count": 80,
=======
   "execution_count": 0,
>>>>>>> 55b74bd475c42d3d06807089ef97d5bc42a63d85
   "metadata": {
    "application/vnd.databricks.v1+cell": {
     "cellMetadata": {},
     "inputWidgets": {},
     "nuid": "7122121c-c79e-4d26-af03-1eea70e16d94",
     "showTitle": false,
     "title": ""
    },
    "id": "rUCQJDj02JZs"
   },
<<<<<<< HEAD
   "outputs": [
    {
     "data": {
      "text/plain": [
       "array([ 0,  2,  4,  6,  8, 10, 12, 14, 16, 18, 20])"
      ]
     },
     "execution_count": 80,
     "metadata": {},
     "output_type": "execute_result"
    }
   ],
=======
   "outputs": [],
>>>>>>> 55b74bd475c42d3d06807089ef97d5bc42a63d85
   "source": [
    "np.array(list(range(0,21,2)))"
   ]
  },
  {
   "cell_type": "markdown",
   "metadata": {
    "application/vnd.databricks.v1+cell": {
     "cellMetadata": {},
     "inputWidgets": {},
     "nuid": "c6e25718-a65c-42c0-b31c-6feff9d1cedc",
     "showTitle": false,
     "title": ""
    },
    "id": "TDo75jfz2yAl"
   },
   "source": [
    "### **Método np.arange:**\n",
    "\n",
    "Conseguimos fazer o que fizemos anteriormente com o range."
   ]
  },
  {
   "cell_type": "code",
<<<<<<< HEAD
   "execution_count": 81,
=======
   "execution_count": 0,
>>>>>>> 55b74bd475c42d3d06807089ef97d5bc42a63d85
   "metadata": {
    "application/vnd.databricks.v1+cell": {
     "cellMetadata": {},
     "inputWidgets": {},
     "nuid": "da1d0136-6426-4a24-aff8-28a5ab936190",
     "showTitle": false,
     "title": ""
    },
    "id": "zJi3jdKC2Wuc"
   },
<<<<<<< HEAD
   "outputs": [
    {
     "data": {
      "text/plain": [
       "array([0, 1, 2, 3, 4])"
      ]
     },
     "execution_count": 81,
     "metadata": {},
     "output_type": "execute_result"
    }
   ],
=======
   "outputs": [],
>>>>>>> 55b74bd475c42d3d06807089ef97d5bc42a63d85
   "source": [
    "#Criando um array de números sequenciais\n",
    "np.arange(5)"
   ]
  },
  {
   "cell_type": "code",
<<<<<<< HEAD
   "execution_count": 82,
=======
   "execution_count": 0,
>>>>>>> 55b74bd475c42d3d06807089ef97d5bc42a63d85
   "metadata": {
    "application/vnd.databricks.v1+cell": {
     "cellMetadata": {},
     "inputWidgets": {},
     "nuid": "9057b4e5-a050-4142-9cae-eebf11e49efd",
     "showTitle": false,
     "title": ""
    },
    "id": "mpKkE9fy3B1s"
   },
<<<<<<< HEAD
   "outputs": [
    {
     "data": {
      "text/plain": [
       "array([ 0,  2,  4,  6,  8, 10, 12, 14, 16, 18, 20])"
      ]
     },
     "execution_count": 82,
     "metadata": {},
     "output_type": "execute_result"
    }
   ],
=======
   "outputs": [],
>>>>>>> 55b74bd475c42d3d06807089ef97d5bc42a63d85
   "source": [
    "#Criando um array de 1 a 19 de 2 em 2\n",
    "np.arange(0,21,2)"
   ]
  },
  {
   "cell_type": "markdown",
   "metadata": {
    "application/vnd.databricks.v1+cell": {
     "cellMetadata": {},
     "inputWidgets": {},
     "nuid": "728672bb-4910-4647-b1df-306ad9229abe",
     "showTitle": false,
     "title": ""
    },
    "id": "suQZcC2R3Msd"
   },
   "source": [
    "O **padrão** é como no **range:**\n",
    "* (início, fim, passo);\n",
    "* Sem início: começa no zero;\n",
    "* Sem passo: passo será um."
   ]
  },
  {
   "cell_type": "markdown",
   "metadata": {
    "application/vnd.databricks.v1+cell": {
     "cellMetadata": {},
     "inputWidgets": {},
     "nuid": "1742d1f2-c9c2-48b0-93e6-0d3f2db2b6a3",
     "showTitle": false,
     "title": ""
    },
    "id": "eRHAPkbY3XbM"
   },
   "source": [
    "## **Método np.linspace:**\n",
    "\n",
    "É um método usado para criar um array com valores igualmente espaçados dentro de um intervalo especificado.\n",
    "\n",
    "**Utilidade:** Desejamos gerar uma sequência de números com uma quantidade específica de elementos entre um valor inicial e final:\n",
    "\n",
    "**Sintaxe:**\n",
    "\n",
    "```(python)\n",
    "np.linspace(start,stop,num=50,endpint=True,retstep=False,dtype=None)\n",
    "```\n"
   ]
  },
  {
   "cell_type": "markdown",
   "metadata": {
    "application/vnd.databricks.v1+cell": {
     "cellMetadata": {},
     "inputWidgets": {},
     "nuid": "f4dea759-8880-43ba-9645-1cf4e37b1fee",
     "showTitle": false,
     "title": ""
    },
    "id": "TGaDVwHD4IA1"
   },
   "source": [
    "* start: Valor inicial da sequência.\n",
    "* stop: Valor final da sequência.\n",
    "* num: Número de elementos a serem gerados. Por padrão, é igual a 50.\n",
    "* endpoint: Se True, o valor final (stop) é incluído no array resultante. Por padrão, é True.\n",
    "* retstep: Se True, retorna o espaçamento entre os valores gerados.\n",
    "* dtype: Tipo de dados dos elementos no array."
   ]
  },
  {
   "cell_type": "markdown",
   "metadata": {
    "application/vnd.databricks.v1+cell": {
     "cellMetadata": {},
     "inputWidgets": {},
     "nuid": "e495320a-c80d-4aee-8e76-e02d0eaf4580",
     "showTitle": false,
     "title": ""
    },
    "id": "ym_y9-jr4RBg"
   },
   "source": [
    "Geralmente usamos: start, stop e num."
   ]
  },
  {
   "cell_type": "code",
<<<<<<< HEAD
   "execution_count": 83,
=======
   "execution_count": 0,
>>>>>>> 55b74bd475c42d3d06807089ef97d5bc42a63d85
   "metadata": {
    "application/vnd.databricks.v1+cell": {
     "cellMetadata": {},
     "inputWidgets": {},
     "nuid": "9c8d03f9-17c4-4af3-93c3-67abfbc85905",
     "showTitle": false,
     "title": ""
    },
    "id": "NuBNf80V3Iak"
   },
<<<<<<< HEAD
   "outputs": [
    {
     "data": {
      "text/plain": [
       "array([ 30.        ,  33.68421053,  37.36842105,  41.05263158,\n",
       "        44.73684211,  48.42105263,  52.10526316,  55.78947368,\n",
       "        59.47368421,  63.15789474,  66.84210526,  70.52631579,\n",
       "        74.21052632,  77.89473684,  81.57894737,  85.26315789,\n",
       "        88.94736842,  92.63157895,  96.31578947, 100.        ])"
      ]
     },
     "execution_count": 83,
     "metadata": {},
     "output_type": "execute_result"
    }
   ],
=======
   "outputs": [],
>>>>>>> 55b74bd475c42d3d06807089ef97d5bc42a63d85
   "source": [
    "#Gerar uma sequência de 20 números igualmente espaçados entre 30 e 100\n",
    "start = 30\n",
    "stop = 100\n",
    "num = 20\n",
    "np.linspace(start=start,stop=stop,num=num)"
   ]
  },
  {
   "cell_type": "markdown",
   "metadata": {
    "application/vnd.databricks.v1+cell": {
     "cellMetadata": {},
     "inputWidgets": {},
     "nuid": "5dd8ba15-b2ce-4f5e-88ee-3e0aeb14fc97",
     "showTitle": false,
     "title": ""
    },
    "id": "teH7r0wi4kdd"
   },
   "source": [
    "### **Método random:**\n",
    "\n",
    "<img src = \"https://numpy.org/devdocs/_images/np_ones_zeros_random.png\" />\n",
    "\n",
    "Ele oferece várias funções para geração de números aleatórios e é bastante útil para aplicações, desde simulações estatísticas até a criação de conjuntos de dados fictícios para testes."
   ]
  },
  {
   "cell_type": "code",
<<<<<<< HEAD
   "execution_count": 84,
=======
   "execution_count": 0,
>>>>>>> 55b74bd475c42d3d06807089ef97d5bc42a63d85
   "metadata": {
    "application/vnd.databricks.v1+cell": {
     "cellMetadata": {},
     "inputWidgets": {},
     "nuid": "4b08cbad-5bd0-435f-87b0-2581fb0e83dc",
     "showTitle": false,
     "title": ""
    },
    "id": "vmHdGMPH4iX9"
   },
<<<<<<< HEAD
   "outputs": [
    {
     "data": {
      "text/plain": [
       "array([5.64115790e-02, 7.21998772e-01, 9.38552709e-01, 7.78765841e-04,\n",
       "       9.92211559e-01])"
      ]
     },
     "execution_count": 84,
     "metadata": {},
     "output_type": "execute_result"
    }
   ],
=======
   "outputs": [],
>>>>>>> 55b74bd475c42d3d06807089ef97d5bc42a63d85
   "source": [
    "#Gerar dados com distribuição uniforme entre 0 e 1:\n",
    "np.random.rand(5)"
   ]
  },
  {
   "cell_type": "code",
<<<<<<< HEAD
   "execution_count": 85,
=======
   "execution_count": 0,
>>>>>>> 55b74bd475c42d3d06807089ef97d5bc42a63d85
   "metadata": {
    "application/vnd.databricks.v1+cell": {
     "cellMetadata": {},
     "inputWidgets": {},
     "nuid": "48321c0f-96e5-41ed-9d8e-7496e7b501ba",
     "showTitle": false,
     "title": ""
    },
    "id": "xWsPkRO_9bTd"
   },
   "outputs": [],
   "source": [
    "import seaborn as sns"
   ]
  },
  {
   "cell_type": "markdown",
   "metadata": {
    "application/vnd.databricks.v1+cell": {
     "cellMetadata": {},
     "inputWidgets": {},
     "nuid": "2240dd7f-5cc3-4bbd-9835-4dcff3f7719c",
     "showTitle": false,
     "title": ""
    },
    "id": "3o8O4i2y9aoh"
   },
   "source": [
    "Plotando o gráfico da distribuição uniforme:\n",
    "\n",
    "<img src = \"https://www.uv.es/ceaces/base/modelos%20de%20probabilidad/Image12.gif\" />"
   ]
  },
  {
   "cell_type": "code",
<<<<<<< HEAD
   "execution_count": 86,
=======
   "execution_count": 0,
>>>>>>> 55b74bd475c42d3d06807089ef97d5bc42a63d85
   "metadata": {
    "application/vnd.databricks.v1+cell": {
     "cellMetadata": {},
     "inputWidgets": {},
     "nuid": "ebe5a35b-1075-487a-ba5b-b7523bd7aca4",
     "showTitle": false,
     "title": ""
    },
    "id": "IRwo2h-d9ei9"
   },
<<<<<<< HEAD
   "outputs": [
    {
     "data": {
      "text/plain": [
       "<Axes: ylabel='Count'>"
      ]
     },
     "execution_count": 86,
     "metadata": {},
     "output_type": "execute_result"
    },
    {
     "data": {
      "image/png": "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",
      "text/plain": [
       "<Figure size 640x480 with 1 Axes>"
      ]
     },
     "metadata": {},
     "output_type": "display_data"
    }
   ],
=======
   "outputs": [],
>>>>>>> 55b74bd475c42d3d06807089ef97d5bc42a63d85
   "source": [
    "x = np.random.rand(1000000)\n",
    "sns.histplot(x)"
   ]
  },
  {
   "cell_type": "code",
<<<<<<< HEAD
   "execution_count": 87,
=======
   "execution_count": 0,
>>>>>>> 55b74bd475c42d3d06807089ef97d5bc42a63d85
   "metadata": {
    "application/vnd.databricks.v1+cell": {
     "cellMetadata": {},
     "inputWidgets": {},
     "nuid": "1bac9a07-2427-4189-8829-4c756e6be1cb",
     "showTitle": false,
     "title": ""
    },
    "id": "3U9XjCwv7_w1"
   },
<<<<<<< HEAD
   "outputs": [
    {
     "data": {
      "text/plain": [
       "array([[0.7464389 , 0.92325755, 0.26236525],\n",
       "       [0.08373683, 0.59396631, 0.08723916],\n",
       "       [0.01053936, 0.24507325, 0.23185571]])"
      ]
     },
     "execution_count": 87,
     "metadata": {},
     "output_type": "execute_result"
    }
   ],
=======
   "outputs": [],
>>>>>>> 55b74bd475c42d3d06807089ef97d5bc42a63d85
   "source": [
    "#Gerar uma matriz 3x3\n",
    "np.random.rand(3,3)"
   ]
  },
  {
   "cell_type": "code",
<<<<<<< HEAD
   "execution_count": 88,
=======
   "execution_count": 0,
>>>>>>> 55b74bd475c42d3d06807089ef97d5bc42a63d85
   "metadata": {
    "application/vnd.databricks.v1+cell": {
     "cellMetadata": {},
     "inputWidgets": {},
     "nuid": "f4c4f301-40c3-4ecc-a989-b4da9a89d3ed",
     "showTitle": false,
     "title": ""
    },
    "id": "rhDoIF2_8Cm0"
   },
<<<<<<< HEAD
   "outputs": [
    {
     "data": {
      "text/plain": [
       "2"
      ]
     },
     "execution_count": 88,
     "metadata": {},
     "output_type": "execute_result"
    }
   ],
=======
   "outputs": [],
>>>>>>> 55b74bd475c42d3d06807089ef97d5bc42a63d85
   "source": [
    "#Gerar um número inteiro aleatório dentro de um intervalo especificado\n",
    "np.random.randint(1,11)"
   ]
  },
  {
   "cell_type": "markdown",
   "metadata": {
    "application/vnd.databricks.v1+cell": {
     "cellMetadata": {},
     "inputWidgets": {},
     "nuid": "ea44d5e3-9222-43a4-b4fd-af898df2a71b",
     "showTitle": false,
     "title": ""
    },
    "id": "4pr7wRSZ8s-m"
   },
   "source": [
    "Dentro deste módulo, há vários geradores de número aleatórios para fins mais especificos. No exemplo abaixo, trabalhamos com a função *randint*, que gera somente números inteiros no intervalo especificado."
   ]
  },
  {
   "cell_type": "code",
<<<<<<< HEAD
   "execution_count": 89,
=======
   "execution_count": 0,
>>>>>>> 55b74bd475c42d3d06807089ef97d5bc42a63d85
   "metadata": {
    "application/vnd.databricks.v1+cell": {
     "cellMetadata": {},
     "inputWidgets": {},
     "nuid": "a6158f04-e0a6-4e27-a87a-bba22591a934",
     "showTitle": false,
     "title": ""
    },
    "id": "A-XEDFts8wo1"
   },
<<<<<<< HEAD
   "outputs": [
    {
     "data": {
      "text/plain": [
       "array([28, 19, 35, 55, 69, 44, 32, 12, 93, 90])"
      ]
     },
     "execution_count": 89,
     "metadata": {},
     "output_type": "execute_result"
    }
   ],
=======
   "outputs": [],
>>>>>>> 55b74bd475c42d3d06807089ef97d5bc42a63d85
   "source": [
    "#Gerar um vetor aleatório de tamanho 10, de 0 até 100\n",
    "np.random.randint(0,101,10)"
   ]
  },
  {
   "cell_type": "markdown",
   "metadata": {
    "application/vnd.databricks.v1+cell": {
     "cellMetadata": {},
     "inputWidgets": {},
     "nuid": "b2745337-235d-4501-97b4-8b87e9d3ac94",
     "showTitle": false,
     "title": ""
    },
    "id": "SbV4GDd4878T"
   },
   "source": [
    "Também conseguimos trabalhar com **distribuições estatísticas de probabilidade**. Vejamos, por exemplo, como é possível gerar números aleatórios que obedeçam a uma distribuição normal."
   ]
  },
  {
   "cell_type": "markdown",
   "metadata": {
    "application/vnd.databricks.v1+cell": {
     "cellMetadata": {},
     "inputWidgets": {},
     "nuid": "3376be17-5058-4e25-abeb-99fbbc073f62",
     "showTitle": false,
     "title": ""
    },
    "id": "xpU12Fnb8-_C"
   },
   "source": [
    "<img src = \"https://www.allaboutcircuits.com/uploads/articles/an-introduction-to-the-normal-distribution-in-electrical-engineerin-rk-aac-image1.jpg\" />"
   ]
  },
  {
   "cell_type": "code",
<<<<<<< HEAD
   "execution_count": 90,
=======
   "execution_count": 0,
>>>>>>> 55b74bd475c42d3d06807089ef97d5bc42a63d85
   "metadata": {
    "application/vnd.databricks.v1+cell": {
     "cellMetadata": {},
     "inputWidgets": {},
     "nuid": "9cee75a7-84de-4b46-8fd6-c876e44405c9",
     "showTitle": false,
     "title": ""
    },
    "id": "v5JLuUvd8Ij8"
   },
<<<<<<< HEAD
   "outputs": [
    {
     "data": {
      "text/plain": [
       "array([-1.09913289, -1.0430923 ,  0.13394194, -0.86170696,  1.08348522,\n",
       "        1.00182476,  0.20267294,  1.09062533, -1.85195732,  0.622287  ])"
      ]
     },
     "execution_count": 90,
     "metadata": {},
     "output_type": "execute_result"
    }
   ],
=======
   "outputs": [],
>>>>>>> 55b74bd475c42d3d06807089ef97d5bc42a63d85
   "source": [
    "#Gerar um array de valores aleatórios de distribuição normal\n",
    "np.random.randn(10)"
   ]
  },
  {
   "cell_type": "code",
<<<<<<< HEAD
   "execution_count": 91,
=======
   "execution_count": 0,
>>>>>>> 55b74bd475c42d3d06807089ef97d5bc42a63d85
   "metadata": {
    "application/vnd.databricks.v1+cell": {
     "cellMetadata": {},
     "inputWidgets": {},
     "nuid": "d7d05611-4ca2-4660-a80d-bd0c14a6c11a",
     "showTitle": false,
     "title": ""
    },
    "id": "SPueqwlu8gj8"
   },
<<<<<<< HEAD
   "outputs": [
    {
     "data": {
      "text/plain": [
       "array([[-0.37025049,  0.49677497],\n",
       "       [ 0.6735361 , -0.48058916]])"
      ]
     },
     "execution_count": 91,
     "metadata": {},
     "output_type": "execute_result"
    }
   ],
=======
   "outputs": [],
>>>>>>> 55b74bd475c42d3d06807089ef97d5bc42a63d85
   "source": [
    "#Gerar uma matriz 2x2 de valores aleatórios de distribuição normal\n",
    "np.random.randn(2,2)"
   ]
  },
  {
   "cell_type": "markdown",
   "metadata": {
    "application/vnd.databricks.v1+cell": {
     "cellMetadata": {},
     "inputWidgets": {},
     "nuid": "9aefd623-ee18-457e-8ff9-2d7e025d6019",
     "showTitle": false,
     "title": ""
    },
    "id": "m_ofmKyE8pKd"
   },
   "source": [
    "Podemos plotar o gráfico de uma distribuição normal, usando a biblioteca seaborn:"
   ]
  },
  {
   "cell_type": "code",
<<<<<<< HEAD
   "execution_count": 92,
=======
   "execution_count": 0,
>>>>>>> 55b74bd475c42d3d06807089ef97d5bc42a63d85
   "metadata": {
    "application/vnd.databricks.v1+cell": {
     "cellMetadata": {},
     "inputWidgets": {},
     "nuid": "1ce61ab4-69c4-42ad-bde4-537f2882e64c",
     "showTitle": false,
     "title": ""
    },
    "id": "RJSwBl1y8j_D"
   },
<<<<<<< HEAD
   "outputs": [
    {
     "data": {
      "text/plain": [
       "<Axes: ylabel='Count'>"
      ]
     },
     "execution_count": 92,
     "metadata": {},
     "output_type": "execute_result"
    },
    {
     "data": {
      "image/png": "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",
      "text/plain": [
       "<Figure size 640x480 with 1 Axes>"
      ]
     },
     "metadata": {},
     "output_type": "display_data"
    }
   ],
=======
   "outputs": [],
>>>>>>> 55b74bd475c42d3d06807089ef97d5bc42a63d85
   "source": [
    "# plotando distribuição normal com o seaborn\n",
    "x = np.random.randn(1000000)\n",
    "sns.histplot(x)"
   ]
  },
  {
   "cell_type": "markdown",
   "metadata": {
    "application/vnd.databricks.v1+cell": {
     "cellMetadata": {},
     "inputWidgets": {},
     "nuid": "adbb1769-3a4f-488c-b8e3-b82a5ab10a20",
     "showTitle": false,
     "title": ""
    },
    "id": "xfKyKQm--GAW"
   },
   "source": [
    "Podemos ainda gerar uma amostra aleatória a partir de uma matriz ou sequência usando o **random.choice()**:"
   ]
  },
  {
   "cell_type": "code",
<<<<<<< HEAD
   "execution_count": 93,
=======
   "execution_count": 0,
>>>>>>> 55b74bd475c42d3d06807089ef97d5bc42a63d85
   "metadata": {
    "application/vnd.databricks.v1+cell": {
     "cellMetadata": {},
     "inputWidgets": {},
     "nuid": "65ea054f-06bc-463d-b59e-acc81b9b2dc0",
     "showTitle": false,
     "title": ""
    },
    "id": "aQ9mlSkM-Ljj"
   },
<<<<<<< HEAD
   "outputs": [
    {
     "data": {
      "text/plain": [
       "array([ 82.17, 158.27, 232.36])"
      ]
     },
     "execution_count": 93,
     "metadata": {},
     "output_type": "execute_result"
    }
   ],
=======
   "outputs": [],
>>>>>>> 55b74bd475c42d3d06807089ef97d5bc42a63d85
   "source": [
    "#Gerar uma amostra aleatória a partir de um objeto aleatório\n",
    "lista_inf = [80.29, 136.34, 222.57, 232.36, 223.91, 221.31, 165.1, 165.61, 82.17, 158.27]\n",
    "random_sample = np.random.choice(lista_inf,size=3,replace=False)\n",
    "random_sample"
   ]
  },
  {
   "cell_type": "markdown",
   "metadata": {
    "application/vnd.databricks.v1+cell": {
     "cellMetadata": {},
     "inputWidgets": {},
     "nuid": "200338eb-ceb3-4862-83fc-340c8ed4bb2d",
     "showTitle": false,
     "title": ""
    },
    "id": "P-X3lNZl-c1P"
   },
   "source": [
    "Podemos também definir uma **semente (seed)** para gerar números pseudoaleatórios.\n",
    "\n",
    "**Utilidade:** Permite reproduzir a mesma sequência de números aleatórios em diferentes execuções do código, desde que a mesma semente seja usada."
   ]
  },
  {
   "cell_type": "code",
<<<<<<< HEAD
   "execution_count": 94,
=======
   "execution_count": 0,
>>>>>>> 55b74bd475c42d3d06807089ef97d5bc42a63d85
   "metadata": {
    "application/vnd.databricks.v1+cell": {
     "cellMetadata": {},
     "inputWidgets": {},
     "nuid": "9f9415de-9c9c-4ede-ad7e-d72157e2bd9d",
     "showTitle": false,
     "title": ""
    },
    "id": "iKwwOGze-TX0"
   },
<<<<<<< HEAD
   "outputs": [
    {
     "data": {
      "text/plain": [
       "array([ 82.17, 136.34, 221.31])"
      ]
     },
     "execution_count": 94,
     "metadata": {},
     "output_type": "execute_result"
    }
   ],
=======
   "outputs": [],
>>>>>>> 55b74bd475c42d3d06807089ef97d5bc42a63d85
   "source": [
    "#Definir a semente para garantir a mesma sequência\n",
    "np.random.seed(42)\n",
    "#Gerar uma sequência aleatória\n",
    "random_sample = np.random.choice(lista_inf,size=3,replace=False)\n",
    "random_sample"
   ]
  },
  {
   "cell_type": "markdown",
   "metadata": {
    "application/vnd.databricks.v1+cell": {
     "cellMetadata": {},
     "inputWidgets": {},
     "nuid": "a7e33057-ef80-4b71-9ff8-488ef6439ef0",
     "showTitle": false,
     "title": ""
    },
    "id": "ccvX2oDG-3a8"
   },
   "source": [
    "**Obs.:** Se eu rodar de novo sem o seed?"
   ]
  },
  {
   "cell_type": "code",
<<<<<<< HEAD
   "execution_count": 95,
=======
   "execution_count": 0,
>>>>>>> 55b74bd475c42d3d06807089ef97d5bc42a63d85
   "metadata": {
    "application/vnd.databricks.v1+cell": {
     "cellMetadata": {},
     "inputWidgets": {},
     "nuid": "fb306c81-6106-41d2-b842-660828f1ee95",
     "showTitle": false,
     "title": ""
    },
    "id": "PDFn1MyZ-ycz"
   },
<<<<<<< HEAD
   "outputs": [
    {
     "data": {
      "text/plain": [
       "array([ 80.29, 136.34,  82.17])"
      ]
     },
     "execution_count": 95,
     "metadata": {},
     "output_type": "execute_result"
    }
   ],
=======
   "outputs": [],
>>>>>>> 55b74bd475c42d3d06807089ef97d5bc42a63d85
   "source": [
    "random_sample = np.random.choice(lista_inf,size=3,replace=False)\n",
    "random_sample"
   ]
  },
  {
   "cell_type": "markdown",
   "metadata": {
    "application/vnd.databricks.v1+cell": {
     "cellMetadata": {},
     "inputWidgets": {},
     "nuid": "8ee2bd66-0eb7-458d-a2bd-add8be916b4e",
     "showTitle": false,
     "title": ""
    },
    "id": "C16YTBC_-7Rd"
   },
   "source": [
    "É definido apenas para aquela célula."
   ]
  },
  {
   "cell_type": "markdown",
   "metadata": {
    "application/vnd.databricks.v1+cell": {
     "cellMetadata": {},
     "inputWidgets": {},
     "nuid": "ac1c52dd-4dd8-487d-b61c-ad563049bc93",
     "showTitle": false,
     "title": ""
    },
    "id": "W24EaQ9X-_mW"
   },
   "source": [
    "## **Indexação de Arrays:**\n",
    "\n",
    "É possível acessar elementos individuais dos arrays pelos **índices**, da mesma forma que fazemos com listas."
   ]
  },
  {
   "cell_type": "code",
<<<<<<< HEAD
   "execution_count": 96,
=======
   "execution_count": 0,
>>>>>>> 55b74bd475c42d3d06807089ef97d5bc42a63d85
   "metadata": {
    "application/vnd.databricks.v1+cell": {
     "cellMetadata": {},
     "inputWidgets": {},
     "nuid": "0550ee21-4740-49b0-98be-d5de05a39ab6",
     "showTitle": false,
     "title": ""
    },
    "id": "rx1f1SYX-6mC"
   },
<<<<<<< HEAD
   "outputs": [
    {
     "data": {
      "text/plain": [
       "array([ 1,  2,  3,  4,  5,  6,  7,  8,  9, 10, 11, 12, 13, 14, 15, 16, 17,\n",
       "       18, 19, 20])"
      ]
     },
     "execution_count": 96,
     "metadata": {},
     "output_type": "execute_result"
    }
   ],
=======
   "outputs": [],
>>>>>>> 55b74bd475c42d3d06807089ef97d5bc42a63d85
   "source": [
    "#Criando um array sequencial de 1 a 20\n",
    "array = np.arange(1,21)\n",
    "array"
   ]
  },
  {
   "cell_type": "code",
<<<<<<< HEAD
   "execution_count": 97,
=======
   "execution_count": 0,
>>>>>>> 55b74bd475c42d3d06807089ef97d5bc42a63d85
   "metadata": {
    "application/vnd.databricks.v1+cell": {
     "cellMetadata": {},
     "inputWidgets": {},
     "nuid": "c18a369b-232c-462e-9502-8fc7c1616ede",
     "showTitle": false,
     "title": ""
    },
    "id": "bEsW8bqh_L78"
   },
<<<<<<< HEAD
   "outputs": [
    {
     "data": {
      "text/plain": [
       "1"
      ]
     },
     "execution_count": 97,
     "metadata": {},
     "output_type": "execute_result"
    }
   ],
=======
   "outputs": [],
>>>>>>> 55b74bd475c42d3d06807089ef97d5bc42a63d85
   "source": [
    "#Acessando elementos individuais\n",
    "array[0]"
   ]
  },
  {
   "cell_type": "code",
<<<<<<< HEAD
   "execution_count": 98,
=======
   "execution_count": 0,
>>>>>>> 55b74bd475c42d3d06807089ef97d5bc42a63d85
   "metadata": {
    "application/vnd.databricks.v1+cell": {
     "cellMetadata": {},
     "inputWidgets": {},
     "nuid": "1fccd329-75ec-4682-90df-e309a2c9e424",
     "showTitle": false,
     "title": ""
    },
    "id": "iwtxCTgF_PCT"
   },
<<<<<<< HEAD
   "outputs": [
    {
     "data": {
      "text/plain": [
       "20"
      ]
     },
     "execution_count": 98,
     "metadata": {},
     "output_type": "execute_result"
    }
   ],
=======
   "outputs": [],
>>>>>>> 55b74bd475c42d3d06807089ef97d5bc42a63d85
   "source": [
    "#Acessando índices negativos\n",
    "array[-1]"
   ]
  },
  {
   "cell_type": "code",
<<<<<<< HEAD
   "execution_count": 99,
=======
   "execution_count": 0,
>>>>>>> 55b74bd475c42d3d06807089ef97d5bc42a63d85
   "metadata": {
    "application/vnd.databricks.v1+cell": {
     "cellMetadata": {},
     "inputWidgets": {},
     "nuid": "44172a4a-bef2-4ab2-8b53-69876957d657",
     "showTitle": false,
     "title": ""
    },
    "id": "clFRQT3f_R2M"
   },
<<<<<<< HEAD
   "outputs": [
    {
     "data": {
      "text/plain": [
       "array([2, 3])"
      ]
     },
     "execution_count": 99,
     "metadata": {},
     "output_type": "execute_result"
    }
   ],
=======
   "outputs": [],
>>>>>>> 55b74bd475c42d3d06807089ef97d5bc42a63d85
   "source": [
    "#Fazendo slicing\n",
    "array[1:3]"
   ]
  },
  {
   "cell_type": "code",
<<<<<<< HEAD
   "execution_count": 100,
=======
   "execution_count": 0,
>>>>>>> 55b74bd475c42d3d06807089ef97d5bc42a63d85
   "metadata": {
    "application/vnd.databricks.v1+cell": {
     "cellMetadata": {},
     "inputWidgets": {},
     "nuid": "f6fd73a2-4a3c-4856-8873-24a11b1f405e",
     "showTitle": false,
     "title": ""
    },
    "id": "bDVs7w8t_Upk"
   },
<<<<<<< HEAD
   "outputs": [
    {
     "data": {
      "text/plain": [
       "array([1, 2, 3])"
      ]
     },
     "execution_count": 100,
     "metadata": {},
     "output_type": "execute_result"
    }
   ],
=======
   "outputs": [],
>>>>>>> 55b74bd475c42d3d06807089ef97d5bc42a63d85
   "source": [
    "#Slicing sem início\n",
    "array[:3]"
   ]
  },
  {
   "cell_type": "code",
<<<<<<< HEAD
   "execution_count": 101,
=======
   "execution_count": 0,
>>>>>>> 55b74bd475c42d3d06807089ef97d5bc42a63d85
   "metadata": {
    "application/vnd.databricks.v1+cell": {
     "cellMetadata": {},
     "inputWidgets": {},
     "nuid": "7511c724-67e0-41ea-a88c-a4f7a86defe2",
     "showTitle": false,
     "title": ""
    },
    "id": "CmDleXAd_Z4k"
   },
<<<<<<< HEAD
   "outputs": [
    {
     "data": {
      "text/plain": [
       "array([18, 19, 20])"
      ]
     },
     "execution_count": 101,
     "metadata": {},
     "output_type": "execute_result"
    }
   ],
=======
   "outputs": [],
>>>>>>> 55b74bd475c42d3d06807089ef97d5bc42a63d85
   "source": [
    "#Slicing sem fim\n",
    "array[-3:]"
   ]
  },
  {
   "cell_type": "markdown",
   "metadata": {
    "application/vnd.databricks.v1+cell": {
     "cellMetadata": {},
     "inputWidgets": {},
     "nuid": "da613c14-cc9f-4590-94ee-133db5ede3f5",
     "showTitle": false,
     "title": ""
    },
    "id": "dUGF1gkl_gf_"
   },
   "source": [
    "<img src = \"https://numpy.org/devdocs/_images/np_indexing.png\" />"
   ]
  },
  {
   "cell_type": "markdown",
   "metadata": {
    "application/vnd.databricks.v1+cell": {
     "cellMetadata": {},
     "inputWidgets": {},
     "nuid": "f7692035-bcdb-4204-9cb0-7635a7824c6c",
     "showTitle": false,
     "title": ""
    },
    "id": "RkjKFkRa_hdV"
   },
   "source": [
    "**E como funciona para matrizes?**"
   ]
  },
  {
   "cell_type": "code",
<<<<<<< HEAD
   "execution_count": 102,
=======
   "execution_count": 0,
>>>>>>> 55b74bd475c42d3d06807089ef97d5bc42a63d85
   "metadata": {
    "application/vnd.databricks.v1+cell": {
     "cellMetadata": {},
     "inputWidgets": {},
     "nuid": "511331e0-0167-4f7f-b6f6-9d2f434a4606",
     "showTitle": false,
     "title": ""
    },
    "id": "d531Uau9_dgE"
   },
<<<<<<< HEAD
   "outputs": [
    {
     "data": {
      "text/plain": [
       "array([[1, 2, 3],\n",
       "       [4, 5, 6],\n",
       "       [7, 8, 9]])"
      ]
     },
     "execution_count": 102,
     "metadata": {},
     "output_type": "execute_result"
    }
   ],
=======
   "outputs": [],
>>>>>>> 55b74bd475c42d3d06807089ef97d5bc42a63d85
   "source": [
    "# Criar uma matriz de exemplo\n",
    "matriz = np.array(list(range(1,10))).reshape(3,3)\n",
    "matriz"
   ]
  },
  {
   "cell_type": "markdown",
   "metadata": {
    "application/vnd.databricks.v1+cell": {
     "cellMetadata": {},
     "inputWidgets": {},
     "nuid": "31c047a2-cc44-4af5-b682-85670eddfc9a",
     "showTitle": false,
     "title": ""
    },
    "id": "dHQ1YWRH_1oo"
   },
   "source": [
    "**Slicing por linhas e colunas:** Para selecionar uma parte específica da matriz, você pode usar a notação:\n",
    "\n",
    "```[linha_inicio:linha_fim, coluna_inicio:coluna_fim]```"
   ]
  },
  {
   "cell_type": "code",
<<<<<<< HEAD
   "execution_count": 103,
=======
   "execution_count": 0,
>>>>>>> 55b74bd475c42d3d06807089ef97d5bc42a63d85
   "metadata": {
    "application/vnd.databricks.v1+cell": {
     "cellMetadata": {},
     "inputWidgets": {},
     "nuid": "b1897ad4-797b-4af8-bb66-682fbc82875d",
     "showTitle": false,
     "title": ""
    },
    "id": "-zgeYF5j_vEB"
   },
<<<<<<< HEAD
   "outputs": [
    {
     "data": {
      "text/plain": [
       "array([[1, 2],\n",
       "       [4, 5]])"
      ]
     },
     "execution_count": 103,
     "metadata": {},
     "output_type": "execute_result"
    }
   ],
=======
   "outputs": [],
>>>>>>> 55b74bd475c42d3d06807089ef97d5bc42a63d85
   "source": [
    "# Selecionar todas as linhas até a segunda e todas as colunas até a segunda\n",
    "matriz[:2,:2]"
   ]
  },
  {
   "cell_type": "markdown",
   "metadata": {
    "application/vnd.databricks.v1+cell": {
     "cellMetadata": {},
     "inputWidgets": {},
     "nuid": "5bb43d63-3cfc-44a0-8d07-227a7a43950d",
     "showTitle": false,
     "title": ""
    },
    "id": "q0LP50VY_9c9"
   },
   "source": [
    "**Selecionando uma linha ou coluna específica:** Para selecionar uma linha ou coluna específica, use apenas um índice."
   ]
  },
  {
   "cell_type": "code",
<<<<<<< HEAD
   "execution_count": 104,
=======
   "execution_count": 0,
>>>>>>> 55b74bd475c42d3d06807089ef97d5bc42a63d85
   "metadata": {
    "application/vnd.databricks.v1+cell": {
     "cellMetadata": {},
     "inputWidgets": {},
     "nuid": "0aaa4391-24f9-451e-8b4d-0e324a08aa01",
     "showTitle": false,
     "title": ""
    },
    "id": "k71izD-0_yZl"
   },
<<<<<<< HEAD
   "outputs": [
    {
     "data": {
      "text/plain": [
       "array([2, 5, 8])"
      ]
     },
     "execution_count": 104,
     "metadata": {},
     "output_type": "execute_result"
    }
   ],
=======
   "outputs": [],
>>>>>>> 55b74bd475c42d3d06807089ef97d5bc42a63d85
   "source": [
    "# Selecionar a segunda coluna\n",
    "matriz[:,1]"
   ]
  },
  {
   "cell_type": "code",
<<<<<<< HEAD
   "execution_count": 105,
=======
   "execution_count": 0,
>>>>>>> 55b74bd475c42d3d06807089ef97d5bc42a63d85
   "metadata": {
    "application/vnd.databricks.v1+cell": {
     "cellMetadata": {},
     "inputWidgets": {},
     "nuid": "d954b795-f9b4-4946-9dec-8dfabfcd5536",
     "showTitle": false,
     "title": ""
    },
    "id": "adCXjtX9_ypL"
   },
<<<<<<< HEAD
   "outputs": [
    {
     "data": {
      "text/plain": [
       "array([4, 5, 6])"
      ]
     },
     "execution_count": 105,
     "metadata": {},
     "output_type": "execute_result"
    }
   ],
=======
   "outputs": [],
>>>>>>> 55b74bd475c42d3d06807089ef97d5bc42a63d85
   "source": [
    "# Selecionar a segunda linha\n",
    "matriz[1,:]"
   ]
  },
  {
   "cell_type": "markdown",
   "metadata": {
    "application/vnd.databricks.v1+cell": {
     "cellMetadata": {},
     "inputWidgets": {},
     "nuid": "cc50c2a3-6ae1-4b7e-98ef-f21b99671ffe",
     "showTitle": false,
     "title": ""
    },
    "id": "oUoueZO9AO6S"
   },
   "source": [
    "**Slicing com passo:** Você pode especificar um passo para avançar de maneira diferente pelos elementos da matriz:"
   ]
  },
  {
   "cell_type": "code",
<<<<<<< HEAD
   "execution_count": 106,
=======
   "execution_count": 0,
>>>>>>> 55b74bd475c42d3d06807089ef97d5bc42a63d85
   "metadata": {
    "application/vnd.databricks.v1+cell": {
     "cellMetadata": {},
     "inputWidgets": {},
     "nuid": "d99a837f-affb-4026-8224-eb0a8955cfde",
     "showTitle": false,
     "title": ""
    },
    "id": "rCGYGEM3AJFs"
   },
<<<<<<< HEAD
   "outputs": [
    {
     "data": {
      "text/plain": [
       "array([1, 3])"
      ]
     },
     "execution_count": 106,
     "metadata": {},
     "output_type": "execute_result"
    }
   ],
=======
   "outputs": [],
>>>>>>> 55b74bd475c42d3d06807089ef97d5bc42a63d85
   "source": [
    "# Selecionar cada segundo elemento da primeira linha\n",
    "matriz[0,::2]"
   ]
  },
  {
   "cell_type": "markdown",
   "metadata": {
    "application/vnd.databricks.v1+cell": {
     "cellMetadata": {},
     "inputWidgets": {},
     "nuid": "def51867-02b1-4d2c-86af-79ab379d4fd1",
     "showTitle": false,
     "title": ""
    },
    "id": "x_nOGRfNAlJM"
   },
   "source": [
    "**Indexação usando arrays de índices:** Você pode indexar matrizes NumPy usando arrays de índices para selecionar elementos específicos:"
   ]
  },
  {
   "cell_type": "code",
<<<<<<< HEAD
   "execution_count": 107,
=======
   "execution_count": 0,
>>>>>>> 55b74bd475c42d3d06807089ef97d5bc42a63d85
   "metadata": {
    "application/vnd.databricks.v1+cell": {
     "cellMetadata": {},
     "inputWidgets": {},
     "nuid": "fd60d0dc-293a-4ae3-92c2-cd5b0fd00ffb",
     "showTitle": false,
     "title": ""
    },
    "id": "R74CCpwxASpU"
   },
<<<<<<< HEAD
   "outputs": [
    {
     "data": {
      "text/plain": [
       "array([[1, 2, 3],\n",
       "       [7, 8, 9]])"
      ]
     },
     "execution_count": 107,
     "metadata": {},
     "output_type": "execute_result"
    }
   ],
=======
   "outputs": [],
>>>>>>> 55b74bd475c42d3d06807089ef97d5bc42a63d85
   "source": [
    "#Pegar as 2 primeiras linhas\n",
    "matriz[np.array([0,2]),:]"
   ]
  },
  {
   "cell_type": "markdown",
   "metadata": {
    "application/vnd.databricks.v1+cell": {
     "cellMetadata": {},
     "inputWidgets": {},
     "nuid": "7adbe953-02a5-4af7-bc1e-0816b0226b15",
     "showTitle": false,
     "title": ""
    },
    "id": "GDcqU6AmAyoI"
   },
   "source": [
    "Temos aqui uma submatriz contendo as linhas 0 e 2 da matriz original"
   ]
  },
  {
   "cell_type": "markdown",
   "metadata": {
    "application/vnd.databricks.v1+cell": {
     "cellMetadata": {},
     "inputWidgets": {},
     "nuid": "ea55bddc-2470-4cee-b8b1-a4dc98d6079d",
     "showTitle": false,
     "title": ""
    },
    "id": "Y5Eu4O7xA3XY"
   },
   "source": [
    "## **Operações simples:**\n",
    "\n",
    "\n",
    "As operações com arrays no NumPy oferecem uma forma eficiente de realizar operações matemáticas e manipulações de dados em arrays multidimensionais. Essas operações são vetorizadas, o que significa que são aplicadas a todos os elementos do array sem a necessidade de loops explícitos, tornando o código mais conciso e rápido."
   ]
  },
  {
   "cell_type": "markdown",
   "metadata": {
    "application/vnd.databricks.v1+cell": {
     "cellMetadata": {},
     "inputWidgets": {},
     "nuid": "f1d35221-03c8-4d32-8837-c24c5f1254f1",
     "showTitle": false,
     "title": ""
    },
    "id": "scy9vNrVEwgO"
   },
   "source": [
    "### **Operações matemáticas:**"
   ]
  },
  {
   "cell_type": "markdown",
   "metadata": {
    "application/vnd.databricks.v1+cell": {
     "cellMetadata": {},
     "inputWidgets": {},
     "nuid": "2b9ebd4a-0915-431d-b8df-46e3b20b123e",
     "showTitle": false,
     "title": ""
    },
    "id": "IYsPJOCaB1Ce"
   },
   "source": [
    "____\n",
    "Vamos relembrar primeiro com uma lista:"
   ]
  },
  {
   "cell_type": "code",
<<<<<<< HEAD
   "execution_count": 108,
=======
   "execution_count": 0,
>>>>>>> 55b74bd475c42d3d06807089ef97d5bc42a63d85
   "metadata": {
    "application/vnd.databricks.v1+cell": {
     "cellMetadata": {
      "byteLimit": 2048000,
      "rowLimit": 10000
     },
     "inputWidgets": {},
     "nuid": "0b410b64-8f88-46e0-a103-69f9d1d892cf",
     "showTitle": false,
     "title": ""
    }
   },
   "outputs": [],
   "source": [
    "import numpy as np"
   ]
  },
  {
   "cell_type": "code",
<<<<<<< HEAD
   "execution_count": 109,
=======
   "execution_count": 0,
>>>>>>> 55b74bd475c42d3d06807089ef97d5bc42a63d85
   "metadata": {
    "application/vnd.databricks.v1+cell": {
     "cellMetadata": {
      "byteLimit": 2048000,
      "rowLimit": 10000
     },
     "inputWidgets": {},
     "nuid": "a7854119-8700-4427-b2d4-3d4f3dc8be29",
     "showTitle": false,
     "title": ""
    },
    "id": "tR060JbLAsBz"
   },
   "outputs": [],
   "source": [
    "#Criando duas listas:\n",
    "lista_1 = [1,2,3]\n",
    "lista_2 = [4,5,6]"
   ]
  },
  {
   "cell_type": "code",
<<<<<<< HEAD
   "execution_count": 110,
=======
   "execution_count": 0,
>>>>>>> 55b74bd475c42d3d06807089ef97d5bc42a63d85
   "metadata": {
    "application/vnd.databricks.v1+cell": {
     "cellMetadata": {
      "byteLimit": 2048000,
      "rowLimit": 10000
     },
     "inputWidgets": {},
     "nuid": "80e26320-f807-4788-8e69-022614063ac2",
     "showTitle": false,
     "title": ""
    }
   },
<<<<<<< HEAD
   "outputs": [
    {
     "name": "stdout",
     "output_type": "stream",
     "text": [
      "[1, 2, 3]\n",
      "[4, 5, 6]\n"
     ]
    }
   ],
=======
   "outputs": [],
>>>>>>> 55b74bd475c42d3d06807089ef97d5bc42a63d85
   "source": [
    "print(lista_1)\n",
    "print(lista_2)"
   ]
  },
  {
   "cell_type": "code",
<<<<<<< HEAD
   "execution_count": null,
=======
   "execution_count": 0,
>>>>>>> 55b74bd475c42d3d06807089ef97d5bc42a63d85
   "metadata": {
    "application/vnd.databricks.v1+cell": {
     "cellMetadata": {
      "byteLimit": 2048000,
      "rowLimit": 10000
     },
     "inputWidgets": {},
     "nuid": "d0df0823-04c7-47ac-8564-880a4ff8823b",
     "showTitle": false,
     "title": ""
    }
   },
   "outputs": [],
   "source": []
  },
  {
   "cell_type": "code",
<<<<<<< HEAD
   "execution_count": 111,
=======
   "execution_count": 0,
>>>>>>> 55b74bd475c42d3d06807089ef97d5bc42a63d85
   "metadata": {
    "application/vnd.databricks.v1+cell": {
     "cellMetadata": {
      "byteLimit": 2048000,
      "rowLimit": 10000
     },
     "inputWidgets": {},
     "nuid": "38805a55-0d1b-4db4-a0bb-65469ba9e682",
     "showTitle": false,
     "title": ""
    },
    "id": "rQeLefVYCIsE"
   },
<<<<<<< HEAD
   "outputs": [
    {
     "data": {
      "text/plain": [
       "[1, 2, 3, 1, 2, 3, 1, 2, 3]"
      ]
     },
     "execution_count": 111,
     "metadata": {},
     "output_type": "execute_result"
    }
   ],
=======
   "outputs": [],
>>>>>>> 55b74bd475c42d3d06807089ef97d5bc42a63d85
   "source": [
    "#Multiplicando uma lista por um número\n",
    "lista_1*3"
   ]
  },
  {
   "cell_type": "code",
<<<<<<< HEAD
   "execution_count": 118,
=======
   "execution_count": 0,
>>>>>>> 55b74bd475c42d3d06807089ef97d5bc42a63d85
   "metadata": {
    "application/vnd.databricks.v1+cell": {
     "cellMetadata": {
      "byteLimit": 2048000,
      "rowLimit": 10000
     },
     "inputWidgets": {},
     "nuid": "f03d6744-5850-4d3c-bbbb-ed397b10116c",
     "showTitle": false,
     "title": ""
    },
    "id": "Op3LSXDZCRJM"
   },
<<<<<<< HEAD
   "outputs": [
    {
     "ename": "TypeError",
     "evalue": "can only concatenate list (not \"int\") to list",
     "output_type": "error",
     "traceback": [
      "\u001b[1;31m---------------------------------------------------------------------------\u001b[0m",
      "\u001b[1;31mTypeError\u001b[0m                                 Traceback (most recent call last)",
      "\u001b[1;32mc:\\User\\Ada\\ADA_classes\\DS-PY-Data-Science\\DS-PY-004 TÉCNICAS DE PROGRAMAÇÃO I (PY)\\Material do Aluno\\Aula 2\\Aula_02_Numpy_(Parte_1).ipynb Cell 98\u001b[0m line \u001b[0;36m2\n\u001b[0;32m      <a href='vscode-notebook-cell:/c%3A/User/Ada/ADA_classes/DS-PY-Data-Science/DS-PY-004%20T%C3%89CNICAS%20DE%20PROGRAMA%C3%87%C3%83O%20I%20%28PY%29/Material%20do%20Aluno/Aula%202/Aula_02_Numpy_%28Parte_1%29.ipynb#Z1064sZmlsZQ%3D%3D?line=0'>1</a>\u001b[0m \u001b[39m#Somando uma lista com um número\u001b[39;00m\n\u001b[1;32m----> <a href='vscode-notebook-cell:/c%3A/User/Ada/ADA_classes/DS-PY-Data-Science/DS-PY-004%20T%C3%89CNICAS%20DE%20PROGRAMA%C3%87%C3%83O%20I%20%28PY%29/Material%20do%20Aluno/Aula%202/Aula_02_Numpy_%28Parte_1%29.ipynb#Z1064sZmlsZQ%3D%3D?line=1'>2</a>\u001b[0m lista_1 \u001b[39m+\u001b[39m\u001b[39m2\u001b[39m\n",
      "\u001b[1;31mTypeError\u001b[0m: can only concatenate list (not \"int\") to list"
     ]
    }
   ],
   "source": [
    "#Somando uma lista com um número\n",
    "lista_1 +2"
=======
   "outputs": [],
   "source": [
    "#Somando uma lista com um número\n",
    "lista_1+2"
>>>>>>> 55b74bd475c42d3d06807089ef97d5bc42a63d85
   ]
  },
  {
   "cell_type": "markdown",
   "metadata": {
    "application/vnd.databricks.v1+cell": {
     "cellMetadata": {},
     "inputWidgets": {},
     "nuid": "6ca4c579-20f1-4324-94e9-4cbd2a0df5a4",
     "showTitle": false,
     "title": ""
    },
    "id": "H8E0CJ4ACdwO"
   },
   "source": [
    "São 2 objetos diferentes e só conseguimos somar listas com listas"
   ]
  },
  {
   "cell_type": "code",
<<<<<<< HEAD
   "execution_count": 116,
=======
   "execution_count": 0,
>>>>>>> 55b74bd475c42d3d06807089ef97d5bc42a63d85
   "metadata": {
    "application/vnd.databricks.v1+cell": {
     "cellMetadata": {
      "byteLimit": 2048000,
      "rowLimit": 10000
     },
     "inputWidgets": {},
     "nuid": "5522ee7d-148b-4292-adfa-802225a32a50",
     "showTitle": false,
     "title": ""
    },
    "id": "H3tkY_dXCVrz"
   },
<<<<<<< HEAD
   "outputs": [
    {
     "data": {
      "text/plain": [
       "[1, 2, 3, 2]"
      ]
     },
     "execution_count": 116,
     "metadata": {},
     "output_type": "execute_result"
    }
   ],
=======
   "outputs": [],
>>>>>>> 55b74bd475c42d3d06807089ef97d5bc42a63d85
   "source": [
    "#Acrescentando um número a uma lista (ou soma)\n",
    "lista_1+[2]"
   ]
  },
  {
   "cell_type": "code",
<<<<<<< HEAD
   "execution_count": 119,
=======
   "execution_count": 0,
>>>>>>> 55b74bd475c42d3d06807089ef97d5bc42a63d85
   "metadata": {
    "application/vnd.databricks.v1+cell": {
     "cellMetadata": {
      "byteLimit": 2048000,
      "rowLimit": 10000
     },
     "inputWidgets": {},
     "nuid": "8feadfcd-42d3-480f-b034-d1f171e3d12c",
     "showTitle": false,
     "title": ""
    },
    "id": "zz2L1xw4ChHn"
   },
<<<<<<< HEAD
   "outputs": [
    {
     "data": {
      "text/plain": [
       "[1, 2, 3, 4, 5, 6]"
      ]
     },
     "execution_count": 119,
     "metadata": {},
     "output_type": "execute_result"
    }
   ],
=======
   "outputs": [],
>>>>>>> 55b74bd475c42d3d06807089ef97d5bc42a63d85
   "source": [
    "#somando a lista_1 e lista_2\n",
    "lista_1+lista_2"
   ]
  },
  {
   "cell_type": "markdown",
   "metadata": {
    "application/vnd.databricks.v1+cell": {
     "cellMetadata": {},
     "inputWidgets": {},
     "nuid": "ccee2be5-2c20-47c8-83fa-f8944d6231a2",
     "showTitle": false,
     "title": ""
    },
    "id": "kV0WOgxECnIw"
   },
   "source": [
    "E se eu quiser fazer as operações (+, -, *, /, **) entre os elementos das listas?"
   ]
  },
  {
   "cell_type": "code",
<<<<<<< HEAD
   "execution_count": 120,
=======
   "execution_count": 0,
>>>>>>> 55b74bd475c42d3d06807089ef97d5bc42a63d85
   "metadata": {
    "application/vnd.databricks.v1+cell": {
     "cellMetadata": {
      "byteLimit": 2048000,
      "rowLimit": 10000
     },
     "inputWidgets": {},
     "nuid": "f33fcda4-4286-43af-b157-e834c6fbefa2",
     "showTitle": false,
     "title": ""
    },
    "id": "nuahePXECkt0"
   },
<<<<<<< HEAD
   "outputs": [
    {
     "data": {
      "text/plain": [
       "[1, 4, 9]"
      ]
     },
     "execution_count": 120,
     "metadata": {},
     "output_type": "execute_result"
    }
   ],
=======
   "outputs": [],
>>>>>>> 55b74bd475c42d3d06807089ef97d5bc42a63d85
   "source": [
    "#Criar uma lista que é o quadrado da lista_1\n",
    "lista_quadrado = []\n",
    "for elemento in lista_1:\n",
    "    lista_quadrado.append(elemento**2)\n",
    "lista_quadrado"
   ]
  },
  {
   "cell_type": "code",
<<<<<<< HEAD
   "execution_count": 121,
=======
   "execution_count": 0,
>>>>>>> 55b74bd475c42d3d06807089ef97d5bc42a63d85
   "metadata": {
    "application/vnd.databricks.v1+cell": {
     "cellMetadata": {
      "byteLimit": 2048000,
      "rowLimit": 10000
     },
     "inputWidgets": {},
     "nuid": "bdfbd020-f62c-459c-890b-b467af5e376d",
     "showTitle": false,
     "title": ""
    },
    "id": "unn4qUfXC04D"
   },
<<<<<<< HEAD
   "outputs": [
    {
     "data": {
      "text/plain": [
       "[1, 4, 9]"
      ]
     },
     "execution_count": 121,
     "metadata": {},
     "output_type": "execute_result"
    }
   ],
=======
   "outputs": [],
>>>>>>> 55b74bd475c42d3d06807089ef97d5bc42a63d85
   "source": [
    "#Podemos ainda fazer com o list comprehension\n",
    "lista_quadrado = [elemento**2 for elemento in lista_1]\n",
    "lista_quadrado"
   ]
  },
  {
   "cell_type": "markdown",
   "metadata": {
    "application/vnd.databricks.v1+cell": {
     "cellMetadata": {},
     "inputWidgets": {},
     "nuid": "82f1ac25-a26b-4c47-85f2-e9fa1d323f1e",
     "showTitle": false,
     "title": ""
    },
    "id": "SON9x1ESC9K9"
   },
   "source": [
    "Agora veremos o poder do numpy:"
   ]
  },
  {
   "cell_type": "code",
<<<<<<< HEAD
   "execution_count": 122,
=======
   "execution_count": 0,
>>>>>>> 55b74bd475c42d3d06807089ef97d5bc42a63d85
   "metadata": {
    "application/vnd.databricks.v1+cell": {
     "cellMetadata": {
      "byteLimit": 2048000,
      "rowLimit": 10000
     },
     "inputWidgets": {},
     "nuid": "a3afa8bf-b561-42d4-a84e-ebe3b03b2433",
     "showTitle": false,
     "title": ""
    },
    "id": "H0TLkY56C6eU"
   },
   "outputs": [],
   "source": [
    "#Vamos criar um array com a lista_1\n",
    "array_1 = np.array(lista_1)"
   ]
  },
  {
   "cell_type": "code",
<<<<<<< HEAD
   "execution_count": 123,
=======
   "execution_count": 0,
>>>>>>> 55b74bd475c42d3d06807089ef97d5bc42a63d85
   "metadata": {
    "application/vnd.databricks.v1+cell": {
     "cellMetadata": {
      "byteLimit": 2048000,
      "rowLimit": 10000
     },
     "inputWidgets": {},
     "nuid": "8ad8217f-fa62-4265-90f2-b0fbfbfcade1",
     "showTitle": false,
     "title": ""
    },
    "id": "VFAfyZo_DB_L"
   },
<<<<<<< HEAD
   "outputs": [
    {
     "data": {
      "text/plain": [
       "array([1, 2, 3])"
      ]
     },
     "execution_count": 123,
     "metadata": {},
     "output_type": "execute_result"
    }
   ],
=======
   "outputs": [],
>>>>>>> 55b74bd475c42d3d06807089ef97d5bc42a63d85
   "source": [
    "array_1"
   ]
  },
  {
   "cell_type": "code",
<<<<<<< HEAD
   "execution_count": 124,
=======
   "execution_count": 0,
>>>>>>> 55b74bd475c42d3d06807089ef97d5bc42a63d85
   "metadata": {
    "application/vnd.databricks.v1+cell": {
     "cellMetadata": {
      "byteLimit": 2048000,
      "rowLimit": 10000
     },
     "inputWidgets": {},
     "nuid": "491cbf35-7f41-47af-ab2b-ca146055b64e",
     "showTitle": false,
     "title": ""
    },
    "id": "Y9GWjJthDHwb"
   },
<<<<<<< HEAD
   "outputs": [
    {
     "data": {
      "text/plain": [
       "array([3, 4, 5])"
      ]
     },
     "execution_count": 124,
     "metadata": {},
     "output_type": "execute_result"
    }
   ],
=======
   "outputs": [],
>>>>>>> 55b74bd475c42d3d06807089ef97d5bc42a63d85
   "source": [
    "#Somando o array com o número 2\n",
    "array_1+2"
   ]
  },
  {
   "cell_type": "code",
<<<<<<< HEAD
   "execution_count": 125,
=======
   "execution_count": 0,
>>>>>>> 55b74bd475c42d3d06807089ef97d5bc42a63d85
   "metadata": {
    "application/vnd.databricks.v1+cell": {
     "cellMetadata": {
      "byteLimit": 2048000,
      "rowLimit": 10000
     },
     "inputWidgets": {},
     "nuid": "63ca9268-0fa4-42cc-a971-16427c2a41f7",
     "showTitle": false,
     "title": ""
    },
    "id": "Km6rJ6_JDLeL"
   },
<<<<<<< HEAD
   "outputs": [
    {
     "data": {
      "text/plain": [
       "array([5, 7, 9])"
      ]
     },
     "execution_count": 125,
     "metadata": {},
     "output_type": "execute_result"
    }
   ],
=======
   "outputs": [],
>>>>>>> 55b74bd475c42d3d06807089ef97d5bc42a63d85
   "source": [
    "#Somando o array_1 com o array_2\n",
    "array_2 = np.array(lista_2)\n",
    "array_1+array_2"
   ]
  },
  {
   "cell_type": "code",
<<<<<<< HEAD
   "execution_count": 126,
=======
   "execution_count": 0,
>>>>>>> 55b74bd475c42d3d06807089ef97d5bc42a63d85
   "metadata": {
    "application/vnd.databricks.v1+cell": {
     "cellMetadata": {
      "byteLimit": 2048000,
      "rowLimit": 10000
     },
     "inputWidgets": {},
     "nuid": "6f227596-7253-438f-b543-21f5c4e784c9",
     "showTitle": false,
     "title": ""
    },
    "id": "dSdodMCYDUUj"
   },
<<<<<<< HEAD
   "outputs": [
    {
     "data": {
      "text/plain": [
       "array([2, 4, 6])"
      ]
     },
     "execution_count": 126,
     "metadata": {},
     "output_type": "execute_result"
    }
   ],
=======
   "outputs": [],
>>>>>>> 55b74bd475c42d3d06807089ef97d5bc42a63d85
   "source": [
    "#Multiplicando um array por um número\n",
    "array_1*2"
   ]
  },
  {
   "cell_type": "code",
<<<<<<< HEAD
   "execution_count": 127,
=======
   "execution_count": 0,
>>>>>>> 55b74bd475c42d3d06807089ef97d5bc42a63d85
   "metadata": {
    "application/vnd.databricks.v1+cell": {
     "cellMetadata": {
      "byteLimit": 2048000,
      "rowLimit": 10000
     },
     "inputWidgets": {},
     "nuid": "6fa2d8f9-9c7e-4e3e-96d0-183cc2ac0a72",
     "showTitle": false,
     "title": ""
    },
    "id": "jKVArHm9Dd1M"
   },
<<<<<<< HEAD
   "outputs": [
    {
     "data": {
      "text/plain": [
       "array([ 4, 10, 18])"
      ]
     },
     "execution_count": 127,
     "metadata": {},
     "output_type": "execute_result"
    }
   ],
=======
   "outputs": [],
>>>>>>> 55b74bd475c42d3d06807089ef97d5bc42a63d85
   "source": [
    "#Multiplicando um array pelo outro\n",
    "array_1*array_2"
   ]
  },
  {
   "cell_type": "code",
<<<<<<< HEAD
   "execution_count": 128,
=======
   "execution_count": 0,
>>>>>>> 55b74bd475c42d3d06807089ef97d5bc42a63d85
   "metadata": {
    "application/vnd.databricks.v1+cell": {
     "cellMetadata": {
      "byteLimit": 2048000,
      "rowLimit": 10000
     },
     "inputWidgets": {},
     "nuid": "b6ffc85f-f456-4018-8fd1-4e9de7359487",
     "showTitle": false,
     "title": ""
    },
    "id": "aIXD2SHxDiKb"
   },
<<<<<<< HEAD
   "outputs": [
    {
     "data": {
      "text/plain": [
       "array([1, 4, 9])"
      ]
     },
     "execution_count": 128,
     "metadata": {},
     "output_type": "execute_result"
    }
   ],
=======
   "outputs": [],
>>>>>>> 55b74bd475c42d3d06807089ef97d5bc42a63d85
   "source": [
    "#Elevando um array ao quadrado\n",
    "array_1**2"
   ]
  },
  {
   "cell_type": "markdown",
   "metadata": {
    "application/vnd.databricks.v1+cell": {
     "cellMetadata": {},
     "inputWidgets": {},
     "nuid": "7b486b03-7aba-498b-9136-22679ceda50c",
     "showTitle": false,
     "title": ""
    },
    "id": "kQBjvUtcD-oW"
   },
   "source": [
    "Podemos fazer isso usando as funções apresentadas anteriormente também:"
   ]
  },
  {
   "cell_type": "code",
<<<<<<< HEAD
   "execution_count": 129,
=======
   "execution_count": 0,
>>>>>>> 55b74bd475c42d3d06807089ef97d5bc42a63d85
   "metadata": {
    "application/vnd.databricks.v1+cell": {
     "cellMetadata": {
      "byteLimit": 2048000,
      "rowLimit": 10000
     },
     "inputWidgets": {},
     "nuid": "9b055f71-736c-4f3e-ae71-3c74425b0bf1",
     "showTitle": false,
     "title": ""
    },
    "id": "bOaJYC2YD7_M"
   },
<<<<<<< HEAD
   "outputs": [
    {
     "data": {
      "text/plain": [
       "array([5., 5., 5., 5., 5., 5., 5., 5., 5., 5.])"
      ]
     },
     "execution_count": 129,
     "metadata": {},
     "output_type": "execute_result"
    }
   ],
=======
   "outputs": [],
>>>>>>> 55b74bd475c42d3d06807089ef97d5bc42a63d85
   "source": [
    "#Criando um array de 5 com a função ones\n",
    "np.ones(10)*5"
   ]
  },
  {
   "cell_type": "code",
<<<<<<< HEAD
   "execution_count": 130,
=======
   "execution_count": 0,
>>>>>>> 55b74bd475c42d3d06807089ef97d5bc42a63d85
   "metadata": {
    "application/vnd.databricks.v1+cell": {
     "cellMetadata": {
      "byteLimit": 2048000,
      "rowLimit": 10000
     },
     "inputWidgets": {},
     "nuid": "6aa0c8db-0548-49f5-a693-a24941c8ee94",
     "showTitle": false,
     "title": ""
    },
    "id": "7EhudVs4EGij"
   },
<<<<<<< HEAD
   "outputs": [
    {
     "data": {
      "text/plain": [
       "array([5., 5., 5., 5., 5., 5., 5., 5., 5., 5.])"
      ]
     },
     "execution_count": 130,
     "metadata": {},
     "output_type": "execute_result"
    }
   ],
=======
   "outputs": [],
>>>>>>> 55b74bd475c42d3d06807089ef97d5bc42a63d85
   "source": [
    "#Criando um array de 5 com a função zeros\n",
    "np.zeros(10)+5"
   ]
  },
  {
   "cell_type": "code",
<<<<<<< HEAD
   "execution_count": 131,
=======
   "execution_count": 0,
>>>>>>> 55b74bd475c42d3d06807089ef97d5bc42a63d85
   "metadata": {
    "application/vnd.databricks.v1+cell": {
     "cellMetadata": {
      "byteLimit": 2048000,
      "rowLimit": 10000
     },
     "inputWidgets": {},
     "nuid": "af6dd01c-5bd0-40e1-a9cc-0869ebc4c47e",
     "showTitle": false,
     "title": ""
    },
    "id": "EZPQXdYVELWL"
   },
<<<<<<< HEAD
   "outputs": [
    {
     "data": {
      "text/plain": [
       "array([0.5, 1. , 1.5])"
      ]
     },
     "execution_count": 131,
     "metadata": {},
     "output_type": "execute_result"
    }
   ],
=======
   "outputs": [],
>>>>>>> 55b74bd475c42d3d06807089ef97d5bc42a63d85
   "source": [
    "#Dividir um array por um número\n",
    "array_1/2"
   ]
  },
  {
   "cell_type": "code",
<<<<<<< HEAD
   "execution_count": 132,
=======
   "execution_count": 0,
>>>>>>> 55b74bd475c42d3d06807089ef97d5bc42a63d85
   "metadata": {
    "application/vnd.databricks.v1+cell": {
     "cellMetadata": {
      "byteLimit": 2048000,
      "rowLimit": 10000
     },
     "inputWidgets": {},
     "nuid": "31122f3d-2f3a-49e8-b693-a5f269f53996",
     "showTitle": false,
     "title": ""
    },
    "id": "_F6Oc80MESST"
   },
<<<<<<< HEAD
   "outputs": [
    {
     "data": {
      "text/plain": [
       "array([0.25, 0.4 , 0.5 ])"
      ]
     },
     "execution_count": 132,
     "metadata": {},
     "output_type": "execute_result"
    }
   ],
=======
   "outputs": [],
>>>>>>> 55b74bd475c42d3d06807089ef97d5bc42a63d85
   "source": [
    "#Dividir um array pelo outro\n",
    "array_1/array_2"
   ]
  },
  {
   "cell_type": "markdown",
   "metadata": {
    "application/vnd.databricks.v1+cell": {
     "cellMetadata": {},
     "inputWidgets": {},
     "nuid": "3465b976-0a68-4927-b078-bd5d974b4ec6",
     "showTitle": false,
     "title": ""
    },
    "id": "u7mjGQtyEYPs"
   },
   "source": [
    "**Obs.1:** As operações elementos a elementos tem que respeitar a dimensão dos arrays:"
   ]
  },
  {
   "cell_type": "code",
<<<<<<< HEAD
   "execution_count": 134,
=======
   "execution_count": 0,
>>>>>>> 55b74bd475c42d3d06807089ef97d5bc42a63d85
   "metadata": {
    "application/vnd.databricks.v1+cell": {
     "cellMetadata": {
      "byteLimit": 2048000,
      "rowLimit": 10000
     },
     "inputWidgets": {},
     "nuid": "092250cf-8b9c-4b00-81e6-4200046c8699",
     "showTitle": false,
     "title": ""
    },
    "id": "E3rXPa2sEVD0"
   },
<<<<<<< HEAD
   "outputs": [
    {
     "data": {
      "text/plain": [
       "array([2, 4, 6])"
      ]
     },
     "execution_count": 134,
     "metadata": {},
     "output_type": "execute_result"
    }
   ],
   "source": [
    "#Criar array 3 (2 elementos)\n",
    "array_3 = np.array([1,2,3])\n",
=======
   "outputs": [],
   "source": [
    "#Criar array 3 (2 elementos)\n",
    "array_3 = np.array([1,2])\n",
>>>>>>> 55b74bd475c42d3d06807089ef97d5bc42a63d85
    "#Somar array_1 com array_3\n",
    "array_1+array_3"
   ]
  },
  {
   "cell_type": "markdown",
   "metadata": {
    "application/vnd.databricks.v1+cell": {
     "cellMetadata": {},
     "inputWidgets": {},
     "nuid": "28bc6416-6e09-4583-aed0-0221b705498f",
     "showTitle": false,
     "title": ""
    },
    "id": "-JeNXAJwEraU"
   },
   "source": [
    "### **Operações de comparação e lógica:**\n",
    "\n",
    "O NumPy permite realizar operações de comparação (<, <=, >, >=, ==, !=) e operações lógicas (&, |, ~) entre arrays, criando arrays booleanos como resultado."
   ]
  },
  {
   "cell_type": "code",
<<<<<<< HEAD
   "execution_count": 135,
=======
   "execution_count": 0,
>>>>>>> 55b74bd475c42d3d06807089ef97d5bc42a63d85
   "metadata": {
    "application/vnd.databricks.v1+cell": {
     "cellMetadata": {
      "byteLimit": 2048000,
      "rowLimit": 10000
     },
     "inputWidgets": {},
     "nuid": "b3c6530a-bb11-4c68-8360-47aadac2865c",
     "showTitle": false,
     "title": ""
    },
    "id": "ZOYty8A4Eljm"
   },
<<<<<<< HEAD
   "outputs": [
    {
     "data": {
      "text/plain": [
       "array([1, 2, 3])"
      ]
     },
     "execution_count": 135,
     "metadata": {},
     "output_type": "execute_result"
    }
   ],
=======
   "outputs": [],
>>>>>>> 55b74bd475c42d3d06807089ef97d5bc42a63d85
   "source": [
    "array_1"
   ]
  },
  {
   "cell_type": "code",
<<<<<<< HEAD
   "execution_count": 136,
=======
   "execution_count": 0,
>>>>>>> 55b74bd475c42d3d06807089ef97d5bc42a63d85
   "metadata": {
    "application/vnd.databricks.v1+cell": {
     "cellMetadata": {
      "byteLimit": 2048000,
      "rowLimit": 10000
     },
     "inputWidgets": {},
     "nuid": "45bb4a08-2472-42e4-aabe-88371b27faab",
     "showTitle": false,
     "title": ""
    },
    "id": "lFY7ZKWeE-8r"
   },
<<<<<<< HEAD
   "outputs": [
    {
     "data": {
      "text/plain": [
       "array([False, False,  True])"
      ]
     },
     "execution_count": 136,
     "metadata": {},
     "output_type": "execute_result"
    }
   ],
=======
   "outputs": [],
>>>>>>> 55b74bd475c42d3d06807089ef97d5bc42a63d85
   "source": [
    "#Operação de comparação\n",
    "array_1>2"
   ]
  },
  {
   "cell_type": "code",
<<<<<<< HEAD
   "execution_count": 137,
=======
   "execution_count": 0,
>>>>>>> 55b74bd475c42d3d06807089ef97d5bc42a63d85
   "metadata": {
    "application/vnd.databricks.v1+cell": {
     "cellMetadata": {
      "byteLimit": 2048000,
      "rowLimit": 10000
     },
     "inputWidgets": {},
     "nuid": "47ed0ae1-dce4-472f-8cab-16e3683a5ee1",
     "showTitle": false,
     "title": ""
    }
   },
<<<<<<< HEAD
   "outputs": [
    {
     "data": {
      "text/plain": [
       "array([ True,  True,  True])"
      ]
     },
     "execution_count": 137,
     "metadata": {},
     "output_type": "execute_result"
    }
   ],
=======
   "outputs": [],
>>>>>>> 55b74bd475c42d3d06807089ef97d5bc42a63d85
   "source": [
    "array_2>2"
   ]
  },
  {
   "cell_type": "code",
<<<<<<< HEAD
   "execution_count": 138,
=======
   "execution_count": 0,
>>>>>>> 55b74bd475c42d3d06807089ef97d5bc42a63d85
   "metadata": {
    "application/vnd.databricks.v1+cell": {
     "cellMetadata": {
      "byteLimit": 2048000,
      "rowLimit": 10000
     },
     "inputWidgets": {},
     "nuid": "c25dff86-5fa0-4158-ae0c-d0178a35b6a0",
     "showTitle": false,
     "title": ""
    },
    "id": "82RskaJrFEor"
   },
<<<<<<< HEAD
   "outputs": [
    {
     "data": {
      "text/plain": [
       "array([ True,  True,  True])"
      ]
     },
     "execution_count": 138,
     "metadata": {},
     "output_type": "execute_result"
    }
   ],
=======
   "outputs": [],
>>>>>>> 55b74bd475c42d3d06807089ef97d5bc42a63d85
   "source": [
    "#Operações de lógica\n",
    "resultado_logico =(array_1>2) | (array_2>2)\n",
    "resultado_logico"
   ]
  },
  {
   "cell_type": "markdown",
   "metadata": {
    "application/vnd.databricks.v1+cell": {
     "cellMetadata": {},
     "inputWidgets": {},
     "nuid": "ab0d015e-92ff-4d90-89db-e2c2cc64db5b",
     "showTitle": false,
     "title": ""
    },
    "id": "zkzXae3GFak_"
   },
   "source": [
    "## Funções matemáticas universais\n",
    "\n",
    "O NumPy fornece funções matemáticas universais (np.sin(), np.cos(), np.exp(), np.sqrt(), etc.) que podem ser aplicadas a arrays NumPy, realizando a operação especificada em cada elemento do array.\n",
    "\n",
    "Muitos destes serão herdados pelo pandas, então os usaremos bastante no futuro próximo!"
   ]
  },
  {
   "cell_type": "code",
<<<<<<< HEAD
   "execution_count": 139,
=======
   "execution_count": 0,
>>>>>>> 55b74bd475c42d3d06807089ef97d5bc42a63d85
   "metadata": {
    "application/vnd.databricks.v1+cell": {
     "cellMetadata": {
      "byteLimit": 2048000,
      "rowLimit": 10000
     },
     "inputWidgets": {},
     "nuid": "eee404e4-10bf-4381-aaf6-5eb2a2f0f2c5",
     "showTitle": false,
     "title": ""
    },
    "id": "CB5oPqP5FTq0"
   },
<<<<<<< HEAD
   "outputs": [
    {
     "data": {
      "text/plain": [
       "array([1, 2, 3])"
      ]
     },
     "execution_count": 139,
     "metadata": {},
     "output_type": "execute_result"
    }
   ],
=======
   "outputs": [],
>>>>>>> 55b74bd475c42d3d06807089ef97d5bc42a63d85
   "source": [
    "#ver o array_1\n",
    "array_1"
   ]
  },
  {
   "cell_type": "code",
<<<<<<< HEAD
   "execution_count": 140,
=======
   "execution_count": 0,
>>>>>>> 55b74bd475c42d3d06807089ef97d5bc42a63d85
   "metadata": {
    "application/vnd.databricks.v1+cell": {
     "cellMetadata": {
      "byteLimit": 2048000,
      "rowLimit": 10000
     },
     "inputWidgets": {},
     "nuid": "a143deb6-2846-444e-a3a9-08606a1d44c3",
     "showTitle": false,
     "title": ""
    },
    "id": "faN3Vbh7FpXj"
   },
<<<<<<< HEAD
   "outputs": [
    {
     "data": {
      "text/plain": [
       "array([ 2.71828183,  7.3890561 , 20.08553692])"
      ]
     },
     "execution_count": 140,
     "metadata": {},
     "output_type": "execute_result"
    }
   ],
=======
   "outputs": [],
>>>>>>> 55b74bd475c42d3d06807089ef97d5bc42a63d85
   "source": [
    "# Aplicar a função de exponenciação a todos os elementos\n",
    "np.exp(array_1)"
   ]
  },
  {
   "cell_type": "code",
<<<<<<< HEAD
   "execution_count": 141,
=======
   "execution_count": 0,
>>>>>>> 55b74bd475c42d3d06807089ef97d5bc42a63d85
   "metadata": {
    "application/vnd.databricks.v1+cell": {
     "cellMetadata": {
      "byteLimit": 2048000,
      "rowLimit": 10000
     },
     "inputWidgets": {},
     "nuid": "e588af34-b7f9-4ebe-bbcc-106a5677b461",
     "showTitle": false,
     "title": ""
    },
    "id": "2J5jX44gFwlz"
   },
<<<<<<< HEAD
   "outputs": [
    {
     "data": {
      "text/plain": [
       "array([0.84147098, 0.90929743, 0.14112001])"
      ]
     },
     "execution_count": 141,
     "metadata": {},
     "output_type": "execute_result"
    }
   ],
=======
   "outputs": [],
>>>>>>> 55b74bd475c42d3d06807089ef97d5bc42a63d85
   "source": [
    "# Aplicar a função de seno a todos os elementos\n",
    "np.sin(array_1)"
   ]
  },
  {
   "cell_type": "code",
<<<<<<< HEAD
   "execution_count": 142,
=======
   "execution_count": 0,
>>>>>>> 55b74bd475c42d3d06807089ef97d5bc42a63d85
   "metadata": {
    "application/vnd.databricks.v1+cell": {
     "cellMetadata": {
      "byteLimit": 2048000,
      "rowLimit": 10000
     },
     "inputWidgets": {},
     "nuid": "8ecf4907-c009-486a-b30f-af97dc27fc94",
     "showTitle": false,
     "title": ""
    },
    "id": "G2JfdLjvF0lT"
   },
<<<<<<< HEAD
   "outputs": [
    {
     "data": {
      "text/plain": [
       "array([ 0.54030231, -0.41614684, -0.9899925 ])"
      ]
     },
     "execution_count": 142,
     "metadata": {},
     "output_type": "execute_result"
    }
   ],
=======
   "outputs": [],
>>>>>>> 55b74bd475c42d3d06807089ef97d5bc42a63d85
   "source": [
    "# Aplicar a função de cosseno a todos os elementos\n",
    "np.cos(array_1)"
   ]
  },
  {
   "cell_type": "code",
<<<<<<< HEAD
   "execution_count": 143,
=======
   "execution_count": 0,
>>>>>>> 55b74bd475c42d3d06807089ef97d5bc42a63d85
   "metadata": {
    "application/vnd.databricks.v1+cell": {
     "cellMetadata": {
      "byteLimit": 2048000,
      "rowLimit": 10000
     },
     "inputWidgets": {},
     "nuid": "a8487232-2cf6-4f47-95ec-0b8b6a559c49",
     "showTitle": false,
     "title": ""
    },
    "id": "8lxxd2--F7aj"
   },
<<<<<<< HEAD
   "outputs": [
    {
     "data": {
      "text/plain": [
       "array([1.        , 1.41421356, 1.73205081])"
      ]
     },
     "execution_count": 143,
     "metadata": {},
     "output_type": "execute_result"
    }
   ],
=======
   "outputs": [],
>>>>>>> 55b74bd475c42d3d06807089ef97d5bc42a63d85
   "source": [
    "# Aplicar a função da raiz quadrada a todos os elementos\n",
    "np.sqrt(array_1)"
   ]
  },
  {
   "cell_type": "markdown",
   "metadata": {
    "application/vnd.databricks.v1+cell": {
     "cellMetadata": {},
     "inputWidgets": {},
     "nuid": "06940223-6e03-46d8-81b4-3e906305239a",
     "showTitle": false,
     "title": ""
    },
    "id": "VuqBgVkmGGur"
   },
   "source": [
    "### **Operações de redução:**\n",
    "\n",
    "O NumPy oferece operações de redução, como soma (np.sum()), média (np.mean()), máximo (np.max()), mínimo (np.min()), entre outras. Essas operações agregam os valores do array em um único resultado."
   ]
  },
  {
   "cell_type": "code",
<<<<<<< HEAD
   "execution_count": 144,
=======
   "execution_count": 0,
>>>>>>> 55b74bd475c42d3d06807089ef97d5bc42a63d85
   "metadata": {
    "application/vnd.databricks.v1+cell": {
     "cellMetadata": {
      "byteLimit": 2048000,
      "rowLimit": 10000
     },
     "inputWidgets": {},
     "nuid": "9c739305-bbd6-43be-b3b7-677e63d3ea10",
     "showTitle": false,
     "title": ""
    },
    "id": "FawISoK4GQVF"
   },
<<<<<<< HEAD
   "outputs": [
    {
     "data": {
      "text/plain": [
       "array([51, 92, 14, 71, 60, 20, 82, 86, 74, 74])"
      ]
     },
     "execution_count": 144,
     "metadata": {},
     "output_type": "execute_result"
    }
   ],
=======
   "outputs": [],
>>>>>>> 55b74bd475c42d3d06807089ef97d5bc42a63d85
   "source": [
    "# fixando a seed: números aleatórios reproduzíveis, com np.random.seed()\n",
    "np.random.seed(42)\n",
    "rand = np.random.randint(0,100,10)\n",
    "rand\n"
   ]
  },
  {
   "cell_type": "code",
<<<<<<< HEAD
   "execution_count": 145,
=======
   "execution_count": 0,
>>>>>>> 55b74bd475c42d3d06807089ef97d5bc42a63d85
   "metadata": {
    "application/vnd.databricks.v1+cell": {
     "cellMetadata": {
      "byteLimit": 2048000,
      "rowLimit": 10000
     },
     "inputWidgets": {},
     "nuid": "e5816d41-c9c3-4850-a0ef-cfcdfd245a79",
     "showTitle": false,
     "title": ""
    },
    "id": "WkRattlMGBKb"
   },
<<<<<<< HEAD
   "outputs": [
    {
     "data": {
      "text/plain": [
       "92"
      ]
     },
     "execution_count": 145,
     "metadata": {},
     "output_type": "execute_result"
    }
   ],
=======
   "outputs": [],
>>>>>>> 55b74bd475c42d3d06807089ef97d5bc42a63d85
   "source": [
    "# maior valor\n",
    "rand.max()"
   ]
  },
  {
   "cell_type": "code",
<<<<<<< HEAD
   "execution_count": 147,
=======
   "execution_count": 0,
>>>>>>> 55b74bd475c42d3d06807089ef97d5bc42a63d85
   "metadata": {
    "application/vnd.databricks.v1+cell": {
     "cellMetadata": {
      "byteLimit": 2048000,
      "rowLimit": 10000
     },
     "inputWidgets": {},
     "nuid": "26267d53-6027-4345-b67e-493699cc082a",
     "showTitle": false,
     "title": ""
    },
    "id": "o5-C2GVxGTC7"
   },
<<<<<<< HEAD
   "outputs": [
    {
     "data": {
      "text/plain": [
       "1"
      ]
     },
     "execution_count": 147,
     "metadata": {},
     "output_type": "execute_result"
    }
   ],
=======
   "outputs": [],
>>>>>>> 55b74bd475c42d3d06807089ef97d5bc42a63d85
   "source": [
    "# indice do elemento máximo\n",
    "rand.argmax()"
   ]
  },
  {
   "cell_type": "code",
<<<<<<< HEAD
   "execution_count": 148,
=======
   "execution_count": 0,
>>>>>>> 55b74bd475c42d3d06807089ef97d5bc42a63d85
   "metadata": {
    "application/vnd.databricks.v1+cell": {
     "cellMetadata": {
      "byteLimit": 2048000,
      "rowLimit": 10000
     },
     "inputWidgets": {},
     "nuid": "15e37463-3307-4836-9d10-86ada2585dd2",
     "showTitle": false,
     "title": ""
    },
    "id": "VtaIXNkZGUWD"
   },
<<<<<<< HEAD
   "outputs": [
    {
     "data": {
      "text/plain": [
       "14"
      ]
     },
     "execution_count": 148,
     "metadata": {},
     "output_type": "execute_result"
    }
   ],
=======
   "outputs": [],
>>>>>>> 55b74bd475c42d3d06807089ef97d5bc42a63d85
   "source": [
    "# menor valor\n",
    "rand.min()"
   ]
  },
  {
   "cell_type": "code",
<<<<<<< HEAD
   "execution_count": 149,
=======
   "execution_count": 0,
>>>>>>> 55b74bd475c42d3d06807089ef97d5bc42a63d85
   "metadata": {
    "application/vnd.databricks.v1+cell": {
     "cellMetadata": {
      "byteLimit": 2048000,
      "rowLimit": 10000
     },
     "inputWidgets": {},
     "nuid": "42ac4e1b-91ea-42ff-992e-98137e3fb4c3",
     "showTitle": false,
     "title": ""
    },
    "id": "zdAtcTgaGXoL"
   },
<<<<<<< HEAD
   "outputs": [
    {
     "data": {
      "text/plain": [
       "2"
      ]
     },
     "execution_count": 149,
     "metadata": {},
     "output_type": "execute_result"
    }
   ],
=======
   "outputs": [],
>>>>>>> 55b74bd475c42d3d06807089ef97d5bc42a63d85
   "source": [
    "# indice do elemento minimo\n",
    "rand.argmin()"
   ]
  },
  {
   "cell_type": "code",
<<<<<<< HEAD
   "execution_count": 150,
=======
   "execution_count": 0,
>>>>>>> 55b74bd475c42d3d06807089ef97d5bc42a63d85
   "metadata": {
    "application/vnd.databricks.v1+cell": {
     "cellMetadata": {
      "byteLimit": 2048000,
      "rowLimit": 10000
     },
     "inputWidgets": {},
     "nuid": "70d863c0-87eb-4275-bc2d-3152ec39a31c",
     "showTitle": false,
     "title": ""
    },
    "id": "1VdTk8UJGY5s"
   },
<<<<<<< HEAD
   "outputs": [
    {
     "data": {
      "text/plain": [
       "624"
      ]
     },
     "execution_count": 150,
     "metadata": {},
     "output_type": "execute_result"
    }
   ],
=======
   "outputs": [],
>>>>>>> 55b74bd475c42d3d06807089ef97d5bc42a63d85
   "source": [
    "# soma de todos os items\n",
    "rand.sum()"
   ]
  },
  {
   "cell_type": "code",
<<<<<<< HEAD
   "execution_count": 151,
=======
   "execution_count": 0,
>>>>>>> 55b74bd475c42d3d06807089ef97d5bc42a63d85
   "metadata": {
    "application/vnd.databricks.v1+cell": {
     "cellMetadata": {
      "byteLimit": 2048000,
      "rowLimit": 10000
     },
     "inputWidgets": {},
     "nuid": "e6b4cbd8-499f-495a-94b5-3ddc36e4dc6d",
     "showTitle": false,
     "title": ""
    },
    "id": "o9Vpp9U2Gawz"
   },
<<<<<<< HEAD
   "outputs": [
    {
     "data": {
      "text/plain": [
       "62.4"
      ]
     },
     "execution_count": 151,
     "metadata": {},
     "output_type": "execute_result"
    }
   ],
=======
   "outputs": [],
>>>>>>> 55b74bd475c42d3d06807089ef97d5bc42a63d85
   "source": [
    "# media dos elementos\n",
    "rand.mean()"
   ]
  },
  {
   "cell_type": "markdown",
   "metadata": {
    "application/vnd.databricks.v1+cell": {
     "cellMetadata": {},
     "inputWidgets": {},
     "nuid": "67c68a74-5acb-424a-9001-d4b4c58a8abd",
     "showTitle": false,
     "title": ""
    },
    "id": "zEt9VskxGe1P"
   },
   "source": [
    "### Outros métodos úteis\n",
    "\n",
    "O numpy é uma ferramenta poderosa para lidar com cálculos numéricos e é base para o pandas, de modo que conseguimos manipular os dados de forma eficiente e concisa em arrays multidimensionais."
   ]
  },
  {
   "cell_type": "code",
<<<<<<< HEAD
   "execution_count": 152,
=======
   "execution_count": 0,
>>>>>>> 55b74bd475c42d3d06807089ef97d5bc42a63d85
   "metadata": {
    "application/vnd.databricks.v1+cell": {
     "cellMetadata": {
      "byteLimit": 2048000,
      "rowLimit": 10000
     },
     "inputWidgets": {},
     "nuid": "2927aff5-5ad1-4e43-a6ff-a608c3a74083",
     "showTitle": false,
     "title": ""
    },
    "id": "b1Ja_rPHGcgj"
   },
<<<<<<< HEAD
   "outputs": [
    {
     "data": {
      "text/plain": [
       "25.370061095708856"
      ]
     },
     "execution_count": 152,
     "metadata": {},
     "output_type": "execute_result"
    }
   ],
=======
   "outputs": [],
>>>>>>> 55b74bd475c42d3d06807089ef97d5bc42a63d85
   "source": [
    "# desvio padrão\n",
    "rand.std()"
   ]
  },
  {
   "cell_type": "code",
<<<<<<< HEAD
   "execution_count": 153,
=======
   "execution_count": 0,
>>>>>>> 55b74bd475c42d3d06807089ef97d5bc42a63d85
   "metadata": {
    "application/vnd.databricks.v1+cell": {
     "cellMetadata": {
      "byteLimit": 2048000,
      "rowLimit": 10000
     },
     "inputWidgets": {},
     "nuid": "4ee0b8dc-65fb-41be-ae04-0a09567219bc",
     "showTitle": false,
     "title": ""
    },
    "id": "-g6dDp86GsAz"
   },
   "outputs": [],
   "source": [
    "# ordenar a lista\n",
    "# por padrão, essa operação ocorre \"inplace\"\n",
    "# ou seja, ela ordena o objeto original, e não retorna nada\n",
    "rand.sort()"
   ]
  },
  {
   "cell_type": "code",
<<<<<<< HEAD
   "execution_count": 154,
=======
   "execution_count": 0,
>>>>>>> 55b74bd475c42d3d06807089ef97d5bc42a63d85
   "metadata": {
    "application/vnd.databricks.v1+cell": {
     "cellMetadata": {
      "byteLimit": 2048000,
      "rowLimit": 10000
     },
     "inputWidgets": {},
     "nuid": "d561e24a-59fb-4c19-abca-dacea87cb13b",
     "showTitle": false,
     "title": ""
    }
   },
<<<<<<< HEAD
   "outputs": [
    {
     "data": {
      "text/plain": [
       "array([14, 20, 51, 60, 71, 74, 74, 82, 86, 92])"
      ]
     },
     "execution_count": 154,
     "metadata": {},
     "output_type": "execute_result"
    }
   ],
=======
   "outputs": [],
>>>>>>> 55b74bd475c42d3d06807089ef97d5bc42a63d85
   "source": [
    "rand"
   ]
  },
  {
   "cell_type": "code",
<<<<<<< HEAD
   "execution_count": 155,
=======
   "execution_count": 0,
>>>>>>> 55b74bd475c42d3d06807089ef97d5bc42a63d85
   "metadata": {
    "application/vnd.databricks.v1+cell": {
     "cellMetadata": {
      "byteLimit": 2048000,
      "rowLimit": 10000
     },
     "inputWidgets": {},
     "nuid": "8139c398-3d13-4fd1-bb6d-4a97a25a5531",
     "showTitle": false,
     "title": ""
    },
    "id": "zYjW-vMoGvjj"
   },
<<<<<<< HEAD
   "outputs": [
    {
     "data": {
      "text/plain": [
       "array([14., 20., 51., 60., 71., 74., 74., 82., 86., 92.])"
      ]
     },
     "execution_count": 155,
     "metadata": {},
     "output_type": "execute_result"
    }
   ],
=======
   "outputs": [],
>>>>>>> 55b74bd475c42d3d06807089ef97d5bc42a63d85
   "source": [
    "# Trocando o tipo dos dados nas lista com o .astype()\n",
    "rand.astype(float)"
   ]
  },
  {
   "cell_type": "markdown",
   "metadata": {
    "application/vnd.databricks.v1+cell": {
     "cellMetadata": {},
     "inputWidgets": {},
     "nuid": "d97e5fc2-0cd6-46d3-ac1c-931c527c6f7b",
     "showTitle": false,
     "title": ""
    },
    "id": "z1H7a8E5G0A1"
   },
   "source": [
    "## Para praticar (Hora boa)!!\n",
    "\n",
    "Vamos dividi-los em grupo para resolução dos seguintes exercícios, usando numpy."
   ]
  },
  {
   "cell_type": "markdown",
   "metadata": {
    "application/vnd.databricks.v1+cell": {
     "cellMetadata": {},
     "inputWidgets": {},
     "nuid": "fd7bc061-94c1-4254-8036-a1c167cf920d",
     "showTitle": false,
     "title": ""
    },
    "id": "0RBxhUDPHDPw"
   },
   "source": [
    "**1.** Escreva uma função que receba dois argumentos: um número qualquer de arrays (de mesmo tamanho) em numpy; e o número de elementos de cada array. A função deve retornar um escalar que representa a soma total de todos estes arrays. Inclua na função uma condição de verificação em que, caso haja um array de tamanho distinto dos demais, um erro seja retornado."
   ]
  },
  {
   "cell_type": "code",
<<<<<<< HEAD
   "execution_count": 163,
   "metadata": {
    "application/vnd.databricks.v1+cell": {
     "cellMetadata": {},
=======
   "execution_count": 0,
   "metadata": {
    "application/vnd.databricks.v1+cell": {
     "cellMetadata": {
      "byteLimit": 2048000,
      "rowLimit": 10000
     },
>>>>>>> 55b74bd475c42d3d06807089ef97d5bc42a63d85
     "inputWidgets": {},
     "nuid": "a07f2071-776a-446f-939c-02bd2730f7f2",
     "showTitle": false,
     "title": ""
    },
    "id": "J3MWvo5TGxeT"
   },
<<<<<<< HEAD
   "outputs": [
    {
     "name": "stdout",
     "output_type": "stream",
     "text": [
      "A soma total dos arrays é: 12\n"
     ]
    }
   ],
   "source": [
    "import numpy as np\n",
    "\n",
    "def somando_arrays (*arrays):\n",
    "    tamanho_esperado = len(arrays[0])\n",
    "    for arr in arrays:\n",
    "        if len(arr) != tamanho_esperado:\n",
    "            raise ValueError ('Os arrays devem ter o mesmo tamanho')\n",
    "    \n",
    "    soma = np.sum(arrays)\n",
    "    return soma\n",
    "\n",
    "array1 = np.array([1,2,3])\n",
    "array2 = np.array([1,2,3])\n",
    "\n",
    "try:\n",
    "    resultado = somando_arrays(array1, array2)\n",
    "    print(f\"A soma total dos arrays é: {resultado}\")\n",
    "except ValueError as e:\n",
    "    print(f\"Erro: {e}\")\n"
=======
   "outputs": [],
   "source": [
    "import numpy as np"
   ]
  },
  {
   "cell_type": "code",
   "execution_count": 0,
   "metadata": {
    "application/vnd.databricks.v1+cell": {
     "cellMetadata": {
      "byteLimit": 2048000,
      "rowLimit": 10000
     },
     "inputWidgets": {},
     "nuid": "e9a26ea4-29d0-43eb-8195-ed9f02370010",
     "showTitle": false,
     "title": ""
    }
   },
   "outputs": [],
   "source": [
    "def soma_total(*arrays,num):\n",
    "    # Verifica se todos os arrays têm o mesmo tamanho\n",
    "    tamanho = num\n",
    "    for arr in arrays:\n",
    "        if len(arr) != tamanho:\n",
    "            raise ValueError(\"Os arrays não têm o mesmo tamanho!\")\n",
    "\n",
    "    # Soma total dos elementos dos arrays\n",
    "    soma = np.sum(np.array(arrays))\n",
    "\n",
    "    return soma\n",
    "\n",
    "# Exemplo de uso da função\n",
    "array1 = np.array([1, 2, 3])\n",
    "array2 = np.array([4, 5, 6])\n",
    "array3 = np.array([7, 8, 9])\n",
    "\n",
    "resultado = soma_total(array1, array2, array3,num=3)\n",
    "print(resultado)"
>>>>>>> 55b74bd475c42d3d06807089ef97d5bc42a63d85
   ]
  },
  {
   "cell_type": "markdown",
   "metadata": {
    "application/vnd.databricks.v1+cell": {
     "cellMetadata": {},
     "inputWidgets": {},
     "nuid": "025d48d8-1579-42c0-b1f0-0145b15d4d99",
     "showTitle": false,
     "title": ""
    },
    "id": "U5qyhvkKHqq4"
   },
   "source": [
    "**2.** Em estatística, a normalização de uma distribuição de dados pode ser feita subtraindo o valor médio da distribuição de cada valor do conjunto de dados, dividindo o resultado pelo desvio-padrão da distribuição.\n",
    "\n",
    "Escreva uma função que normalize os dados recebidos por um array numpy qualquer, conforme descrito anteriormente."
   ]
  },
  {
   "cell_type": "code",
<<<<<<< HEAD
   "execution_count": 3,
   "metadata": {
    "application/vnd.databricks.v1+cell": {
     "cellMetadata": {},
=======
   "execution_count": 0,
   "metadata": {
    "application/vnd.databricks.v1+cell": {
     "cellMetadata": {
      "byteLimit": 2048000,
      "rowLimit": 10000
     },
>>>>>>> 55b74bd475c42d3d06807089ef97d5bc42a63d85
     "inputWidgets": {},
     "nuid": "3a58c132-1c1a-4d31-958c-aeb031ae49a6",
     "showTitle": false,
     "title": ""
    },
    "id": "i7wZR8oFHnOz"
   },
<<<<<<< HEAD
   "outputs": [
    {
     "name": "stdout",
     "output_type": "stream",
     "text": [
      "[0.62559811 0.44673563 0.22366354 0.34639842 0.75289719 0.62094784\n",
      " 0.44185054 0.50451466 0.78694096 0.25493658 0.05589894 0.41061418\n",
      " 0.3342501  0.963017   0.10206495 0.70105345 0.7348307  0.47211413\n",
      " 0.27660473 0.49535878]\n",
      "[ 0.6359175  -0.13217424 -1.09011592 -0.56305378  1.18257978  0.61594776\n",
      " -0.15315234  0.11594708  1.32877445 -0.95581966 -1.8105499  -0.28729112\n",
      " -0.61522249  2.08490031 -1.61229852  0.95994646  1.1049966  -0.02319098\n",
      " -0.86276984  0.07662885]\n"
     ]
    }
   ],
   "source": [
    "import numpy as np\n",
    "\n",
    "def func_norm(arr):\n",
    "    media = arr.mean()\n",
    "    dvp = arr.std()\n",
    "    return (arr - media)/dvp\n",
    "   \n",
    "rand = np.random.rand(20)\n",
    "print(rand)\n",
    "resultado = func_norm(rand)\n",
    "print(resultado)\n",
    "\n"
=======
   "outputs": [],
   "source": [
    "def func_norm(array):\n",
    "    media = array.mean()\n",
    "    dvp = array.std()\n",
    "    return (array - media)/dvp\n",
    "#Criando um array\n",
    "rand = np.random.rand(20)\n",
    "print(rand)\n",
    "resultado = func_norm(rand)\n",
    "print(resultado)"
>>>>>>> 55b74bd475c42d3d06807089ef97d5bc42a63d85
   ]
  },
  {
   "cell_type": "markdown",
   "metadata": {
    "application/vnd.databricks.v1+cell": {
     "cellMetadata": {},
     "inputWidgets": {},
     "nuid": "988ab7ad-9717-4ddc-869e-2bff5d1a894b",
     "showTitle": false,
     "title": ""
    },
    "id": "4C7_WFvMIaEe"
   },
   "source": [
    "**3.** Escreva uma função em numpy que receba um array contendo notas de uma turma de 100 estudantes. Considere que a nota de aprovação da turma é 5.0. A função deve retornar, em um array numpy, nesta ordem:\n",
    "- a média e o desvio-padrão das notas da turma;\n",
    "- o número de notas maiores que 7.0;\n",
    "- o número de reprovações da turma;\n",
    "- a menor nota da turma;\n",
    "- a maior nota da turma."
   ]
  },
  {
   "cell_type": "code",
<<<<<<< HEAD
   "execution_count": 5,
   "metadata": {
    "application/vnd.databricks.v1+cell": {
     "cellMetadata": {},
=======
   "execution_count": 0,
   "metadata": {
    "application/vnd.databricks.v1+cell": {
     "cellMetadata": {
      "byteLimit": 2048000,
      "rowLimit": 10000
     },
>>>>>>> 55b74bd475c42d3d06807089ef97d5bc42a63d85
     "inputWidgets": {},
     "nuid": "5d246ed6-c25f-467f-b3a3-5d27d8c6a908",
     "showTitle": false,
     "title": ""
    },
    "id": "0sc4zFPjJkLj"
   },
<<<<<<< HEAD
   "outputs": [
    {
     "name": "stdout",
     "output_type": "stream",
     "text": [
      "[ 4.79  3.03 24.   51.    0.   10.  ]\n"
     ]
    }
   ],
   "source": [
    "def analisando_notas (notas):\n",
    "\n",
    "    media = round(notas.mean(),2)\n",
    "    desvio_padrao = round(notas.std(),2)\n",
    "    notas_maiores_que_sete = (notas > 7).sum()\n",
    "    notas_menores_que_cinco = (notas < 5).sum()\n",
    "    menor_nota = notas.min()\n",
    "    maior_nota = notas.max()\n",
    "\n",
    "    resultado = np.array([media,desvio_padrao,notas_maiores_que_sete,notas_menores_que_cinco,menor_nota,maior_nota])\n",
    "                         \n",
    "    return resultado\n",
    "\n",
    "np.random.seed(0)\n",
    "notas_turma = np.random.randint(0, 11, size=100) \n",
    "resultado_analise = analisando_notas(notas_turma)\n",
    "print(resultado_analise)\n"
=======
   "outputs": [],
   "source": [
    "def info_turma(notas):\n",
    "    media = notas.mean()\n",
    "    dvp = notas.std()\n",
    "    maior_que_sete = (notas > 7).sum()\n",
    "    num_repro = (notas < 5).sum()\n",
    "    menor_nota = notas.min()\n",
    "    maior_nota = notas.max()\n",
    "    return np.array([media,dvp,maior_que_sete,\n",
    "                     num_repro,menor_nota,maior_nota])\n",
    "#Gerar um array com notas entre 0 a 10 de 100 alunos\n",
    "np.random.seed(42)\n",
    "notas_turma = np.round(np.random.uniform(0,10,100),2)\n",
    "info_turma(notas_turma)"
>>>>>>> 55b74bd475c42d3d06807089ef97d5bc42a63d85
   ]
  },
  {
   "cell_type": "markdown",
   "metadata": {
    "application/vnd.databricks.v1+cell": {
     "cellMetadata": {},
     "inputWidgets": {},
     "nuid": "219d4b01-e639-4c71-8e5f-b4dc0effad41",
     "showTitle": false,
     "title": ""
    },
    "id": "z9a_BRVwJ08x"
   },
   "source": [
    "**4.** Em Geometria Analítica, um **vetor** é uma quantidade que pode ser definida por um énuplo (uma sequência ordenada de *n* elementos) em que cada elemento representa a intensidade do vetor na direção especificada pela i-ésima componente desta sequência.\n",
    "\n",
    "Quando pensamos em duas dimensões, por exemplo, o vetor $R = (b,a)$ define, geometricamente, a entidade representada na figura abaixo, com componentes nos eixos x e y usuais.\n",
    "\n",
    "<img src = \"https://static.todamateria.com.br/upload/im/ag/image-721.jpg?auto_optimize=low\" />\n",
    "\n",
    "O **módulo** deste vetor, também chamado de intensidade, está geometricamente relacionado ao seu comprimento, e pode ser calculado diretamente pelas suas componentes, por meio de uma operação conhecida como **produto escalar** do vetor com ele mesmo. O módulo quadrático é expresso, desta forma, por:\n",
    "\n",
    "$|A|^2 = \\vec{A} \\cdot \\vec{A}$\n",
    "\n",
    "Por outro lado, o produto escalar entre dois vetores $A = (a_{x}, a_{y})$ e $B = (b_{x}, b_{y})$ é dado por:\n",
    "\n",
    "$\\vec{A} \\cdot \\vec{B} = a_{x} \\times b_{x} + a_{y} \\times b_{y}$ (e esta definição vale para qualquer que seja a dimensão do vetor).\n",
    "\n",
    "O módulo quadrático de um vetor é, portanto:\n",
    "\n",
    "$|A|² = a_{x}^2 + b_{x}^2$."
   ]
  },
  {
   "cell_type": "code",
<<<<<<< HEAD
   "execution_count": 6,
   "metadata": {
    "application/vnd.databricks.v1+cell": {
     "cellMetadata": {},
=======
   "execution_count": 0,
   "metadata": {
    "application/vnd.databricks.v1+cell": {
     "cellMetadata": {
      "byteLimit": 2048000,
      "rowLimit": 10000
     },
>>>>>>> 55b74bd475c42d3d06807089ef97d5bc42a63d85
     "inputWidgets": {},
     "nuid": "cecc0a7c-eb00-4bbb-a5fe-99958db6d7e3",
     "showTitle": false,
     "title": ""
    },
    "id": "QzHi2IL6JmfT"
   },
<<<<<<< HEAD
   "outputs": [
    {
     "data": {
      "text/plain": [
       "9.539392014169456"
      ]
     },
     "execution_count": 6,
     "metadata": {},
     "output_type": "execute_result"
    }
   ],
   "source": [
    "def modulo_array(array):\n",
    "    modulo = np.sqrt(np.sum(array**2))\n",
    "    return modulo\n",
    "\n",
    "array = np.array([[1,2,3],[4,5,6]])\n",
    "modulo_array (array)"
   ]
  },
  {
   "cell_type": "code",
   "execution_count": null,
   "metadata": {},
   "outputs": [],
   "source": []
=======
   "outputs": [],
   "source": [
    "def modulo_array(array):\n",
    "    #Calcular o módulo desse array\n",
    "    modulo = np.sqrt(np.sum(array**2))\n",
    "    return modulo\n",
    "#Exemplo de uso da função\n",
    "array = np.array([[1,2,3],[4,5,6]])\n",
    "modulo_array(array)"
   ]
>>>>>>> 55b74bd475c42d3d06807089ef97d5bc42a63d85
  }
 ],
 "metadata": {
  "application/vnd.databricks.v1+notebook": {
   "dashboards": [],
   "language": "python",
   "notebookMetadata": {
    "pythonIndentUnit": 4
   },
   "notebookName": "Aula_02_Numpy_(Parte_1)",
   "widgets": {}
  },
  "colab": {
   "provenance": []
  },
  "kernelspec": {
   "display_name": "Python 3",
   "name": "python3"
  },
  "language_info": {
   "codemirror_mode": {
    "name": "ipython",
    "version": 3
   },
   "file_extension": ".py",
   "mimetype": "text/x-python",
   "name": "python",
   "nbconvert_exporter": "python",
   "pygments_lexer": "ipython3",
<<<<<<< HEAD
   "version": "3.11.5"
=======
   "version": "3.11.4"
>>>>>>> 55b74bd475c42d3d06807089ef97d5bc42a63d85
  }
 },
 "nbformat": 4,
 "nbformat_minor": 0
}
